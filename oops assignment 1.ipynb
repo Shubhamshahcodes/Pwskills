{
 "cells": [
  {
   "cell_type": "code",
   "execution_count": null,
   "id": "bd9acb93-9dd7-4469-af35-41539f02821f",
   "metadata": {},
   "outputs": [],
   "source": [
    "Q1.\n",
    "\n",
    "A class and an object are important notions in Object-Oriented Programming (OOP) that are used to organise and represent real-world items and their behaviours.\n",
    "\n",
    "Class:\n",
    "A class is a blueprint or template for the creation of things. \n",
    "It defines a new data type that contains data (attributes) and behaviours (methods) shared by a collection of objects. \n",
    "It functions similarly to a blueprint, describing how objects of that class should be formed and what features they should have. \n",
    "Each object formed from a class is referred to as an instance of that class.\n",
    "\n",
    "A class is a category or kind of object that defines the common attributes and behaviours that all objects of that type should have.\n",
    "\n",
    "Object: \n",
    "\n",
    "An object is a class instance, which means it was produced following the class's blueprint. \n",
    "It is a physical entity that lives in memory and has its own distinct data and behaviour based on the class to which it belongs. \n",
    "Each object is a self-contained entity with its own state (attribute values) and the ability to perform actions (methods) provided by the class.\n",
    "Objects are crucial to OOP, allowing you to describe real-world entities as separate, self-contained units with their own state and behaviour.\n"
   ]
  },
  {
   "cell_type": "code",
   "execution_count": 5,
   "id": "b7b4be54-53b7-49da-855c-746d906ec058",
   "metadata": {},
   "outputs": [],
   "source": [
    "#example:\n",
    "\n",
    "class pwskills:\n",
    "    def welcome_msg(self):\n",
    "        print(\"Welcome sir\")\n",
    "    "
   ]
  },
  {
   "cell_type": "code",
   "execution_count": 2,
   "id": "63c6ec1c-0ddc-4098-8eba-bf08b29dee79",
   "metadata": {},
   "outputs": [],
   "source": [
    "pw=pwskills()"
   ]
  },
  {
   "cell_type": "code",
   "execution_count": 4,
   "id": "b97b6de5-c3b4-491c-afb9-6d0d130b0ed4",
   "metadata": {},
   "outputs": [
    {
     "name": "stdout",
     "output_type": "stream",
     "text": [
      "Welcome sir\n"
     ]
    }
   ],
   "source": [
    "pw.welcome_msg()"
   ]
  },
  {
   "cell_type": "code",
   "execution_count": null,
   "id": "7691ffcd-ff4d-4f42-a710-245e71c46292",
   "metadata": {},
   "outputs": [],
   "source": [
    "#Explanation:\n",
    "\n",
    "pwskills is the class that is created. PW is the object.\n"
   ]
  },
  {
   "cell_type": "code",
   "execution_count": null,
   "id": "c5de6f8e-1881-41cb-a366-ba7ab3e4abf7",
   "metadata": {},
   "outputs": [],
   "source": [
    "Q2\n",
    "\n",
    "Object-Oriented Programming (OOP) is built on four pillars:\n",
    "\n",
    "1.Encapsulation\n",
    "Encapsulation is the combination of data (attributes) and methods (behaviours) that operate on that data into a single unit known as a class. \n",
    "It hides the class's internal implementation details from the outside world and just exposes the essential interfaces for interaction. \n",
    "Encapsulation allows data to be accessed and updated via techniques, allowing for more control over data access and maintaining data integrity.\n",
    "\n",
    "2.Abstraction: \n",
    "Abstraction focuses on conveying an object's fundamental traits and behaviours while obscuring superfluous information. \n",
    "It enables you to specify the structure and common behaviour of objects without giving their entire implementation by creating abstract classes or interfaces. \n",
    "Abstraction aids in the creation of a high-level perspective of things as well as the simplification of complicated systems by breaking them down into manageable components.\n",
    "\n",
    "3.Inheritance\n",
    "Inheritance is a method that allows one class to inherit properties and behaviours from another class (superclass or base class).\n",
    "The features of the superclass can be extended or overridden by the subclass. \n",
    "Inheritance encourages code reuse and aids in the development of a class hierarchy in which common characteristics and functions are declared in a base class and reused by several subclasses.\n",
    "\n",
    "4.Polymorphism:\n",
    "Polymorphism refers to the presence of numerous forms. \n",
    "Polymorphism in OOP allows objects of various classes to be considered as objects of the same base class. \n",
    "It enables a single interface to represent many data kinds, allowing for consistent interaction with objects of various classes. \n",
    "Method overriding (runtime polymorphism) and method overloading (compile-time polymorphism) can be used to accomplish polymorphism.\n",
    "\n",
    "By organising data and behaviour into objects and giving a clear framework for code organisation and reuse, these four pillars constitute the core of Object-Oriented Programming, allowing the construction of modular, manageable, and extensible software systems.\n",
    "\n",
    "  \n"
   ]
  },
  {
   "cell_type": "code",
   "execution_count": null,
   "id": "3a1ed10f-6d4c-4163-85de-c3c01fcb00ee",
   "metadata": {},
   "outputs": [],
   "source": [
    "Q3\n",
    "\n",
    "In Python classes, the __init__() function, often known as the constructor, is a special method. \n",
    "When a class object is created, it is automatically called. The __init__() function's principal purpose is to initialise the object's attributes (state), setting their initial values when the object is created.\n",
    "\n",
    "In other words, the __init__() method enables you to conduct any setup or initialization that is required when creating an object, guaranteeing that the object is in a legal condition from the start.\n",
    "\n"
   ]
  },
  {
   "cell_type": "code",
   "execution_count": 14,
   "id": "01471665-1b1a-4867-b055-76ec9cd95849",
   "metadata": {},
   "outputs": [],
   "source": [
    "class Person:\n",
    "    def __init__(self, name, age, occupation):\n",
    "        self.name = name\n",
    "        self.age = age\n",
    "        self.occupation = occupation\n",
    "    \n",
    "    #In this example, the Person class has an __init__() method that takes three parameters (name, age, and occupation). \n",
    "    #When a p1 object is created, the __init__() method is automatically called with the provided arguments, and the object's attributes (name, age, and occupation) are initialized with those values."
   ]
  },
  {
   "cell_type": "code",
   "execution_count": 8,
   "id": "03f3705a-0b52-4c02-878e-498cf7997517",
   "metadata": {},
   "outputs": [],
   "source": [
    "p1=Person(\"shubh\",13,\"teacher\")"
   ]
  },
  {
   "cell_type": "code",
   "execution_count": 9,
   "id": "b501118d-c824-471d-9ad0-a52f72a9422b",
   "metadata": {},
   "outputs": [
    {
     "data": {
      "text/plain": [
       "'teacher'"
      ]
     },
     "execution_count": 9,
     "metadata": {},
     "output_type": "execute_result"
    }
   ],
   "source": [
    "p1.occupation"
   ]
  },
  {
   "cell_type": "code",
   "execution_count": 10,
   "id": "6b5954d0-a9c2-41b7-bc9a-89d0500c4e28",
   "metadata": {},
   "outputs": [
    {
     "data": {
      "text/plain": [
       "13"
      ]
     },
     "execution_count": 10,
     "metadata": {},
     "output_type": "execute_result"
    }
   ],
   "source": [
    "p1.age"
   ]
  },
  {
   "cell_type": "code",
   "execution_count": 13,
   "id": "056889dd-2015-499e-af73-743def95ad9d",
   "metadata": {},
   "outputs": [
    {
     "data": {
      "text/plain": [
       "'shubh'"
      ]
     },
     "execution_count": 13,
     "metadata": {},
     "output_type": "execute_result"
    }
   ],
   "source": [
    "p1.name"
   ]
  },
  {
   "cell_type": "code",
   "execution_count": null,
   "id": "addb419d-1cc9-4c02-9266-d496960951bf",
   "metadata": {},
   "outputs": [],
   "source": [
    "Q4\n",
    "\n",
    "In Object-Oriented Programming (OOP), self refers to the class instance. \n",
    "In instance method declarations within a class, it is used as the first parameter. \n",
    "When you call a method on an object, Python automatically gives the object's reference as the first parameter to the method, which is commonly referred to as self.\n",
    "\n",
    "The following are the key reasons why self is used in OOP:\n",
    "\n",
    "Instance Method Access: \n",
    "Instance methods can use self to access and act on the attributes and other methods of the class's unique instance (object). \n",
    "It tells the method whose object it belongs to and allows it to operate with the object's specific data.\n",
    "\n",
    "Multiple Instances: \n",
    "In OOP, multiple instances (objects) of a class can be created. \n",
    "Each instance contains distinct data and behaviour. \n",
    "The methods can differentiate between multiple instances of the class and act on the correct data associated with each instance by using self.\n",
    "\n",
    "Method Invocation:\n",
    "When you call a method on an object, you don't have to supply the object as an argument. \n",
    "That is handled via the self parameter. \n",
    "It makes the method invocation syntax simpler and the code more understandable.\n"
   ]
  },
  {
   "cell_type": "code",
   "execution_count": 19,
   "id": "3c8f5827-e2cf-4b7b-9cc7-1f910a3ae4fe",
   "metadata": {},
   "outputs": [],
   "source": [
    "class Person:\n",
    "    def __init__(self, name):\n",
    "        self.name = name\n",
    "        \n",
    "    def greet(self):\n",
    "        return self.name"
   ]
  },
  {
   "cell_type": "code",
   "execution_count": 20,
   "id": "353db39b-dfca-4d98-a262-b8a67541760a",
   "metadata": {},
   "outputs": [],
   "source": [
    "P1=Person(\"shubh\")"
   ]
  },
  {
   "cell_type": "code",
   "execution_count": 21,
   "id": "0acbf78d-6a31-45a7-a64a-883fee84bcd0",
   "metadata": {},
   "outputs": [
    {
     "data": {
      "text/plain": [
       "'shubh'"
      ]
     },
     "execution_count": 21,
     "metadata": {},
     "output_type": "execute_result"
    }
   ],
   "source": [
    "P1.name"
   ]
  },
  {
   "cell_type": "code",
   "execution_count": null,
   "id": "d40c71fd-c09f-48dc-a8c3-422a952009bf",
   "metadata": {},
   "outputs": [],
   "source": [
    "Here, In this example, the greet() method uses the self parameter to access the name attribute of the object it is called on. \n",
    "The self.name expression refers to the name attribute of the specific Person object."
   ]
  },
  {
   "cell_type": "code",
   "execution_count": null,
   "id": "c640f113-db10-4578-bb3b-c13d81f4c784",
   "metadata": {},
   "outputs": [],
   "source": []
  },
  {
   "cell_type": "code",
   "execution_count": null,
   "id": "99f960e6-0d5d-43d7-aa9e-01d40a7f5890",
   "metadata": {},
   "outputs": [],
   "source": [
    "Q5\n",
    "\n",
    "In Object-Oriented Programming (OOP), inheritance is a basic notion that allows a class (subclass or derived class) to inherit properties and behaviours from another class (superclass or base class). \n",
    "The subclass can enhance or override the functionality of the superclass, facilitating code reuse and establishing a class hierarchy.\n",
    "\n",
    "Types of Inheritance:\n",
    "\n"
   ]
  },
  {
   "cell_type": "code",
   "execution_count": 23,
   "id": "eb63c563-0be9-4be1-8b25-f0c115802b36",
   "metadata": {},
   "outputs": [],
   "source": [
    "'''Single Inheritance: \n",
    "A subclass inherits from only one superclass in a single inheritance situation. \n",
    "It generates a linear inheritance chain with just one direct superclass for each subclass.'''\n",
    "\n",
    "\"example\"\n",
    "\n",
    "class Animal:\n",
    "    def sound(self):\n",
    "        return \"Generic animal sound\"\n",
    "\n",
    "class Dog(Animal):\n",
    "    def sound(self):\n",
    "        return \"Woof! Woof!\"\n",
    "\n",
    "\n"
   ]
  },
  {
   "cell_type": "code",
   "execution_count": 24,
   "id": "9b226884-45ab-4694-a8ed-365b5555d8ea",
   "metadata": {},
   "outputs": [],
   "source": [
    "shiro=Dog()"
   ]
  },
  {
   "cell_type": "code",
   "execution_count": 26,
   "id": "b6b56c0d-6c1c-4ec0-9348-8d3ab277a8d2",
   "metadata": {},
   "outputs": [
    {
     "data": {
      "text/plain": [
       "'Woof! Woof!'"
      ]
     },
     "execution_count": 26,
     "metadata": {},
     "output_type": "execute_result"
    }
   ],
   "source": [
    "shiro.sound()"
   ]
  },
  {
   "cell_type": "code",
   "execution_count": null,
   "id": "da8cd20c-c356-47c7-8b14-4cfc51642dd4",
   "metadata": {},
   "outputs": [],
   "source": [
    "'''\n",
    "The Dog class inherits from the Animal class via single inheritance in this example. \n",
    "The Dog class modifies the Animal class's sound() function to offer its own rendition of a dog's sound.'''\n"
   ]
  },
  {
   "cell_type": "code",
   "execution_count": 1,
   "id": "662aa703-f5c6-40a6-8374-49de3838a81a",
   "metadata": {},
   "outputs": [],
   "source": [
    "'''\n",
    "Multiple Inheritance:\n",
    "Multiple inheritance lets a subclass to inherit characteristics and behaviours from more than one superclass. \n",
    "It enables a class to integrate features from several classes.'''\n",
    "\n",
    "class Flyable:\n",
    "    def fly(self):\n",
    "        return \"I can fly!\"\n",
    "\n",
    "class Swimmable:\n",
    "    def swim(self):\n",
    "        return \"I can swim!\"\n",
    "\n",
    "class Amphibian(Flyable, Swimmable):\n",
    "    pass\n"
   ]
  },
  {
   "cell_type": "code",
   "execution_count": 2,
   "id": "54208238-cf0d-449b-8822-87a76e7c7638",
   "metadata": {},
   "outputs": [],
   "source": [
    "frog=Amphibian()"
   ]
  },
  {
   "cell_type": "code",
   "execution_count": 4,
   "id": "20772094-11c0-4e90-ab1c-625b01eb62b5",
   "metadata": {},
   "outputs": [
    {
     "data": {
      "text/plain": [
       "'I can fly!'"
      ]
     },
     "execution_count": 4,
     "metadata": {},
     "output_type": "execute_result"
    }
   ],
   "source": [
    "frog.fly()"
   ]
  },
  {
   "cell_type": "code",
   "execution_count": 5,
   "id": "39b37ac6-ca76-484f-8b34-2a0ed10f50a2",
   "metadata": {},
   "outputs": [
    {
     "data": {
      "text/plain": [
       "'I can swim!'"
      ]
     },
     "execution_count": 5,
     "metadata": {},
     "output_type": "execute_result"
    }
   ],
   "source": [
    "frog.swim()"
   ]
  },
  {
   "cell_type": "code",
   "execution_count": null,
   "id": "93132da2-9ac3-4404-bfd1-e814ee7e44c7",
   "metadata": {},
   "outputs": [],
   "source": [
    "'''\n",
    "Here, we have three classes: Flyable, Swimmable, and Amphibian. \n",
    "The Amphibian class inherits from both Flyable and Swimmable classes using multiple inheritance. \n",
    "As a result, the Amphibian class can access and use methods from both Flyable and Swimmable classes.'''"
   ]
  },
  {
   "cell_type": "code",
   "execution_count": null,
   "id": "555e9a9d-d889-4cbd-8e8f-5c615db6aba4",
   "metadata": {},
   "outputs": [],
   "source": [
    "'''\n",
    "Multilevel Inheritance:\n",
    "A situation in which a subclass inherits from another subclass, producing a chain of inheritance, is referred to as multilevel inheritance.'''\n",
    "\n",
    "\n",
    "\n"
   ]
  },
  {
   "cell_type": "code",
   "execution_count": 6,
   "id": "89be8c57-7c62-49cc-b49d-62f91960ad6b",
   "metadata": {},
   "outputs": [],
   "source": [
    "class Animal:\n",
    "    def sound(self):\n",
    "        return \"Generic animal sound\"\n",
    "\n",
    "class Dog(Animal):\n",
    "    def sound(self):\n",
    "        return \"Woof! Woof!\"\n",
    "\n",
    "class Labrador(Dog):\n",
    "    def sound(self):\n",
    "        return \"Labrador: Woof! Woof!\"\n"
   ]
  },
  {
   "cell_type": "code",
   "execution_count": 7,
   "id": "d98b751f-c614-4f8e-aeb4-2c5676d2f8bb",
   "metadata": {},
   "outputs": [],
   "source": [
    "labrador = Labrador()"
   ]
  },
  {
   "cell_type": "code",
   "execution_count": 8,
   "id": "52ef4580-5b64-46ad-aa64-c0fec447d9fa",
   "metadata": {},
   "outputs": [
    {
     "data": {
      "text/plain": [
       "'Labrador: Woof! Woof!'"
      ]
     },
     "execution_count": 8,
     "metadata": {},
     "output_type": "execute_result"
    }
   ],
   "source": [
    "labrador.sound()"
   ]
  },
  {
   "cell_type": "code",
   "execution_count": null,
   "id": "4cef383e-d1f3-4b83-a05e-fbd0553260e5",
   "metadata": {},
   "outputs": [],
   "source": [
    "''' \n",
    "In this example, the Labrador class inherits from the Dog class, which itself inherits from the Animal class. \n",
    "This forms a chain of inheritance: Labrador → Dog → Animal. \n",
    "The Labrador class overrides the sound() method to provide its specific sound, and it inherits other features from both Dog and Animal classes.'''"
   ]
  }
 ],
 "metadata": {
  "kernelspec": {
   "display_name": "Python 3 (ipykernel)",
   "language": "python",
   "name": "python3"
  },
  "language_info": {
   "codemirror_mode": {
    "name": "ipython",
    "version": 3
   },
   "file_extension": ".py",
   "mimetype": "text/x-python",
   "name": "python",
   "nbconvert_exporter": "python",
   "pygments_lexer": "ipython3",
   "version": "3.10.8"
  }
 },
 "nbformat": 4,
 "nbformat_minor": 5
}
