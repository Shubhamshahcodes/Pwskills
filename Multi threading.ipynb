{
 "cells": [
  {
   "cell_type": "markdown",
   "id": "a35a80e4-537c-47a8-bd43-caeaeb664055",
   "metadata": {},
   "source": [
    "# What is multithreading in Python? Why is it used? Name the module used to handle threads in Python.\n",
    "\n",
    "Multithreading in Python refers to the ability of a program to execute multiple threads concurrently, allowing different parts of the program to run simultaneously. It is used to achieve parallelism and improve the performance of applications, especially in tasks involving I/O-bound or CPU-bound operations. The threading module is used to handle threads in Python.\n",
    "\n",
    "The threading module provides a high-level interface for creating and working with threads in Python programs.\n",
    "\n",
    "# Why is the threading module used? Write the use of the following functions (activeCount, currentThread, enumerate).\n",
    "\n",
    "The threading module is used to handle threads in Python. Here's the use of the mentioned functions:\n",
    "\n",
    "activeCount: Returns the number of active threads in the current program.\n",
    "currentThread: Returns the current thread object.\n",
    "enumerate: Returns a list of all Thread objects currently alive.\n",
    "Explain the following functions (run, start, join, isAlive).\n",
    "\n",
    "run: This method is the entry point for the thread's activity. It defines the code to be executed by the thread.\n",
    "start: This method starts the thread's activity. It calls the run method internally.\n",
    "join: This method blocks the calling thread until the thread whose join method is called terminates.\n",
    "isAlive: This method returns a boolean indicating whether the thread is alive or not."
   ]
  },
  {
   "cell_type": "markdown",
   "id": "3a5dc696-7e62-49cb-aefe-72f30a529998",
   "metadata": {},
   "source": [
    "# Write a Python program to create two threads. Thread one must print the list of squares and thread two must print the list of cubes."
   ]
  },
  {
   "cell_type": "code",
   "execution_count": 1,
   "id": "97efda25-db3f-4ac9-b882-4d0d7e0704e8",
   "metadata": {},
   "outputs": [
    {
     "name": "stdout",
     "output_type": "stream",
     "text": [
      "Square of 1 is 1\n",
      "Square of 2 is 4\n",
      "Square of 3 is 9\n",
      "Square of 4 is 16\n",
      "Square of 5 is 25\n",
      "Cube of 1 is 1\n",
      "Cube of 2 is 8\n",
      "Cube of 3 is 27\n",
      "Cube of 4 is 64\n",
      "Cube of 5 is 125\n",
      "Program completed\n"
     ]
    }
   ],
   "source": [
    "import threading\n",
    "\n",
    "def print_squares():\n",
    "    for i in range(1, 6):\n",
    "        print(\"Square of\", i, \"is\", i*i)\n",
    "\n",
    "def print_cubes():\n",
    "    for i in range(1, 6):\n",
    "        print(\"Cube of\", i, \"is\", i*i*i)\n",
    "\n",
    "# Create threads\n",
    "thread1 = threading.Thread(target=print_squares)\n",
    "thread2 = threading.Thread(target=print_cubes)\n",
    "\n",
    "# Start threads\n",
    "thread1.start()\n",
    "thread2.start()\n",
    "\n",
    "# Wait for threads to finish\n",
    "thread1.join()\n",
    "thread2.join()\n",
    "\n",
    "print(\"Program completed\")\n"
   ]
  },
  {
   "cell_type": "markdown",
   "id": "6e821552-6ef8-4b45-95dd-4813f3833873",
   "metadata": {},
   "source": [
    "# State advantages and disadvantages of multithreading.\n",
    "\n",
    "# Advantages:\n",
    "\n",
    "Improved performance: Multithreading allows tasks to run concurrently, making better use of CPU resources and reducing overall execution time.\n",
    "\n",
    "Responsiveness: Multithreading can improve the responsiveness of applications by allowing tasks to run in the background while the main thread handles user interaction.\n",
    "\n",
    "Resource sharing: Threads within the same process can share resources such as memory, reducing the need for inter-process communication.\n",
    "\n",
    "# Disadvantages:\n",
    "\n",
    "Complexity: Multithreaded programs can be complex and difficult to debug, especially when dealing with shared resources and synchronization issues.\n",
    "\n",
    "Synchronization overhead: Proper synchronization mechanisms are required to prevent race conditions and ensure data integrity, which can introduce overhead and complexity.\n",
    "\n",
    "Potential for deadlock: Multithreading introduces the risk of deadlocks, where two or more threads are waiting for each other to release resources, leading to a deadlock situation."
   ]
  },
  {
   "cell_type": "markdown",
   "id": "5617b4d8-be13-4a8a-bdb5-e2a985354bc5",
   "metadata": {},
   "source": [
    "# Explain deadlocks and race conditions.\n",
    "\n",
    "# Deadlock: \n",
    "\n",
    "Deadlock occurs when two or more threads are blocked indefinitely, each waiting for the other to release resources that they need. It typically happens in multithreaded programs when threads acquire locks on resources in a non-preemptive manner. As a result, none of the threads can proceed, leading to a deadlock situation.\n",
    "\n",
    "# Race condition: \n",
    "\n",
    "A race condition occurs when the outcome of a program depends on the sequence or timing of uncontrollable events, such as the execution order of threads. It arises when multiple threads access shared resources or variables concurrently without proper synchronization. Race conditions can lead to unpredictable behavior and incorrect results in a program."
   ]
  }
 ],
 "metadata": {
  "kernelspec": {
   "display_name": "Python 3 (ipykernel)",
   "language": "python",
   "name": "python3"
  },
  "language_info": {
   "codemirror_mode": {
    "name": "ipython",
    "version": 3
   },
   "file_extension": ".py",
   "mimetype": "text/x-python",
   "name": "python",
   "nbconvert_exporter": "python",
   "pygments_lexer": "ipython3",
   "version": "3.10.8"
  }
 },
 "nbformat": 4,
 "nbformat_minor": 5
}
