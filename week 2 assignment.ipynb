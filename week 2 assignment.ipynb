{
 "cells": [
  {
   "cell_type": "code",
   "execution_count": 2,
   "id": "74a4b28c-7857-43f1-b734-0703b4bc5949",
   "metadata": {},
   "outputs": [],
   "source": [
    "''' Q1. How do you comment code in Python? What are the different types of comments?\n",
    "Answer:\n",
    "Python allows you to add comments to your code in order to explain, describe, or temporarily turn off specific lines of code. \n",
    "In Python, there are two categories of comments:\n",
    "\n",
    "1]Single-line comments: \n",
    "The # character can be used to create a single-line comment. \n",
    "The interpreter interprets anything put on the same line following the # as a comment and ignores it.\n",
    "\n",
    "2]Docstrings: \n",
    "Multi-line comments, often known as docstrings, are a useful tool for larger comments or documentation strings. \n",
    "Docstrings are multi-line text strings that are encased in triple quotation marks (\"\"\" or '''). \n",
    "\n",
    "\n",
    "\n",
    "\n",
    "\n"
   ]
  },
  {
   "cell_type": "code",
   "execution_count": 3,
   "id": "1df3c796-34bf-4687-9e27-fdd5c2b68ef2",
   "metadata": {},
   "outputs": [
    {
     "data": {
      "text/plain": [
       "' Q2. What are variables in Python? How do you declare and assign values to variables?\\n\\nAnswer:\\n\\nVariables are used to hold data values in Python. In essence, a variable is a specified region in the computer\\'s memory where information may be saved and accessed at a later time in the programme. \\nData of all kinds, including integers, characters, lists, and more sophisticated objects, can be stored in variables.\\n\\nUse the following syntax to define and assign values to variables in Python:\\n\\nvariable_name = value\\n\\nExample: \\n\\nname = \"Shubham\"\\nage = 21\\nsalary = 225000.50\\n\\nIn this example, the variables name, age, and pay have all been defined. \\nThe name of the variable has the value \"Shubham,\" the age of the variable has the value \"21,\" and the salary of the variable has the value \"225000.50.\" '"
      ]
     },
     "execution_count": 3,
     "metadata": {},
     "output_type": "execute_result"
    }
   ],
   "source": [
    "''' Q2. What are variables in Python? How do you declare and assign values to variables?\n",
    "\n",
    "Answer:\n",
    "\n",
    "Variables are used to hold data values in Python. In essence, a variable is a specified region in the computer's memory where information may be saved and accessed at a later time in the programme. \n",
    "Data of all kinds, including integers, characters, lists, and more sophisticated objects, can be stored in variables.\n",
    "\n",
    "Use the following syntax to define and assign values to variables in Python:\n",
    "\n",
    "variable_name = value\n",
    "\n",
    "Example: \n",
    "\n",
    "name = \"Shubham\"\n",
    "age = 21\n",
    "salary = 225000.50\n",
    "\n",
    "In this example, the variables name, age, and pay have all been defined. \n",
    "The name of the variable has the value \"Shubham,\" the age of the variable has the value \"21,\" and the salary of the variable has the value \"225000.50.\" '''\n",
    "\n"
   ]
  },
  {
   "cell_type": "code",
   "execution_count": null,
   "id": "34968eb7-edca-4cb4-b2d9-98abda884e81",
   "metadata": {},
   "outputs": [],
   "source": [
    "''' Q3. How do you convert one data type to another in Python?\n",
    "\n",
    "Answer:\n",
    "\n",
    "By utilising built-in methods or constructors intended for type conversion, you may change one data type into another in Python. \n",
    "Here are a few typical techniques for type conversion:\n",
    "\n",
    "1]Implicit Conversion (Type Coercion): \n",
    "When it is safe and sensible to do so, Python occasionally automatically executes type conversion. \n",
    "For instance, Python automatically transforms the operands to a common data type when executing arithmetic operations with various data types.\n",
    "\n",
    "Example:\n",
    "\n",
    "x = 5  # integer\n",
    "y = 2.5  # float\n",
    "z = x + y  # The addition operation promotes `x` to a float, and `z` becomes a float: 7.5\n",
    "\n",
    "2]Type casting:\n",
    "In other circumstances, you can explicitly convert one data type to another by using the proper constructors or conversion methods. \n",
    "Several frequently used functions for explicit type conversion are listed below:\n",
    "\n",
    "int(): Converts a value to an integer\n",
    "example:\n",
    "num = \"10\"\n",
    "num_int = int(num)   \"10\" is converted to the integer 10\n",
    "\n",
    "float(): Converts a value to a float.\n",
    "example:\n",
    "num = \"3.14\"\n",
    "num_float = float(num)   \"3.14\" is converted to the float 3.14\n",
    "\n",
    "str(): Converts a value to a string.\n",
    "example:\n",
    "num = 42\n",
    "num_str = str(num)   42 is converted to the string \"42\"\n",
    "\n",
    "list(), tuple(), set(): Converts a sequence or iterable to a list, tuple, or set, respectively.\n",
    "example:\n",
    "my_string = \"Hello\"\n",
    "my_list = list(my_string)   Converts the string to a list: ['H', 'e', 'l', 'l', 'o']\n",
    "my_tuple = tuple(my_string)   Converts the string to a tuple: ('H', 'e', 'l', 'l', 'o')\n",
    "my_set = set(my_string)   Converts the string to a set: {'H', 'e', 'l', 'o'}\n",
    "\n",
    "bool(): Converts a value to a boolean.\n",
    "value = 0\n",
    "value_bool = bool(value)  # 0 is converted to False\n",
    "\n",
    "\n",
    "\n"
   ]
  },
  {
   "cell_type": "code",
   "execution_count": null,
   "id": "71fac1e2-699c-4dfe-bb76-dba60e0c6bed",
   "metadata": {},
   "outputs": [],
   "source": [
    "''' Q4. How do you write and execute a Python script from the command line?\n",
    "\n",
    "Answer:\n",
    "\n",
    "Follow these instructions to create and run a Python script from the command line:\n",
    "\n",
    "1]Create a new file in a text editor (like Notepad or VS Code).\n",
    "2]Include any required imports, function definitions, or statements along with your Python code in the file.\n",
    "3]The file should be saved with a.py extension, such as my_script.py. Give your script a meaningful name.\n",
    "4]On your PC, launch the terminal or command line.\n",
    "5]Use the cd command to move to the directory where your Python script was stored. You may use the command cd Documents to go to a specific directory, for instance, if your script is saved in the Documents folder.\n",
    "6]Using the python command and the filename of your script, after you are in the right directory, you can launch the Python script.\n",
    "7]Enter is required to carry out the command. Your script file will be read by the Python interpreter, which will then run any code it contains.\n",
    "8]If your script produced any output, it should be visible on the terminal or command line. '''\n",
    "\n"
   ]
  },
  {
   "cell_type": "code",
   "execution_count": null,
   "id": "4034bcdd-2022-4649-b1f9-d275ef8f7aa4",
   "metadata": {},
   "outputs": [],
   "source": [
    "'''Q5. Given a list my_list = [1, 2, 3, 4, 5], write the code to slice the list and obtain the sub-list [2, 3].'''"
   ]
  },
  {
   "cell_type": "code",
   "execution_count": 4,
   "id": "a4b61753-9d11-4e52-8c56-7b13c6f90494",
   "metadata": {},
   "outputs": [
    {
     "name": "stdout",
     "output_type": "stream",
     "text": [
      "[2, 3]\n"
     ]
    }
   ],
   "source": [
    "my_list = [1, 2, 3, 4, 5]\n",
    "sub_list = my_list[1:3]\n",
    "print(sub_list)\n"
   ]
  },
  {
   "cell_type": "code",
   "execution_count": null,
   "id": "cfa5a887-8555-4566-ae56-67c5db7f9cd0",
   "metadata": {},
   "outputs": [],
   "source": [
    "''' Q6. What is a complex number in mathematics, and how is it represented in Python?\n",
    "\n",
    "Answer:\n",
    "\n",
    "In mathematics, a complex number is a number that comprises a real part and an imaginary part. \n",
    "It is represented in the form a + bi, where a is the real part, b is the imaginary part, and i is the imaginary unit (√-1).\n",
    "\n",
    "In Python, complex numbers are represented using the complex data type. \n",
    "The syntax for representing a complex number in Python is a + bj, where a represents the real part, b represents the imaginary part, and j (or J) is used to represent the imaginary unit.\n",
    "\n",
    "Example:\n",
    "z1 = 3 + 2j\n",
    "z2 = -1.5 + 4j  '''\n",
    "\n"
   ]
  },
  {
   "cell_type": "code",
   "execution_count": null,
   "id": "03326331-7e41-4081-8ffe-37c76e340f0f",
   "metadata": {},
   "outputs": [],
   "source": [
    "''' Q7. What is the correct way to declare a variable named age and assign the value 25 to it?\n",
    "\n",
    "Answer:\n",
    "\n",
    "age = 25 '''\n"
   ]
  },
  {
   "cell_type": "code",
   "execution_count": null,
   "id": "d324e2cb-1e78-4e9e-9b7a-1d0404e15281",
   "metadata": {},
   "outputs": [],
   "source": [
    "''' Q8. Declare a variable named price and assign the value 9.99 to it. What data type does this variable\n",
    "belong to? '''\n"
   ]
  },
  {
   "cell_type": "code",
   "execution_count": 5,
   "id": "a8f68f8c-4d05-4313-ae11-3a78120fb25d",
   "metadata": {},
   "outputs": [],
   "source": [
    "price=9.99"
   ]
  },
  {
   "cell_type": "code",
   "execution_count": 6,
   "id": "c372f25a-b555-4a4d-b947-fe0d89dfdf2b",
   "metadata": {},
   "outputs": [
    {
     "data": {
      "text/plain": [
       "float"
      ]
     },
     "execution_count": 6,
     "metadata": {},
     "output_type": "execute_result"
    }
   ],
   "source": [
    "type(price)"
   ]
  },
  {
   "cell_type": "code",
   "execution_count": null,
   "id": "30313bda-336f-4e45-914d-a4a534a3a18c",
   "metadata": {},
   "outputs": [],
   "source": [
    "''' Q9. Create a variable named name and assign your full name to it as a string. How would you print the\n",
    "value of this variable? '''"
   ]
  },
  {
   "cell_type": "code",
   "execution_count": 7,
   "id": "1a795e1a-985d-4ff5-a6d0-d557f4c35b98",
   "metadata": {},
   "outputs": [
    {
     "name": "stdout",
     "output_type": "stream",
     "text": [
      "shubham\n"
     ]
    }
   ],
   "source": [
    "name=(\"shubham\")\n",
    "print(name)"
   ]
  },
  {
   "cell_type": "code",
   "execution_count": null,
   "id": "45940829-b7a2-49e2-ad13-3aa7bfd62955",
   "metadata": {},
   "outputs": [],
   "source": [
    "''' Q10. Given the string \"Hello, World!\", extract the substring \"World\". '''"
   ]
  },
  {
   "cell_type": "code",
   "execution_count": 10,
   "id": "e1888976-306e-4ced-98c2-a352f324e3e4",
   "metadata": {},
   "outputs": [
    {
     "name": "stdout",
     "output_type": "stream",
     "text": [
      "World\n"
     ]
    }
   ],
   "source": [
    "a=(\"Hello, World!\")\n",
    "Substring = a[7:12]\n",
    "print(Substring)"
   ]
  },
  {
   "cell_type": "code",
   "execution_count": null,
   "id": "5bd0651f-31fb-4cac-8e75-33aee9e5ad2a",
   "metadata": {},
   "outputs": [],
   "source": [
    "''' "
   ]
  }
 ],
 "metadata": {
  "kernelspec": {
   "display_name": "Python 3 (ipykernel)",
   "language": "python",
   "name": "python3"
  },
  "language_info": {
   "codemirror_mode": {
    "name": "ipython",
    "version": 3
   },
   "file_extension": ".py",
   "mimetype": "text/x-python",
   "name": "python",
   "nbconvert_exporter": "python",
   "pygments_lexer": "ipython3",
   "version": "3.10.8"
  }
 },
 "nbformat": 4,
 "nbformat_minor": 5
}
