{
 "cells": [
  {
   "cell_type": "markdown",
   "id": "f85b071a-c0d1-41a5-bbec-1c9f7e814551",
   "metadata": {},
   "source": [
    "# Q1. \n",
    "\n",
    "Ordinal Encoding assigns a unique integer to each category in a categorical variable based on the order or rank of the categories. \n",
    "\n",
    "Label Encoding, on the other hand, assigns a unique integer to each category without considering any order. Ordinal Encoding is preferred when there is a clear order or hierarchy among the categories, such as low, medium, and high. Label Encoding is chosen when there is no inherent order among the categories, such as red, green, and blue.\n",
    "\n",
    "# Q2. \n",
    "\n",
    "Target Guided Ordinal Encoding is a technique where the categories in a categorical variable are ranked based on their relationship with the target variable. \n",
    "\n",
    "It involves calculating the mean of the target variable for each category and then ranking the categories accordingly. \n",
    "\n",
    "This technique is useful when there is a strong relationship between the categorical variable and the target variable, and ordinal encoding based on this relationship can improve model performance.\n",
    "\n",
    "# Q3. \n",
    "\n",
    "Covariance measures the degree to which two variables change together. \n",
    "\n",
    "It indicates the direction of the linear relationship between two variables. \n",
    "\n",
    "A positive covariance indicates that the variables tend to move in the same direction, while a negative covariance indicates that they move in opposite directions. \n",
    "\n",
    "Covariance is important in statistical analysis as it helps in understanding the relationship between variables and in building predictive models. \n",
    "\n",
    "Covariance between two variables X and Y is calculated as the average of the product of the deviations of X and Y from their respective means."
   ]
  },
  {
   "cell_type": "markdown",
   "id": "fc53fca3-8cec-404e-829f-3b0844e12245",
   "metadata": {},
   "source": [
    "# Q4"
   ]
  },
  {
   "cell_type": "code",
   "execution_count": 1,
   "id": "c9435d37-bd41-496c-b88a-36c90f7a83f9",
   "metadata": {},
   "outputs": [
    {
     "name": "stdout",
     "output_type": "stream",
     "text": [
      "Encoded data: [2 1 0 2 1]\n"
     ]
    }
   ],
   "source": [
    "from sklearn.preprocessing import LabelEncoder\n",
    "\n",
    "# Sample data\n",
    "data = ['red', 'green', 'blue', 'red', 'green']\n",
    "\n",
    "# Initialize label encoder\n",
    "label_encoder = LabelEncoder()\n",
    "\n",
    "# Fit label encoder and transform data\n",
    "encoded_data = label_encoder.fit_transform(data)\n",
    "\n",
    "print(\"Encoded data:\", encoded_data)\n"
   ]
  },
  {
   "cell_type": "markdown",
   "id": "62ab042a-18dd-45e3-9725-50b64fa158c3",
   "metadata": {},
   "source": [
    "In this example, the categories 'red', 'green', and 'blue' are encoded as 2, 1, and 0 respectively."
   ]
  },
  {
   "cell_type": "markdown",
   "id": "4211a629-d04e-45ff-bad7-0837d80e1649",
   "metadata": {},
   "source": [
    "# Q5. \n",
    "\n",
    "The covariance matrix for variables Age, Income, and Education level can be calculated using the covariance function in Python. \n",
    "\n",
    "The covariance matrix provides the covariance between each pair of variables. \n",
    "\n",
    "The interpretation of the results depends on the scale and units of the variables.\n",
    "\n",
    "# Q6. \n",
    "\n",
    "For the categorical variables \"Gender\", \"Education Level\", and \"Employment Status\", different encoding methods can be chosen based on the nature of the variables. \n",
    "\n",
    "For \"Gender\", which has only two categories (Male/Female), binary encoding or one-hot encoding can be used. For \"Education Level\", ordinal encoding can be used since there is a clear order among the categories (e.g., High School, Bachelor's, Master's, PhD). \n",
    "\n",
    "For \"Employment Status\", one-hot encoding is preferred as there is no inherent order among the categories (Unemployed, Part-Time, Full-Time).\n",
    "\n",
    "# Q7. \n",
    "\n",
    "The covariance between each pair of variables can be calculated using the covariance function in Python. \n",
    "\n",
    "The interpretation of the results depends on the magnitude and sign of the covariance. \n",
    "\n",
    "A positive covariance indicates that the variables tend to move in the same direction, while a negative covariance indicates that they move in opposite directions. \n",
    "\n",
    "The magnitude of the covariance indicates the strength of the relationship between the variables."
   ]
  },
  {
   "cell_type": "code",
   "execution_count": 3,
   "id": "d5e5191e-135f-4d55-8690-49b579b82ce3",
   "metadata": {},
   "outputs": [
    {
     "name": "stdout",
     "output_type": "stream",
     "text": [
      "Covariance Matrix for Q5:\n",
      "                          Age        Income  Education Level\n",
      "Age                161.372121  4.530076e+04        -0.393535\n",
      "Income           45300.763232  5.837863e+08        79.619798\n",
      "Education Level     -0.393535  7.961980e+01         1.161515\n"
     ]
    }
   ],
   "source": [
    "# Q5\n",
    "\n",
    "import pandas as pd\n",
    "import numpy as np\n",
    "\n",
    "# Generate sample data for Q5\n",
    "np.random.seed(0)\n",
    "data_q5 = pd.DataFrame({\n",
    "    'Age': np.random.randint(20, 60, 100),\n",
    "    'Income': np.random.randint(20000, 100000, 100),\n",
    "    'Education Level': np.random.randint(1, 5, 100)  # Assuming 1: High School, 2: Bachelor's, 3: Master's, 4: PhD\n",
    "})\n",
    "\n",
    "# Calculate the covariance matrix\n",
    "covariance_matrix_q5 = data_q5.cov()\n",
    "\n",
    "# Interpret the results\n",
    "print(\"Covariance Matrix for Q5:\")\n",
    "print(covariance_matrix_q5)\n"
   ]
  },
  {
   "cell_type": "code",
   "execution_count": 4,
   "id": "fa638546-0163-4dc9-a96b-63590d051b3f",
   "metadata": {},
   "outputs": [
    {
     "name": "stdout",
     "output_type": "stream",
     "text": [
      "Encoding Method for Gender: Nominal Encoding\n",
      "Encoding Method for Education Level: Ordinal Encoding\n",
      "Encoding Method for Employment Status: Nominal Encoding\n"
     ]
    }
   ],
   "source": [
    "# Determine encoding method for Gender (nominal encoding)\n",
    "print(\"Encoding Method for Gender: Nominal Encoding\")\n",
    "\n",
    "# Determine encoding method for Education Level (ordinal encoding)\n",
    "print(\"Encoding Method for Education Level: Ordinal Encoding\")\n",
    "\n",
    "# Determine encoding method for Employment Status (nominal encoding)\n",
    "print(\"Encoding Method for Employment Status: Nominal Encoding\")\n"
   ]
  }
 ],
 "metadata": {
  "kernelspec": {
   "display_name": "Python 3 (ipykernel)",
   "language": "python",
   "name": "python3"
  },
  "language_info": {
   "codemirror_mode": {
    "name": "ipython",
    "version": 3
   },
   "file_extension": ".py",
   "mimetype": "text/x-python",
   "name": "python",
   "nbconvert_exporter": "python",
   "pygments_lexer": "ipython3",
   "version": "3.10.8"
  }
 },
 "nbformat": 4,
 "nbformat_minor": 5
}
