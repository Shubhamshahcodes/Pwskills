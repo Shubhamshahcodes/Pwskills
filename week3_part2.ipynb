{
 "cells": [
  {
   "cell_type": "code",
   "execution_count": 9,
   "id": "7ab08520-3ef2-439c-804e-701c0d123357",
   "metadata": {},
   "outputs": [
    {
     "name": "stdout",
     "output_type": "stream",
     "text": [
      "[('Virat Kohli', 24936), ('Jack Kallis', 25534), ('Ricky Ponting', 27483), ('Sachin Tendulkar', 34357)]\n"
     ]
    }
   ],
   "source": [
    "'''Q1'''\n",
    "l = [('Sachin Tendulkar', 34357), ('Ricky Ponting', 27483), ('Jack Kallis', 25534), ('Virat Kohli', 24936)]\n",
    "l.sort(key=lambda x: x[1])\n",
    "print(l)\n"
   ]
  },
  {
   "cell_type": "code",
   "execution_count": 10,
   "id": "b0fe3c29-1bbb-42c2-94e6-28daa335de8c",
   "metadata": {},
   "outputs": [
    {
     "name": "stdout",
     "output_type": "stream",
     "text": [
      "[1, 4, 9, 16, 25, 36, 49, 64, 81, 100]\n"
     ]
    }
   ],
   "source": [
    "'''Q2'''\n",
    "n=[1, 2, 3, 4, 5, 6, 7, 8, 9, 10]\n",
    "square = list(map(lambda x: x ** 2, n))\n",
    "print(square)"
   ]
  },
  {
   "cell_type": "code",
   "execution_count": 11,
   "id": "617dfc83-6f3a-4e09-9c85-dbaeb7ee1c82",
   "metadata": {},
   "outputs": [
    {
     "name": "stdout",
     "output_type": "stream",
     "text": [
      "('1', '2', '3', '4', '5', '6', '7', '8', '9', '10')\n"
     ]
    }
   ],
   "source": [
    "'''Q3'''\n",
    "l2 = [1, 2, 3, 4, 5, 6, 7, 8, 9, 10]\n",
    "tuple_of_strings = tuple(map(lambda x: str(x), l2))\n",
    "print(tuple_of_strings)\n"
   ]
  },
  {
   "cell_type": "code",
   "execution_count": 12,
   "id": "edf5535b-0030-4ac6-adb0-759dc22bdda8",
   "metadata": {},
   "outputs": [
    {
     "name": "stdout",
     "output_type": "stream",
     "text": [
      "15511210043330985984000000\n"
     ]
    }
   ],
   "source": [
    "'''Q4'''\n",
    "from functools import reduce\n",
    "\n",
    "l3 = list(range(1, 26))\n",
    "product = reduce((lambda x, y: x * y), l3)\n",
    "print(product)\n"
   ]
  },
  {
   "cell_type": "code",
   "execution_count": 13,
   "id": "277e9e06-fb6a-41c1-b35f-e46986707c5a",
   "metadata": {},
   "outputs": [
    {
     "name": "stdout",
     "output_type": "stream",
     "text": [
      "[6, 60, 90, 120]\n"
     ]
    }
   ],
   "source": [
    "'''Q5'''\n",
    "l4 = [2, 3, 6, 9, 27, 60, 90, 120, 55, 46]\n",
    "div = list(filter(lambda x: (x % 2 == 0) and (x % 3 == 0), l4))\n",
    "print(div)\n"
   ]
  },
  {
   "cell_type": "code",
   "execution_count": 14,
   "id": "4a00bffd-c00b-41ff-829a-88e0a5b0fa0c",
   "metadata": {},
   "outputs": [
    {
     "name": "stdout",
     "output_type": "stream",
     "text": [
      "['php', 'aba', 'radar', 'level']\n"
     ]
    }
   ],
   "source": [
    "'''Q6'''\n",
    "l5 = ['python', 'php', 'aba', 'radar', 'level']\n",
    "result = list(filter(lambda x: (x == x[::-1]), l5))\n",
    "print(result)\n"
   ]
  },
  {
   "cell_type": "code",
   "execution_count": null,
   "id": "73957610-bdff-48a0-a93a-0a06ba6f6f83",
   "metadata": {},
   "outputs": [],
   "source": [
    "'''Q7"
   ]
  }
 ],
 "metadata": {
  "kernelspec": {
   "display_name": "Python 3 (ipykernel)",
   "language": "python",
   "name": "python3"
  },
  "language_info": {
   "codemirror_mode": {
    "name": "ipython",
    "version": 3
   },
   "file_extension": ".py",
   "mimetype": "text/x-python",
   "name": "python",
   "nbconvert_exporter": "python",
   "pygments_lexer": "ipython3",
   "version": "3.10.8"
  }
 },
 "nbformat": 4,
 "nbformat_minor": 5
}
