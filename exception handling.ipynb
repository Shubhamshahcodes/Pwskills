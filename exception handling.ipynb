{
 "cells": [
  {
   "cell_type": "raw",
   "id": "2d8e903f-4e18-4436-a12a-cdfa62074c7e",
   "metadata": {},
   "source": [
    "Questions:"
   ]
  },
  {
   "cell_type": "markdown",
   "id": "5e31f2d9-061d-4b8d-8d67-5b228ea389bc",
   "metadata": {},
   "source": [
    "What is an exception in Python? Write difference between exception and syntax error?"
   ]
  },
  {
   "cell_type": "markdown",
   "id": "00785686-162d-4593-b795-158f286c0de8",
   "metadata": {},
   "source": [
    "What happens when an exception is not handled? Explain with an example. "
   ]
  },
  {
   "cell_type": "markdown",
   "id": "19acf400-a07b-4a93-991d-8232eaace465",
   "metadata": {},
   "source": [
    "Explain with an example:\n",
    "a. try and else\n",
    "b.finally \n",
    "c.raise"
   ]
  },
  {
   "cell_type": "markdown",
   "id": "25b23a1f-3165-46ef-822e-b59ee2231fcb",
   "metadata": {},
   "source": [
    "What are custom exceptions in Python? Why do we need custom exceptions? Explain with an example."
   ]
  },
  {
   "cell_type": "markdown",
   "id": "f6acb389-a666-46fb-a908-1041c80389d8",
   "metadata": {},
   "source": [
    "Create a custom exception class. Use this class to handle an exception."
   ]
  },
  {
   "cell_type": "raw",
   "id": "f2b7884a-5734-4e6f-b427-651e656f76fc",
   "metadata": {},
   "source": [
    "Answers:"
   ]
  },
  {
   "cell_type": "markdown",
   "id": "bbce5fc2-8278-4890-9927-5482781d9b05",
   "metadata": {},
   "source": [
    "1.\n",
    "# What is an exception in Python?\n",
    "Imagine you're baking a cake following a recipe. Suddenly, you realize you're out of sugar. That's like an exception in Python. It's when something unexpected happens while your program is running. Maybe you try to divide a number by zero or you try to open a file that doesn't exist. Python raises an exception to tell you, \"Hey, something went wrong!\" It's like a warning sign that lets you handle the problem gracefully.\n",
    "\n",
    "# Difference between exception and syntax error:\n",
    "Okay, let's compare it to writing a letter. Syntax errors are like spelling mistakes or grammar errors in your letter. You accidentally write \"hte\" instead of \"the\" or forget a period at the end of a sentence. Python sees these mistakes when it reads your code and says, \"Wait a minute, this doesn't make sense!\" It's like having your English teacher correct your mistakes before you even start reading the letter.\n",
    "\n",
    "But exceptions are different. They're like unexpected things that happen while delivering the letter. Maybe the address is wrong, or the mailbox is full. These are things you couldn't have caught just by looking at the writing. Similarly, in Python, exceptions happen while the program is running, not when you're typing it out. They're like surprises that your program encounters along the way, and you need to handle them properly to keep things running smoothly."
   ]
  },
  {
   "cell_type": "markdown",
   "id": "ca11f953-a783-4e6a-a438-65a141f67655",
   "metadata": {},
   "source": [
    "2. \n",
    "\n",
    "Imagine you're cooking dinner, following a recipe. You accidentally drop an eggshell into the mixing bowl. Now, you have two choices: you can either pick out the eggshell and keep cooking, or you can ignore it and continue cooking as if nothing happened.\n",
    "\n",
    "When an exception is not handled in Python, it's like ignoring that eggshell in the mixing bowl. Let me explain with an example:\n",
    "\n",
    "# Let's try to divide a number by zero\n",
    "result = 10 / 0\n",
    "print(\"The result is:\", result)\n",
    "\n",
    "In this example, we're trying to divide 10 by zero, which is impossible in mathematics. Python recognizes this and raises an exception called ZeroDivisionError. If we don't handle this exception, Python will stop the program and display an error message:\n",
    "\n",
    "ZeroDivisionError: division by zero\n",
    "\n",
    "If we just let this error go without handling it, the program will crash. It's like trying to cook a meal but giving up because of that eggshell in the mixing bowl. Instead, we should handle the exception gracefully, like picking out the eggshell and continuing to cook. We can do this by using a try-except block to catch the exception and handle it in a way that allows the program to keep running smoothly."
   ]
  },
  {
   "cell_type": "code",
   "execution_count": 1,
   "id": "eb1bee25-dabf-4e1a-a8a0-cb54cf346bd0",
   "metadata": {},
   "outputs": [
    {
     "name": "stdout",
     "output_type": "stream",
     "text": [
      "File not found.\n",
      "File not found.\n"
     ]
    },
    {
     "ename": "NameError",
     "evalue": "name 'file' is not defined",
     "output_type": "error",
     "traceback": [
      "\u001b[0;31m---------------------------------------------------------------------------\u001b[0m",
      "\u001b[0;31mNameError\u001b[0m                                 Traceback (most recent call last)",
      "Cell \u001b[0;32mIn[1], line 28\u001b[0m\n\u001b[1;32m     26\u001b[0m     \u001b[38;5;28mprint\u001b[39m(\u001b[38;5;124m\"\u001b[39m\u001b[38;5;124mFile not found.\u001b[39m\u001b[38;5;124m\"\u001b[39m)  \u001b[38;5;66;03m# Handle the situation where the file doesn't exist\u001b[39;00m\n\u001b[1;32m     27\u001b[0m \u001b[38;5;28;01mfinally\u001b[39;00m:\n\u001b[0;32m---> 28\u001b[0m     \u001b[43mfile\u001b[49m\u001b[38;5;241m.\u001b[39mclose()  \u001b[38;5;66;03m# This will always execute, ensuring the file is closed\u001b[39;00m\n\u001b[1;32m     30\u001b[0m \u001b[38;5;66;03m#In this example, whether the file exists or not, the finally block ensures that the file is closed after the try-except block finishes executing.\u001b[39;00m\n\u001b[1;32m     31\u001b[0m \n\u001b[1;32m     32\u001b[0m \u001b[38;5;66;03m# c. raise:\u001b[39;00m\n\u001b[1;32m     33\u001b[0m \n\u001b[1;32m     34\u001b[0m \u001b[38;5;66;03m#Sometimes, you might want to raise an exception yourself to signal that something unexpected happened. Here's an example:\u001b[39;00m\n\u001b[1;32m     36\u001b[0m \u001b[38;5;28;01mdef\u001b[39;00m \u001b[38;5;21mcalculate_age\u001b[39m(age):\n",
      "\u001b[0;31mNameError\u001b[0m: name 'file' is not defined"
     ]
    }
   ],
   "source": [
    "3.\n",
    "\n",
    "# a. try and else:\n",
    "\n",
    "#Imagine you're trying to read a file, but you're not sure if it exists. You can use a try-except block to handle the situation where the file doesn't exist, and then use an else block to execute code if the file does exist. Here's an example:\"\n",
    "\n",
    "\n",
    "try:\n",
    "    file = open(\"example.txt\", \"r\")  # Try to open the file\n",
    "except FileNotFoundError:\n",
    "    print(\"File not found.\")  # Handle the situation where the file doesn't exist\n",
    "else:\n",
    "    print(\"File opened successfully.\")  # Execute this if the file exists\n",
    "    file.close()\n",
    "\n",
    "#In this example, if the file \"example.txt\" doesn't exist, the program will print \"File not found.\" But if the file does exist and is successfully opened, it will print \"File opened successfully.\"\n",
    "\n",
    "# b. finally:\n",
    "\n",
    "#Now, let's say you want to make sure that a file is always closed, regardless of whether an exception occurs or not. You can use a finally block to achieve this. Here's an example:\n",
    "\n",
    "try:\n",
    "    file = open(\"example.txt\", \"r\")  # Try to open the file\n",
    "    print(\"File opened successfully.\")\n",
    "except FileNotFoundError:\n",
    "    print(\"File not found.\")  # Handle the situation where the file doesn't exist\n",
    "finally:\n",
    "    file.close()  # This will always execute, ensuring the file is closed\n",
    "\n",
    "#In this example, whether the file exists or not, the finally block ensures that the file is closed after the try-except block finishes executing.\n",
    "\n",
    "# c. raise:\n",
    "\n",
    "#Sometimes, you might want to raise an exception yourself to signal that something unexpected happened. Here's an example:\n",
    "\n",
    "def calculate_age(age):\n",
    "    if age < 0:\n",
    "        raise ValueError(\"Age cannot be negative.\")  # Raise a ValueError if age is negative\n",
    "    else:\n",
    "        print(\"Age is:\", age)\n",
    "\n",
    "try:\n",
    "    calculate_age(-5)  # Try to calculate age\n",
    "except ValueError as e:\n",
    "    print(e)  # Handle the raised ValueError\n",
    "\n",
    "#In this example, if you try to calculate the age with a negative number, it will raise a ValueError with the message \"Age cannot be negative.\" We catch this ValueError using a try-except block and print the error message."
   ]
  },
  {
   "cell_type": "markdown",
   "id": "17a3cf3b-d843-448b-b8ad-938d57e9fa07",
   "metadata": {},
   "source": [
    "4.\n",
    "\n",
    "Custom exceptions in Python are user-defined exceptions that allow programmers to create their own specific types of errors to handle exceptional situations in their code. While Python provides built-in exceptions like ValueError, TypeError, etc., sometimes these exceptions may not fully capture the specific context of the error.\n",
    "\n",
    "We need custom exceptions to make our code more descriptive, readable, and maintainable. By defining custom exceptions, we can provide clearer error messages and better handle different types of exceptional situations in our code. This helps in debugging and troubleshooting, as well as in communicating with other developers who may use our code.\n",
    "\n",
    "Let's illustrate this with an example:\n",
    "\n",
    "Suppose we're developing a banking application, and we want to ensure that users cannot withdraw more money than they have in their account. We can create a custom exception called \"InsufficientFundsError\" to handle this situation more effectively:"
   ]
  },
  {
   "cell_type": "code",
   "execution_count": 2,
   "id": "70ba7cac-7309-4299-91d6-92aa16f835f3",
   "metadata": {},
   "outputs": [
    {
     "name": "stdout",
     "output_type": "stream",
     "text": [
      "Insufficient funds to withdraw $150\n"
     ]
    }
   ],
   "source": [
    "class InsufficientFundsError(Exception):\n",
    "    \"\"\"Exception raised when there are insufficient funds in the account.\"\"\"\n",
    "    pass\n",
    "\n",
    "class BankAccount:\n",
    "    def __init__(self, balance):\n",
    "        self.balance = balance\n",
    "\n",
    "    def withdraw(self, amount):\n",
    "        if amount > self.balance:\n",
    "            raise InsufficientFundsError(\"Insufficient funds to withdraw ${}\".format(amount))\n",
    "        else:\n",
    "            self.balance -= amount\n",
    "            print(\"Withdrawal successful. Remaining balance: ${}\".format(self.balance))\n",
    "\n",
    "# Example usage:\n",
    "try:\n",
    "    account = BankAccount(100)\n",
    "    account.withdraw(150)  # This will raise InsufficientFundsError\n",
    "except InsufficientFundsError as e:\n",
    "    print(e)  # Handle the custom exception by printing the error message\n"
   ]
  },
  {
   "cell_type": "markdown",
   "id": "93efd9d8-1002-45ba-8c93-3c1f62c5766b",
   "metadata": {},
   "source": [
    "In this example, we define a custom exception called \"InsufficientFundsError\" that inherits from the base Exception class. We provide a clear error message describing the situation when there are insufficient funds in the account.\n",
    "\n",
    "When a user tries to withdraw more money than they have, the \"withdraw\" method raises the \"InsufficientFundsError\" with an appropriate error message. We catch this custom exception using a try-except block and handle it gracefully by printing the error message.\n",
    "\n",
    "By using custom exceptions, we make our code more expressive and easier to understand, which leads to better code organization and maintenance."
   ]
  },
  {
   "cell_type": "markdown",
   "id": "2db2e3df-8c6e-4f56-857b-0e99a1253481",
   "metadata": {},
   "source": [
    "5.\n",
    "\n",
    "let's create a custom exception class called InvalidInputError and use it to handle an exception when invalid input is provided:"
   ]
  },
  {
   "cell_type": "code",
   "execution_count": 3,
   "id": "168276fe-4cba-403f-93e8-5b9e5c71672c",
   "metadata": {},
   "outputs": [
    {
     "name": "stdout",
     "output_type": "stream",
     "text": [
      "Invalid input: 0\n"
     ]
    }
   ],
   "source": [
    "class InvalidInputError(Exception):\n",
    "    \"\"\"Exception raised for invalid input.\"\"\"\n",
    "\n",
    "    def __init__(self, input_value):\n",
    "        self.input_value = input_value\n",
    "        super().__init__(\"Invalid input: {}\".format(input_value))\n",
    "\n",
    "def divide_numbers(dividend, divisor):\n",
    "    if divisor == 0:\n",
    "        raise InvalidInputError(divisor)\n",
    "    else:\n",
    "        return dividend / divisor\n",
    "\n",
    "# Example usage:\n",
    "try:\n",
    "    result = divide_numbers(10, 0)  # This will raise InvalidInputError\n",
    "except InvalidInputError as e:\n",
    "    print(e)  # Handle the custom exception by printing the error message\n"
   ]
  },
  {
   "cell_type": "markdown",
   "id": "b875b2c6-c8db-4783-b3c7-95fc496a93b3",
   "metadata": {},
   "source": [
    "In this example:\n",
    "\n",
    "We define a custom exception class called InvalidInputError, which inherits from the base Exception class. We provide an __init__ method to initialize the exception with the invalid input value and a descriptive error message.\n",
    "We define a function called divide_numbers that takes two parameters: dividend and divisor. If the divisor is zero, we raise the InvalidInputError with the invalid input value (zero in this case).\n",
    "In the example usage, we call the divide_numbers function with divisor as zero, which raises the InvalidInputError. We catch this custom exception using a try-except block and handle it gracefully by printing the error message."
   ]
  }
 ],
 "metadata": {
  "kernelspec": {
   "display_name": "Python 3 (ipykernel)",
   "language": "python",
   "name": "python3"
  },
  "language_info": {
   "codemirror_mode": {
    "name": "ipython",
    "version": 3
   },
   "file_extension": ".py",
   "mimetype": "text/x-python",
   "name": "python",
   "nbconvert_exporter": "python",
   "pygments_lexer": "ipython3",
   "version": "3.10.8"
  }
 },
 "nbformat": 4,
 "nbformat_minor": 5
}
