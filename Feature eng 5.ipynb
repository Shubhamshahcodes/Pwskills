{
 "cells": [
  {
   "cell_type": "code",
   "execution_count": 1,
   "id": "aac91fd3-3353-4a1b-9dd1-f961cc0050df",
   "metadata": {},
   "outputs": [
    {
     "name": "stdout",
     "output_type": "stream",
     "text": [
      "Pearson Correlation Coefficient: 0.9999999999999999\n"
     ]
    }
   ],
   "source": [
    "#Q1\n",
    "\n",
    "from scipy.stats import pearsonr\n",
    "\n",
    "# Sample data\n",
    "studying_time = [5, 6, 4, 7, 3, 6, 5, 8, 7, 6]  # Hours\n",
    "exam_scores = [75, 80, 70, 85, 65, 80, 75, 90, 85, 80]  # Scores\n",
    "\n",
    "# Calculate Pearson correlation coefficient\n",
    "pearson_corr, _ = pearsonr(studying_time, exam_scores)\n",
    "\n",
    "# Interpret the result\n",
    "print(\"Pearson Correlation Coefficient:\", pearson_corr)\n",
    "# Interpretation: There is a strong positive linear relationship between studying time and exam scores.\n"
   ]
  },
  {
   "cell_type": "code",
   "execution_count": 2,
   "id": "3d50d79f-9bd4-4e62-baf5-58f3c8594327",
   "metadata": {},
   "outputs": [
    {
     "name": "stdout",
     "output_type": "stream",
     "text": [
      "Spearman's Rank Correlation Coefficient: 1.0\n"
     ]
    }
   ],
   "source": [
    "#Q2\n",
    "\n",
    "from scipy.stats import spearmanr\n",
    "\n",
    "# Sample data\n",
    "sleep_hours = [7, 6, 8, 7, 5, 6, 8, 7, 6, 7]  # Hours\n",
    "job_satisfaction = [8, 7, 9, 8, 6, 7, 9, 8, 7, 8]  # Satisfaction level\n",
    "\n",
    "# Calculate Spearman's rank correlation coefficient\n",
    "spearman_corr, _ = spearmanr(sleep_hours, job_satisfaction)\n",
    "\n",
    "# Interpret the result\n",
    "print(\"Spearman's Rank Correlation Coefficient:\", spearman_corr)\n",
    "# Interpretation: There is a moderate positive monotonic relationship between sleep hours and job satisfaction.\n"
   ]
  },
  {
   "cell_type": "code",
   "execution_count": 3,
   "id": "9627dc81-0e16-42ae-869a-6a3b1b850d97",
   "metadata": {},
   "outputs": [
    {
     "name": "stdout",
     "output_type": "stream",
     "text": [
      "Pearson Correlation Coefficient: 0.974480581181983\n",
      "Spearman's Rank Correlation Coefficient: 0.9813067629253164\n"
     ]
    }
   ],
   "source": [
    "#Q3\n",
    "\n",
    "# Sample data\n",
    "exercise_hours = [3, 4, 2, 5, 3, 4, 3, 6, 5, 4]  # Hours\n",
    "bmi = [22, 24, 21, 26, 23, 25, 22, 27, 26, 24]  # BMI\n",
    "\n",
    "# Calculate Pearson correlation coefficient\n",
    "pearson_corr, _ = pearsonr(exercise_hours, bmi)\n",
    "print(\"Pearson Correlation Coefficient:\", pearson_corr)\n",
    "\n",
    "# Calculate Spearman's rank correlation coefficient\n",
    "spearman_corr, _ = spearmanr(exercise_hours, bmi)\n",
    "print(\"Spearman's Rank Correlation Coefficient:\", spearman_corr)\n"
   ]
  },
  {
   "cell_type": "code",
   "execution_count": 4,
   "id": "0843c1fd-5b8b-4346-8f94-2fb962d8e73b",
   "metadata": {},
   "outputs": [
    {
     "name": "stdout",
     "output_type": "stream",
     "text": [
      "Pearson Correlation Coefficient: -0.912870929175277\n"
     ]
    }
   ],
   "source": [
    "# Q4\n",
    "\n",
    "# Sample data\n",
    "tv_hours = [3, 2, 4, 3, 5, 2, 4, 3, 5, 4]  # Hours\n",
    "physical_activity = [2, 3, 2, 3, 1, 3, 2, 3, 1, 2]  # Activity level\n",
    "\n",
    "# Calculate Pearson correlation coefficient\n",
    "pearson_corr, _ = pearsonr(tv_hours, physical_activity)\n",
    "\n",
    "# Interpret the result\n",
    "print(\"Pearson Correlation Coefficient:\", pearson_corr)\n",
    "# Interpretation: There is a weak negative linear relationship between TV hours and physical activity level.\n"
   ]
  }
 ],
 "metadata": {
  "kernelspec": {
   "display_name": "Python 3 (ipykernel)",
   "language": "python",
   "name": "python3"
  },
  "language_info": {
   "codemirror_mode": {
    "name": "ipython",
    "version": 3
   },
   "file_extension": ".py",
   "mimetype": "text/x-python",
   "name": "python",
   "nbconvert_exporter": "python",
   "pygments_lexer": "ipython3",
   "version": "3.10.8"
  }
 },
 "nbformat": 4,
 "nbformat_minor": 5
}
