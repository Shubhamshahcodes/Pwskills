{
 "cells": [
  {
   "cell_type": "markdown",
   "id": "c044eb45-606a-438a-b0ea-aa343de9ca17",
   "metadata": {},
   "source": [
    "# Q1. Explain GET and POST methods.\n",
    "\n",
    "# GET Method: \n",
    "The GET method is used to request data from a specified resource. It sends data to the server as part of the URL query parameters. GET requests are typically used for retrieving data and should not be used for sensitive or large data as the data is visible in the URL.\n",
    "\n",
    "# POST Method: \n",
    "The POST method is used to submit data to be processed to a specified resource. It sends data to the server in the message body of the HTTP request. POST requests are commonly used for submitting forms, uploading files, and performing other actions that may change the state of the server."
   ]
  },
  {
   "cell_type": "markdown",
   "id": "ed0e2c4c-b3e3-4cf6-80de-5d04f96362d3",
   "metadata": {},
   "source": [
    "# Q2. Why is request used in Flask?\n",
    "\n",
    "The request object in Flask is used to access incoming request data such as form data, query parameters, cookies, file uploads, and other request information. It provides methods and attributes to interact with the data sent by the client in an HTTP request. The request object allows Flask applications to handle and process incoming requests effectively."
   ]
  }
 ],
 "metadata": {
  "kernelspec": {
   "display_name": "Python 3 (ipykernel)",
   "language": "python",
   "name": "python3"
  },
  "language_info": {
   "codemirror_mode": {
    "name": "ipython",
    "version": 3
   },
   "file_extension": ".py",
   "mimetype": "text/x-python",
   "name": "python",
   "nbconvert_exporter": "python",
   "pygments_lexer": "ipython3",
   "version": "3.10.8"
  }
 },
 "nbformat": 4,
 "nbformat_minor": 5
}
