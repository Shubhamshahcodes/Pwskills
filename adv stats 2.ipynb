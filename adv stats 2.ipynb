{
 "cells": [
  {
   "cell_type": "markdown",
   "id": "4ef477ed-b031-48cc-85ff-73d005954922",
   "metadata": {},
   "source": [
    "Q1: The Probability Mass Function (PMF) is used for discrete random variables and gives the probability that a discrete random variable is equal to a specific value. It assigns probabilities to each possible outcome. For example, when rolling a fair six-sided die, the PMF would assign a probability of 1/6 to each of the numbers 1 through 6.\n",
    "\n",
    "The Probability Density Function (PDF) is used for continuous random variables and gives the relative likelihood of a continuous random variable taking on a particular value. Unlike the PMF, the PDF does not give the probability of a specific outcome but instead gives the probability density at each point. For example, the PDF of a standard normal distribution (bell curve) assigns higher densities to values closer to the mean and lower densities to values further away.\n",
    "\n",
    "Q2: The Cumulative Density Function (CDF) gives the probability that a random variable takes on a value less than or equal to a given value. It provides a cumulative view of the probability distribution. For example, in the context of a normal distribution, the CDF would give the probability that a randomly selected observation falls below a certain value. CDF is used to determine probabilities associated with a random variable without directly using the PMF or PDF.\n",
    "\n",
    "Q3: The normal distribution is commonly used to model various phenomena in natural and social sciences, finance, engineering, and more. Examples include heights of people, weights of objects, errors in measurements, IQ scores, and many biological and economic phenomena. The parameters of the normal distribution, mean and standard deviation, determine the center and spread of the distribution, respectively. A higher mean shifts the distribution to the right, while a larger standard deviation leads to a broader distribution.\n",
    "\n",
    "Q4: The normal distribution is essential in statistics and probability theory due to its many properties and applications. It is often used as a model because of its simplicity and because many real-world phenomena approximate a normal distribution. Real-life examples of normal distributions include the heights of individuals in a population, IQ scores, blood pressure measurements, and errors in scientific measurements.\n",
    "\n",
    "Q5: The Bernoulli Distribution models a single trial with two possible outcomes, typically labeled as success and failure, with respective probabilities p and 1−p. For example, a coin flip can be modeled using a Bernoulli Distribution, where success (1) represents getting heads and failure (0) represents getting tails. The Binomial Distribution, on the other hand, models the number of successes in a fixed number of independent Bernoulli trials. It is the sum of multiple independent and identically distributed (i.i.d.) Bernoulli random variables.\n",
    "\n",
    "Q6: To find the probability that a randomly selected observation from a normally distributed dataset with a mean of 50 and a standard deviation of 10 is greater than 60, we need to calculate the area under the normal curve to the right of 60. This can be done using the standard normal distribution (with mean 0 and standard deviation 1) and the z-score formula. The z-score for 60 in this case is \n",
    "60−50/10=1\n",
    "Then, we can use a standard normal distribution table or software to find the probability associated with a z-score of 1, which is approximately 0.8413. So, the probability of a randomly selected observation being greater than 60 is approximately \n",
    "1−0.8413=0.1587 or 15.87%.\n",
    "\n",
    "Q7: A uniform distribution is a probability distribution where each value within a certain range is equally likely to occur. In other words, all outcomes have the same probability density. An example of a uniform distribution is rolling a fair six-sided die, where each number has a probability of 1/6 of occurring.\n",
    "\n",
    "Q8: The z-score, also known as the standard score, measures the number of standard deviations a data point is from the mean of its distribution. It is calculated as the difference between a data point and the mean divided by the standard deviation. The z-score allows us to standardize data and compare values from different normal distributions. It is important in statistical analysis because it helps identify how unusual or extreme a particular observation is relative to the rest of the distribution.\n",
    "\n",
    "Q9: The Central Limit Theorem (CLT) states that the distribution of the sample mean of a random variable approaches a normal distribution as the sample size increases, regardless of the shape of the original population distribution, as long as the sample size is sufficiently large. The significance of the CLT lies in its application to inferential statistics, where it allows us to make assumptions and draw conclusions about population parameters based on sample statistics.\n",
    "\n",
    "Q10: The assumptions of the Central Limit Theorem are:\n",
    "\n",
    "The samples are independently and identically distributed (i.i.d.).\n",
    "The sample size is sufficiently large. While there is no strict rule for what constitutes a \"sufficiently large\" sample size, a commonly used guideline is that the sample size should be greater than 30.\n",
    "The population standard deviation is known (for a z-distribution) or the population standard deviation is unknown but the sample size is large enough to apply the CLT (for a t-distribution). If the population standard deviation is unknown and the sample size is small, the sample standard deviation can be used as an estimate.\n",
    "These assumptions ensure that the sample mean follows an approximately normal distribution, allowing us to make inferences about the population mean."
   ]
  }
 ],
 "metadata": {
  "kernelspec": {
   "display_name": "Python 3 (ipykernel)",
   "language": "python",
   "name": "python3"
  },
  "language_info": {
   "codemirror_mode": {
    "name": "ipython",
    "version": 3
   },
   "file_extension": ".py",
   "mimetype": "text/x-python",
   "name": "python",
   "nbconvert_exporter": "python",
   "pygments_lexer": "ipython3",
   "version": "3.10.8"
  }
 },
 "nbformat": 4,
 "nbformat_minor": 5
}
