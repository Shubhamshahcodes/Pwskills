{
 "cells": [
  {
   "cell_type": "markdown",
   "id": "c7ba9ed3-45ea-44f5-902f-808567006871",
   "metadata": {},
   "source": [
    "# Q1. What is Flask Framework? What are the advantages of Flask Framework?\n",
    "\n",
    "Flask is a lightweight and flexible web framework for Python. It is designed to make getting started with web development quick and easy, with minimal setup and configuration. Flask provides a simple and intuitive way to build web applications and APIs.\n",
    "\n",
    "# Advantages of Flask Framework:\n",
    "\n",
    "Lightweight: Flask is lightweight and has minimal dependencies, making it easy to get started and maintain.\n",
    "\n",
    "Flexibility: Flask provides a flexible architecture that allows developers to choose the components and libraries they need for their projects.\n",
    "\n",
    "Easy to Learn: Flask has a simple and intuitive syntax that makes it easy for developers to learn and understand.\n",
    "\n",
    "Extensible: Flask supports extensions and plugins that add additional functionality and features to the framework.\n",
    "\n",
    "Scalability: Flask applications can be scaled horizontally and vertically to handle increased traffic and load.\n",
    "\n",
    "Community Support: Flask has a large and active community of developers who contribute plugins, tutorials, and resources to help others get started and solve problems."
   ]
  },
  {
   "cell_type": "markdown",
   "id": "bab2f765-8d24-4748-ba32-1bc1b2e15754",
   "metadata": {},
   "source": [
    "# Q2. Create a simple Flask application to display ‘Hello World!!’. Attach the screenshot of the output in Jupyter Notebook."
   ]
  },
  {
   "cell_type": "code",
   "execution_count": null,
   "id": "f0b382c9-6c51-47fa-a810-44116370f103",
   "metadata": {},
   "outputs": [],
   "source": [
    "from flask import Flask\n",
    "\n",
    "app = Flask(__name__)\n",
    "\n",
    "@app.route('/')\n",
    "def hello_world():\n",
    "    return 'Hello World!!'\n",
    "\n",
    "if __name__ == '__main__':\n",
    "    app.run()\n"
   ]
  },
  {
   "cell_type": "markdown",
   "id": "deca9552-054f-4875-b00e-579842c89ee2",
   "metadata": {},
   "source": [
    "# Q3. What is App routing in Flask? Why do we use app routes?\n",
    "\n",
    "App routing in Flask refers to the process of mapping URLs to view functions or endpoints in a Flask application. It allows developers to define different routes for handling different HTTP requests and specifying the behavior of the application for each route.\n",
    "\n",
    "We use app routes in Flask to define the URL patterns for accessing different parts of the application and to specify the actions or responses that should be taken when a request is made to a particular URL. App routes allow for modular and organized code structure and enable developers to create clean and maintainable web applications."
   ]
  },
  {
   "cell_type": "markdown",
   "id": "e4a67a23-c0b2-48bb-b176-bff004feb556",
   "metadata": {},
   "source": [
    "# Q4. Create a “/welcome” route to display the welcome message “Welcome to ABC Corporation” and a “/” route to show the following details:"
   ]
  },
  {
   "cell_type": "code",
   "execution_count": null,
   "id": "e59049a2-b50f-43c1-aaeb-73b8fb938ae8",
   "metadata": {},
   "outputs": [],
   "source": [
    "from flask import Flask\n",
    "\n",
    "app = Flask(__name__)\n",
    "\n",
    "@app.route('/welcome')\n",
    "def welcome():\n",
    "    return 'Welcome to ABC Corporation'\n",
    "\n",
    "@app.route('/')\n",
    "def company_details():\n",
    "    return '''\n",
    "    Company Name: ABC Corporation\n",
    "    Location: India\n",
    "    Contact Detail: 999-999-9999\n",
    "    '''\n",
    "\n",
    "if __name__ == '__main__':\n",
    "    app.run()\n"
   ]
  },
  {
   "cell_type": "markdown",
   "id": "63ea7ff5-2651-45cf-aaf9-e049f66d91bd",
   "metadata": {},
   "source": [
    "# Q5. What function is used in Flask for URL Building? Write a Python code to demonstrate the working of the url_for() function.\n",
    "\n",
    "The url_for() function in Flask is used for URL building. It generates a URL for the specified endpoint with the given arguments.\n",
    "\n",
    "Example:"
   ]
  },
  {
   "cell_type": "code",
   "execution_count": null,
   "id": "e06bcd2a-6f6c-4547-8310-f1cb61a03f9b",
   "metadata": {},
   "outputs": [],
   "source": [
    "from flask import Flask, url_for\n",
    "\n",
    "app = Flask(__name__)\n",
    "\n",
    "@app.route('/')\n",
    "def index():\n",
    "    return 'Index Page'\n",
    "\n",
    "@app.route('/user/<username>')\n",
    "def profile(username):\n",
    "    return f'{username}\\'s Profile'\n",
    "\n",
    "@app.route('/login')\n",
    "def login():\n",
    "    return 'Login Page'\n",
    "\n",
    "with app.test_request_context():\n",
    "    print(url_for('index'))  # Output: '/'\n",
    "    print(url_for('login'))  # Output: '/login'\n",
    "    print(url_for('profile', username='john'))  # Output: '/user/john'\n"
   ]
  },
  {
   "cell_type": "code",
   "execution_count": 1,
   "id": "8fb08033-7105-419d-a865-8472f151bc75",
   "metadata": {},
   "outputs": [
    {
     "ename": "SyntaxError",
     "evalue": "invalid syntax (4246241490.py, line 1)",
     "output_type": "error",
     "traceback": [
      "\u001b[0;36m  Cell \u001b[0;32mIn[1], line 1\u001b[0;36m\u001b[0m\n\u001b[0;31m    The url_for() function generates URLs based on the endpoint names defined in the Flask application. It takes the endpoint name and any arguments required for building the URL as parameters.\u001b[0m\n\u001b[0m        ^\u001b[0m\n\u001b[0;31mSyntaxError\u001b[0m\u001b[0;31m:\u001b[0m invalid syntax\n"
     ]
    }
   ],
   "source": [
    "The url_for() function generates URLs based on the endpoint names defined in the Flask application. It takes the endpoint name and any arguments required for building the URL as parameters."
   ]
  }
 ],
 "metadata": {
  "kernelspec": {
   "display_name": "Python 3 (ipykernel)",
   "language": "python",
   "name": "python3"
  },
  "language_info": {
   "codemirror_mode": {
    "name": "ipython",
    "version": 3
   },
   "file_extension": ".py",
   "mimetype": "text/x-python",
   "name": "python",
   "nbconvert_exporter": "python",
   "pygments_lexer": "ipython3",
   "version": "3.10.8"
  }
 },
 "nbformat": 4,
 "nbformat_minor": 5
}
