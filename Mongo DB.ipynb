{
 "cells": [
  {
   "cell_type": "markdown",
   "id": "5f64b25b-0103-4b3a-b0d3-6023701140f3",
   "metadata": {},
   "source": [
    "# Q1. What is MongoDB? Explain non-relational databases in short. In which scenarios it is preferred to use MongoDB over SQL databases?\n",
    "\n",
    "MongoDB is a popular NoSQL database management system that stores data in a flexible, schema-less format called BSON (Binary JSON). \n",
    "\n",
    "It is designed for scalability, performance, and ease of development. Non-relational databases, including MongoDB, are designed to handle large volumes of unstructured or semi-structured data and provide more flexible data models compared to traditional SQL databases.\n",
    "\n",
    "NoSQL databases are preferred over SQL databases in scenarios where:\n",
    "\n",
    "There is a need to store large volumes of unstructured or semi-structured data, such as documents, JSON, XML, etc.\n",
    "\n",
    "The data model is not well-defined or constantly changing, making it difficult to fit into a rigid schema.\n",
    "\n",
    "Horizontal scalability and high availability are required, as NoSQL databases are often distributed and designed for cloud environments.\n",
    "\n",
    "Rapid development and iteration are important, as NoSQL databases offer more flexibility and agility compared to SQL databases."
   ]
  },
  {
   "cell_type": "markdown",
   "id": "fddb4f23-edb3-4a75-aaf7-7dbadde5b698",
   "metadata": {},
   "source": [
    "# Q2. State and Explain the features of MongoDB.\n",
    "\n",
    "Features of MongoDB include:\n",
    "\n",
    "Document-Oriented: MongoDB stores data in flexible, JSON-like documents, allowing for a more natural representation of data compared to traditional SQL databases.\n",
    "\n",
    "High Performance: MongoDB is designed for high performance and scalability, with support for horizontal scaling through sharding and replica sets.\n",
    "\n",
    "Schema-less: MongoDB does not require a predefined schema, allowing for dynamic and flexible data models.\n",
    "\n",
    "Querying: MongoDB supports rich querying capabilities, including ad-hoc queries, indexing, aggregation pipelines, and geospatial queries.\n",
    "\n",
    "High Availability: MongoDB provides built-in support for replica sets and automatic failover to ensure high availability and data redundancy.\n",
    "\n",
    "Horizontal Scalability: MongoDB can scale horizontally by distributing data across multiple nodes, making it suitable for large-scale applications.\n",
    "\n",
    "Flexible Data Model: MongoDB supports nested documents, arrays, and other complex data types, enabling developers to model data in a way that closely mirrors application structures.\n",
    "\n",
    "Aggregation Framework: MongoDB provides a powerful aggregation framework for performing complex data aggregation and analysis operations.\n",
    "\n",
    "Geospatial Indexing: MongoDB supports geospatial indexing and querying, making it suitable for location-based applications."
   ]
  },
  {
   "cell_type": "markdown",
   "id": "7a07ace0-538d-4e75-a0e8-14fae48df7bc",
   "metadata": {},
   "source": [
    "# Q3. Write a code to connect MongoDB to Python. Also, create a database and a collection in MongoDB."
   ]
  },
  {
   "cell_type": "code",
   "execution_count": null,
   "id": "4cc6120f-0259-4241-87b7-313a63f84c60",
   "metadata": {},
   "outputs": [],
   "source": [
    "import pymongo\n",
    "\n",
    "# Connect to MongoDB\n",
    "client = pymongo.MongoClient(\"mongodb://localhost:27017/\")\n",
    "\n",
    "# Create a database\n",
    "mydb = client[\"mydatabase\"]\n",
    "\n",
    "# Create a collection\n",
    "mycol = mydb[\"customers\"]\n"
   ]
  },
  {
   "cell_type": "markdown",
   "id": "b2f771c9-64ec-410c-b8f2-bd4e7653756d",
   "metadata": {},
   "source": [
    "# Q4. Using the database and the collection created in question number 3, write a code to insert one record, and insert many records. Use the find() and find_one() methods to print the inserted record."
   ]
  },
  {
   "cell_type": "code",
   "execution_count": 3,
   "id": "8d643049-42a7-4d53-9dde-320c97dc1a8d",
   "metadata": {},
   "outputs": [
    {
     "ename": "NameError",
     "evalue": "name 'mycol' is not defined",
     "output_type": "error",
     "traceback": [
      "\u001b[0;31m---------------------------------------------------------------------------\u001b[0m",
      "\u001b[0;31mNameError\u001b[0m                                 Traceback (most recent call last)",
      "Cell \u001b[0;32mIn[3], line 3\u001b[0m\n\u001b[1;32m      1\u001b[0m \u001b[38;5;66;03m# Insert one record\u001b[39;00m\n\u001b[1;32m      2\u001b[0m mydict \u001b[38;5;241m=\u001b[39m { \u001b[38;5;124m\"\u001b[39m\u001b[38;5;124mname\u001b[39m\u001b[38;5;124m\"\u001b[39m: \u001b[38;5;124m\"\u001b[39m\u001b[38;5;124mJohn\u001b[39m\u001b[38;5;124m\"\u001b[39m, \u001b[38;5;124m\"\u001b[39m\u001b[38;5;124maddress\u001b[39m\u001b[38;5;124m\"\u001b[39m: \u001b[38;5;124m\"\u001b[39m\u001b[38;5;124mHighway 37\u001b[39m\u001b[38;5;124m\"\u001b[39m }\n\u001b[0;32m----> 3\u001b[0m x \u001b[38;5;241m=\u001b[39m \u001b[43mmycol\u001b[49m\u001b[38;5;241m.\u001b[39minsert_one(mydict)\n\u001b[1;32m      5\u001b[0m \u001b[38;5;66;03m# Insert many records\u001b[39;00m\n\u001b[1;32m      6\u001b[0m mylist \u001b[38;5;241m=\u001b[39m [\n\u001b[1;32m      7\u001b[0m   { \u001b[38;5;124m\"\u001b[39m\u001b[38;5;124mname\u001b[39m\u001b[38;5;124m\"\u001b[39m: \u001b[38;5;124m\"\u001b[39m\u001b[38;5;124mAmy\u001b[39m\u001b[38;5;124m\"\u001b[39m, \u001b[38;5;124m\"\u001b[39m\u001b[38;5;124maddress\u001b[39m\u001b[38;5;124m\"\u001b[39m: \u001b[38;5;124m\"\u001b[39m\u001b[38;5;124mApple st 652\u001b[39m\u001b[38;5;124m\"\u001b[39m},\n\u001b[1;32m      8\u001b[0m   { \u001b[38;5;124m\"\u001b[39m\u001b[38;5;124mname\u001b[39m\u001b[38;5;124m\"\u001b[39m: \u001b[38;5;124m\"\u001b[39m\u001b[38;5;124mHannah\u001b[39m\u001b[38;5;124m\"\u001b[39m, \u001b[38;5;124m\"\u001b[39m\u001b[38;5;124maddress\u001b[39m\u001b[38;5;124m\"\u001b[39m: \u001b[38;5;124m\"\u001b[39m\u001b[38;5;124mMountain 21\u001b[39m\u001b[38;5;124m\"\u001b[39m},\n\u001b[0;32m   (...)\u001b[0m\n\u001b[1;32m     18\u001b[0m   { \u001b[38;5;124m\"\u001b[39m\u001b[38;5;124mname\u001b[39m\u001b[38;5;124m\"\u001b[39m: \u001b[38;5;124m\"\u001b[39m\u001b[38;5;124mViola\u001b[39m\u001b[38;5;124m\"\u001b[39m, \u001b[38;5;124m\"\u001b[39m\u001b[38;5;124maddress\u001b[39m\u001b[38;5;124m\"\u001b[39m: \u001b[38;5;124m\"\u001b[39m\u001b[38;5;124mSideway 1633\u001b[39m\u001b[38;5;124m\"\u001b[39m}\n\u001b[1;32m     19\u001b[0m ]\n",
      "\u001b[0;31mNameError\u001b[0m: name 'mycol' is not defined"
     ]
    }
   ],
   "source": [
    "# Insert one record\n",
    "mydict = { \"name\": \"John\", \"address\": \"Highway 37\" }\n",
    "x = mycol.insert_one(mydict)\n",
    "\n",
    "# Insert many records\n",
    "mylist = [\n",
    "  { \"name\": \"Amy\", \"address\": \"Apple st 652\"},\n",
    "  { \"name\": \"Hannah\", \"address\": \"Mountain 21\"},\n",
    "  { \"name\": \"Michael\", \"address\": \"Valley 345\"},\n",
    "  { \"name\": \"Sandy\", \"address\": \"Ocean blvd 2\"},\n",
    "  { \"name\": \"Betty\", \"address\": \"Green Grass 1\"},\n",
    "  { \"name\": \"Richard\", \"address\": \"Sky st 331\"},\n",
    "  { \"name\": \"Susan\", \"address\": \"One way 98\"},\n",
    "  { \"name\": \"Vicky\", \"address\": \"Yellow Garden 2\"},\n",
    "  { \"name\": \"Ben\", \"address\": \"Park Lane 38\"},\n",
    "  { \"name\": \"William\", \"address\": \"Central st 954\"},\n",
    "  { \"name\": \"Chuck\", \"address\": \"Main Road 989\"},\n",
    "  { \"name\": \"Viola\", \"address\": \"Sideway 1633\"}\n",
    "]\n",
    "x = mycol.insert_many(mylist)\n",
    "\n",
    "# Find one record\n",
    "print(mycol.find_one())\n",
    "\n",
    "# Find all records\n",
    "for x in mycol.find():\n",
    "  print(x)\n"
   ]
  },
  {
   "cell_type": "markdown",
   "id": "24ebb7da-06f1-4a78-aa87-813c48e18561",
   "metadata": {},
   "source": [
    "# Q5. Explain how you can use the find() method to query the MongoDB database. Write a simple code to demonstrate this.\n",
    "\n",
    "The find() method is used to query documents from a collection in MongoDB. It returns a cursor object that can be iterated to access the documents matching the query criteria."
   ]
  },
  {
   "cell_type": "code",
   "execution_count": null,
   "id": "2b54655a-521c-441a-87df-48fb5a971360",
   "metadata": {},
   "outputs": [],
   "source": [
    "# Find documents where the address starts with the letter \"S\"\n",
    "myquery = { \"address\": { \"$regex\": \"^S\" } }\n",
    "mydoc = mycol.find(myquery)\n",
    "\n",
    "for x in mydoc:\n",
    "  print(x)\n"
   ]
  },
  {
   "cell_type": "code",
   "execution_count": null,
   "id": "c0732680-e78f-4ec6-9725-f4e5fed56778",
   "metadata": {},
   "outputs": [],
   "source": []
  }
 ],
 "metadata": {
  "kernelspec": {
   "display_name": "Python 3 (ipykernel)",
   "language": "python",
   "name": "python3"
  },
  "language_info": {
   "codemirror_mode": {
    "name": "ipython",
    "version": 3
   },
   "file_extension": ".py",
   "mimetype": "text/x-python",
   "name": "python",
   "nbconvert_exporter": "python",
   "pygments_lexer": "ipython3",
   "version": "3.10.8"
  }
 },
 "nbformat": 4,
 "nbformat_minor": 5
}
