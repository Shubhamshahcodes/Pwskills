{
 "cells": [
  {
   "cell_type": "code",
   "execution_count": 14,
   "id": "7908fbff-025d-4edf-bbc8-4a9edca7eb14",
   "metadata": {},
   "outputs": [
    {
     "name": "stdout",
     "output_type": "stream",
     "text": [
      "F-value: 1.095659572313558\n",
      "P-value: 0.650355648179397\n"
     ]
    }
   ],
   "source": [
    "import numpy as np\n",
    "from scipy.stats import f\n",
    "\n",
    "def calculate_f_value(data1, data2):\n",
    "    \"\"\"\n",
    "    Calculate the F-value for a variance ratio test.\n",
    "\n",
    "    Parameters:\n",
    "    - data1: array-like, first set of data\n",
    "    - data2: array-like, second set of data\n",
    "\n",
    "    Returns:\n",
    "    - f_value: float, F-value for the variance ratio test\n",
    "    - p_value: float, corresponding p-value for the test\n",
    "    \"\"\"\n",
    "    var1 = np.var(data1, ddof=1)\n",
    "    var2 = np.var(data2, ddof=1)\n",
    "    f_value = var1 / var2 if var1 >= var2 else var2 / var1\n",
    "    df1 = len(data1) - 1\n",
    "    df2 = len(data2) - 1\n",
    "    p_value = f.sf(f_value, df1, df2) * 2  # Two-tailed test\n",
    "    \n",
    "    return f_value, p_value\n",
    "\n",
    "# Example usage\n",
    "data1 = np.random.normal(loc=0, scale=1, size=100)\n",
    "data2 = np.random.normal(loc=0, scale=1, size=100)\n",
    "f_value, p_value = calculate_f_value(data1, data2)\n",
    "print(\"F-value:\", f_value)\n",
    "print(\"P-value:\", p_value)\n"
   ]
  },
  {
   "cell_type": "code",
   "execution_count": 19,
   "id": "15760ba9-09c4-4489-93ff-f8ac3fd3f51e",
   "metadata": {},
   "outputs": [
    {
     "name": "stdout",
     "output_type": "stream",
     "text": [
      "Critical F-value: 4.236085668188633\n"
     ]
    }
   ],
   "source": [
    "from scipy.stats import f\n",
    "\n",
    "def get_critical_f_value(df_num, df_den, alpha=0.05):\n",
    "    \"\"\"\n",
    "    Calculate the critical F-value for a two-tailed test.\n",
    "\n",
    "    Parameters:\n",
    "    - df_num: int, degrees of freedom for the numerator\n",
    "    - df_den: int, degrees of freedom for the denominator\n",
    "    - alpha: float, significance level (default is 0.05)\n",
    "\n",
    "    Returns:\n",
    "    - critical_f_value: float, critical F-value\n",
    "    \"\"\"\n",
    "    return f.ppf(1 - alpha/2, df_num, df_den)\n",
    "\n",
    "# Example usage\n",
    "df_num = 5\n",
    "df_den = 10\n",
    "critical_f_value = get_critical_f_value(df_num, df_den)\n",
    "print(\"Critical F-value:\", critical_f_value)\n"
   ]
  },
  {
   "cell_type": "code",
   "execution_count": 20,
   "id": "5a458f93-d56a-412f-abe1-babc983bb2e7",
   "metadata": {},
   "outputs": [
    {
     "name": "stdout",
     "output_type": "stream",
     "text": [
      "F-value: 1.0538568052248827\n",
      "P-value: 0.7946361118238998\n"
     ]
    }
   ],
   "source": [
    "import numpy as np\n",
    "from scipy.stats import f\n",
    "\n",
    "def perform_f_test(sample1, sample2):\n",
    "    \"\"\"\n",
    "    Perform an F-test to compare the variances of two samples.\n",
    "\n",
    "    Parameters:\n",
    "    - sample1: array-like, first sample\n",
    "    - sample2: array-like, second sample\n",
    "\n",
    "    Returns:\n",
    "    - f_value: float, F-value\n",
    "    - p_value: float, p-value\n",
    "    \"\"\"\n",
    "    var1 = np.var(sample1, ddof=1)\n",
    "    var2 = np.var(sample2, ddof=1)\n",
    "    f_value = var1 / var2 if var1 >= var2 else var2 / var1\n",
    "    df1 = len(sample1) - 1\n",
    "    df2 = len(sample2) - 1\n",
    "    p_value = 2 * min(f.cdf(f_value, df1, df2), 1 - f.cdf(f_value, df1, df2))\n",
    "    return f_value, p_value\n",
    "\n",
    "# Generate random samples\n",
    "np.random.seed(0)  # for reproducibility\n",
    "sample1 = np.random.normal(loc=0, scale=1, size=100)\n",
    "sample2 = np.random.normal(loc=0, scale=1, size=100)\n",
    "\n",
    "# Perform F-test\n",
    "f_value, p_value = perform_f_test(sample1, sample2)\n",
    "print(\"F-value:\", f_value)\n",
    "print(\"P-value:\", p_value)\n"
   ]
  },
  {
   "cell_type": "code",
   "execution_count": 21,
   "id": "c13f6a1e-78e5-46bc-9635-e07ef2f05d11",
   "metadata": {},
   "outputs": [
    {
     "name": "stdout",
     "output_type": "stream",
     "text": [
      "Fail to reject the null hypothesis: variances are not significantly different\n",
      "F-value: 0.6666666666666666\n",
      "Critical F-value: 3.473699051085809\n"
     ]
    }
   ],
   "source": [
    "from scipy.stats import f\n",
    "\n",
    "# Given variances\n",
    "variance1 = 10\n",
    "variance2 = 15\n",
    "\n",
    "# Sample sizes\n",
    "n1 = 12\n",
    "n2 = 12\n",
    "\n",
    "# Calculate F-value\n",
    "f_value = variance1 / variance2\n",
    "\n",
    "# Degrees of freedom\n",
    "df1 = n1 - 1\n",
    "df2 = n2 - 1\n",
    "\n",
    "# Calculate critical F-value\n",
    "alpha = 0.05\n",
    "critical_f_value = f.ppf(1 - alpha / 2, df1, df2)\n",
    "\n",
    "# Compare with critical F-value\n",
    "if f_value > critical_f_value:\n",
    "    print(\"Reject the null hypothesis: variances are significantly different\")\n",
    "else:\n",
    "    print(\"Fail to reject the null hypothesis: variances are not significantly different\")\n",
    "\n",
    "print(\"F-value:\", f_value)\n",
    "print(\"Critical F-value:\", critical_f_value)\n"
   ]
  },
  {
   "cell_type": "code",
   "execution_count": 22,
   "id": "4cdac777-42ac-4d65-b1a5-491e3e56c3b9",
   "metadata": {},
   "outputs": [
    {
     "name": "stdout",
     "output_type": "stream",
     "text": [
      "Fail to reject the null hypothesis: the claim about the variance is justified\n",
      "F-value: 1.2\n",
      "Critical F-value: 2.966741631292762\n"
     ]
    }
   ],
   "source": [
    "from scipy.stats import f\n",
    "\n",
    "# Given data\n",
    "sample_variance = 0.006\n",
    "population_variance = 0.005\n",
    "\n",
    "# Sample size\n",
    "n = 25\n",
    "\n",
    "# Calculate F-value\n",
    "f_value = sample_variance / population_variance\n",
    "\n",
    "# Degrees of freedom\n",
    "df1 = n - 1\n",
    "df2 = n - 1\n",
    "\n",
    "# Calculate critical F-value\n",
    "alpha = 0.01\n",
    "critical_f_value = f.ppf(1 - alpha / 2, df1, df2)\n",
    "\n",
    "# Compare with critical F-value\n",
    "if f_value > critical_f_value:\n",
    "    print(\"Reject the null hypothesis: the claim about the variance is not justified\")\n",
    "else:\n",
    "    print(\"Fail to reject the null hypothesis: the claim about the variance is justified\")\n",
    "\n",
    "print(\"F-value:\", f_value)\n",
    "print(\"Critical F-value:\", critical_f_value)\n"
   ]
  },
  {
   "cell_type": "code",
   "execution_count": 24,
   "id": "29f31209-2513-44d6-98ae-e1781ee0a4dd",
   "metadata": {},
   "outputs": [
    {
     "name": "stdout",
     "output_type": "stream",
     "text": [
      "Mean of F-distribution: 1.25\n",
      "Variance of F-distribution: 1.3541666666666667\n"
     ]
    }
   ],
   "source": [
    "from scipy.stats import f\n",
    "\n",
    "def f_distribution_mean_and_variance(df1, df2):\n",
    "    \"\"\"Calculate the mean and variance of an F-distribution.\"\"\"\n",
    "    mean = df2 / (df2 - 2)\n",
    "    variance = (2 * (df2**2) * (df1 + df2 - 2)) / ((df1 * (df2 - 2)**2 * (df2 - 4)))\n",
    "    return mean, variance\n",
    "\n",
    "# Example usage\n",
    "degrees_of_freedom_1 = 5\n",
    "degrees_of_freedom_2 = 10\n",
    "\n",
    "mean, variance = f_distribution_mean_and_variance(degrees_of_freedom_1, degrees_of_freedom_2)\n",
    "print(\"Mean of F-distribution:\", mean)\n",
    "print(\"Variance of F-distribution:\", variance)\n"
   ]
  },
  {
   "cell_type": "code",
   "execution_count": 23,
   "id": "522afbea-a2e5-4cea-a47c-380b704e3a4a",
   "metadata": {},
   "outputs": [
    {
     "name": "stdout",
     "output_type": "stream",
     "text": [
      "Fail to reject the null hypothesis: the variances are not significantly different\n",
      "F-value: 1.25\n",
      "Critical F-value: 2.6457907352338195\n"
     ]
    }
   ],
   "source": [
    "from scipy.stats import f\n",
    "\n",
    "# Given data\n",
    "sample_variance1 = 25\n",
    "sample_variance2 = 20\n",
    "\n",
    "# Sample sizes\n",
    "n1 = 10\n",
    "n2 = 15\n",
    "\n",
    "# Calculate F-value\n",
    "f_value = sample_variance1 / sample_variance2\n",
    "\n",
    "# Degrees of freedom\n",
    "df1 = n1 - 1\n",
    "df2 = n2 - 1\n",
    "\n",
    "# Calculate critical F-value\n",
    "alpha = 0.10\n",
    "critical_f_value = f.ppf(1 - alpha / 2, df1, df2)\n",
    "\n",
    "# Compare with critical F-value\n",
    "if f_value > critical_f_value:\n",
    "    print(\"Reject the null hypothesis: the variances are significantly different\")\n",
    "else:\n",
    "    print(\"Fail to reject the null hypothesis: the variances are not significantly different\")\n",
    "\n",
    "print(\"F-value:\", f_value)\n",
    "print(\"Critical F-value:\", critical_f_value)\n"
   ]
  },
  {
   "cell_type": "code",
   "execution_count": 25,
   "id": "bb46d181-33cb-4c94-934b-291e73939061",
   "metadata": {},
   "outputs": [
    {
     "name": "stdout",
     "output_type": "stream",
     "text": [
      "Fail to reject the null hypothesis: Variances are not significantly different.\n"
     ]
    }
   ],
   "source": [
    "from scipy.stats import f\n",
    "\n",
    "# Waiting times at Restaurant A\n",
    "waiting_times_a = [24, 25, 28, 23, 22, 20, 27]\n",
    "\n",
    "# Waiting times at Restaurant B\n",
    "waiting_times_b = [31, 33, 35, 30, 32, 36]\n",
    "\n",
    "# Calculate variances\n",
    "variance_a = np.var(waiting_times_a, ddof=1)  # ddof=1 for sample variance\n",
    "variance_b = np.var(waiting_times_b, ddof=1)\n",
    "\n",
    "# Degrees of freedom\n",
    "df1 = len(waiting_times_a) - 1\n",
    "df2 = len(waiting_times_b) - 1\n",
    "\n",
    "# Calculate F-statistic\n",
    "f_statistic = variance_a / variance_b\n",
    "\n",
    "# Critical F-value\n",
    "alpha = 0.05\n",
    "critical_f_value = f.ppf(1 - alpha/2, df1, df2)\n",
    "\n",
    "# Compare F-statistic with critical F-value\n",
    "if f_statistic > critical_f_value:\n",
    "    print(\"Reject the null hypothesis: Variances are significantly different.\")\n",
    "else:\n",
    "    print(\"Fail to reject the null hypothesis: Variances are not significantly different.\")\n"
   ]
  },
  {
   "cell_type": "code",
   "execution_count": 2,
   "id": "c9d5e257-7ee6-4a08-814d-25abe6bdc0d8",
   "metadata": {},
   "outputs": [
    {
     "name": "stdout",
     "output_type": "stream",
     "text": [
      "Fail to reject the null hypothesis: Variances are not significantly different.\n"
     ]
    }
   ],
   "source": [
    "import numpy as np\n",
    "from scipy.stats import f\n",
    "\n",
    "# Test scores of Group A\n",
    "scores_group_a = [80, 85, 90, 92, 87, 83]\n",
    "\n",
    "# Test scores of Group B\n",
    "scores_group_b = [75, 78, 82, 79, 81, 84]\n",
    "\n",
    "# Calculate variances\n",
    "variance_group_a = np.var(scores_group_a, ddof=1)  # ddof=1 for sample variance\n",
    "variance_group_b = np.var(scores_group_b, ddof=1)\n",
    "\n",
    "# Degrees of freedom\n",
    "df1 = len(scores_group_a) - 1\n",
    "df2 = len(scores_group_b) - 1\n",
    "\n",
    "# Calculate F-statistic\n",
    "f_statistic = variance_group_a / variance_group_b\n",
    "\n",
    "# Critical F-value\n",
    "alpha = 0.01\n",
    "critical_f_value = f.ppf(1 - alpha/2, df1, df2)\n",
    "\n",
    "# Compare F-statistic with critical F-value\n",
    "if f_statistic > critical_f_value:\n",
    "    print(\"Reject the null hypothesis: Variances are significantly different.\")\n",
    "else:\n",
    "    print(\"Fail to reject the null hypothesis: Variances are not significantly different.\")\n"
   ]
  }
 ],
 "metadata": {
  "kernelspec": {
   "display_name": "Python 3 (ipykernel)",
   "language": "python",
   "name": "python3"
  },
  "language_info": {
   "codemirror_mode": {
    "name": "ipython",
    "version": 3
   },
   "file_extension": ".py",
   "mimetype": "text/x-python",
   "name": "python",
   "nbconvert_exporter": "python",
   "pygments_lexer": "ipython3",
   "version": "3.10.8"
  }
 },
 "nbformat": 4,
 "nbformat_minor": 5
}
