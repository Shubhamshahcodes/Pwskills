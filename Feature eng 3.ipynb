{
 "cells": [
  {
   "cell_type": "markdown",
   "id": "2014e913-7c88-4aa8-b09d-f7edaae43d05",
   "metadata": {},
   "source": [
    "# Q1. \n",
    "\n",
    "Data encoding is the process of converting categorical data into a numerical format that can be used by machine learning algorithms. It is useful in data science because many machine learning algorithms require numerical input, and encoding categorical variables allows us to include them in our models.\n",
    "\n",
    "# Q2. \n",
    "\n",
    "Nominal encoding, also known as label encoding, involves assigning a unique numerical value to each category in a categorical variable. For example, if we have a categorical variable \"color\" with categories \"red,\" \"blue,\" and \"green,\" we can assign numerical labels such as 0, 1, and 2, respectively.\n",
    "\n",
    "# Q3. \n",
    "\n",
    "Nominal encoding is preferred over one-hot encoding when the categorical variable has a large number of unique categories or when the categories have a natural order or hierarchy. For example, if we have a categorical variable \"education level\" with categories \"high school,\" \"college,\" and \"university,\" nominal encoding would be preferred because there is an inherent order among the categories.\n",
    "\n",
    "# Q4. \n",
    "\n",
    "If the dataset contains categorical data with 5 unique values, I would use nominal encoding. This is because nominal encoding assigns a unique numerical value to each category, allowing the categorical data to be represented in a format suitable for machine learning algorithms.\n",
    "\n",
    "# Q5. \n",
    "\n",
    "If we use nominal encoding to transform two categorical columns with 5 unique values each, the total number of new columns created would be 2. Each categorical column would be replaced by a single numerical column containing the encoded values.\n",
    "\n",
    "# Q6. \n",
    "\n",
    "For a dataset containing information about different types of animals, including their species, habitat, and diet, I would use one-hot encoding. This is because one-hot encoding creates binary columns for each category, effectively creating a new column for each unique category while preserving the information about each category's presence or absence.\n",
    "\n",
    "# Q7. \n",
    "\n",
    "To transform the categorical data into numerical data for the telecommunications company's dataset, I would use a combination of nominal encoding and possibly one-hot encoding. Here's how I would implement the encoding:\n",
    "\n",
    "For the \"gender\" feature, I would use nominal encoding, assigning numerical labels (e.g., 0 for \"male\" and 1 for \"female\").\n",
    "\n",
    "For the \"contract type\" feature, if there are only a few unique categories (e.g., \"month-to-month,\" \"one year,\" \"two year\"), I would use nominal encoding. \n",
    "\n",
    "However, if there are many unique categories, I might consider using one-hot encoding to create binary columns for each category.\n",
    "I would leave the numerical features (\"monthly charges\" and \"tenure\") unchanged, as they are already in a suitable format for machine learning algorithms."
   ]
  }
 ],
 "metadata": {
  "kernelspec": {
   "display_name": "Python 3 (ipykernel)",
   "language": "python",
   "name": "python3"
  },
  "language_info": {
   "codemirror_mode": {
    "name": "ipython",
    "version": 3
   },
   "file_extension": ".py",
   "mimetype": "text/x-python",
   "name": "python",
   "nbconvert_exporter": "python",
   "pygments_lexer": "ipython3",
   "version": "3.10.8"
  }
 },
 "nbformat": 4,
 "nbformat_minor": 5
}
