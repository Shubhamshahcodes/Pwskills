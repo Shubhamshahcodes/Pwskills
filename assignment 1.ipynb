{
 "cells": [
  {
   "cell_type": "code",
   "execution_count": 1,
   "id": "86286b19-fca4-406f-a7fb-ff7e380e07dd",
   "metadata": {},
   "outputs": [],
   "source": [
    "# Q1 1]"
   ]
  },
  {
   "cell_type": "code",
   "execution_count": 2,
   "id": "19a778e7-08da-442d-9e7b-86a9f24e1ed0",
   "metadata": {},
   "outputs": [],
   "source": [
    "a=\"shubham\""
   ]
  },
  {
   "cell_type": "code",
   "execution_count": 3,
   "id": "aa3b71aa-a3a4-40ed-b33d-695bde8f93e7",
   "metadata": {},
   "outputs": [
    {
     "data": {
      "text/plain": [
       "str"
      ]
     },
     "execution_count": 3,
     "metadata": {},
     "output_type": "execute_result"
    }
   ],
   "source": [
    "type(a)"
   ]
  },
  {
   "cell_type": "code",
   "execution_count": 4,
   "id": "956f32fe-8365-47f0-bb33-7f996d1bc343",
   "metadata": {},
   "outputs": [],
   "source": [
    "# Q1 2]"
   ]
  },
  {
   "cell_type": "code",
   "execution_count": 5,
   "id": "83740084-96b3-4b06-b1db-fb6e442ed5f8",
   "metadata": {},
   "outputs": [],
   "source": [
    "b=[2,3,4, \"shubham\" , 2.336 , True]"
   ]
  },
  {
   "cell_type": "code",
   "execution_count": 6,
   "id": "5e6cde77-9897-4822-9eba-1d2356ce46ae",
   "metadata": {},
   "outputs": [
    {
     "data": {
      "text/plain": [
       "list"
      ]
     },
     "execution_count": 6,
     "metadata": {},
     "output_type": "execute_result"
    }
   ],
   "source": [
    "type(b)"
   ]
  },
  {
   "cell_type": "code",
   "execution_count": 7,
   "id": "9a8e2cde-2bad-49d7-9093-4c2e51d7c366",
   "metadata": {},
   "outputs": [],
   "source": [
    "# Q1 3]"
   ]
  },
  {
   "cell_type": "code",
   "execution_count": 8,
   "id": "7afb8f3e-24a6-4ad0-9afc-1f7aec3a92e4",
   "metadata": {},
   "outputs": [],
   "source": [
    "c=6.999"
   ]
  },
  {
   "cell_type": "code",
   "execution_count": 9,
   "id": "7af09468-dd3d-4045-97ca-bbf9662f81af",
   "metadata": {},
   "outputs": [
    {
     "data": {
      "text/plain": [
       "float"
      ]
     },
     "execution_count": 9,
     "metadata": {},
     "output_type": "execute_result"
    }
   ],
   "source": [
    "type(c)"
   ]
  },
  {
   "cell_type": "code",
   "execution_count": 10,
   "id": "76b72f0f-529f-43d7-aeee-3fd70ad6cf9a",
   "metadata": {},
   "outputs": [],
   "source": [
    "# Q1 4]"
   ]
  },
  {
   "cell_type": "code",
   "execution_count": 12,
   "id": "1b577e5a-a88a-476f-811c-5e7e6c52f811",
   "metadata": {},
   "outputs": [
    {
     "name": "stdout",
     "output_type": "stream",
     "text": [
      "['pw', 'shubham', 'coding']\n"
     ]
    }
   ],
   "source": [
    "d=[\"pw\" , \"shubham\" , \"coding\"]\n",
    "print(d)\n"
   ]
  },
  {
   "cell_type": "code",
   "execution_count": 14,
   "id": "80816548-1723-425c-8b35-ee32bfb40942",
   "metadata": {},
   "outputs": [],
   "source": [
    "# Q2 1]"
   ]
  },
  {
   "cell_type": "code",
   "execution_count": 16,
   "id": "ac203ba6-547f-4fd3-b6f7-1de67d5d1906",
   "metadata": {},
   "outputs": [],
   "source": [
    "var1 = ''"
   ]
  },
  {
   "cell_type": "code",
   "execution_count": 17,
   "id": "a8ffe30b-6d53-4191-a94d-ffd8de812298",
   "metadata": {},
   "outputs": [
    {
     "data": {
      "text/plain": [
       "str"
      ]
     },
     "execution_count": 17,
     "metadata": {},
     "output_type": "execute_result"
    }
   ],
   "source": [
    "type(var1)"
   ]
  },
  {
   "cell_type": "code",
   "execution_count": 18,
   "id": "9a85f5ad-69d8-43fd-9629-ee660d2236c7",
   "metadata": {},
   "outputs": [],
   "source": [
    "# Q2 3]"
   ]
  },
  {
   "cell_type": "code",
   "execution_count": 27,
   "id": "f23c2a1f-e35c-4c30-b84b-762680632e69",
   "metadata": {},
   "outputs": [],
   "source": [
    "var3=[\"DS\" , \"ML\" , \"PYTHON\"]"
   ]
  },
  {
   "cell_type": "code",
   "execution_count": 28,
   "id": "b79cab53-3342-4d83-acb9-57b4b8548ceb",
   "metadata": {},
   "outputs": [
    {
     "data": {
      "text/plain": [
       "list"
      ]
     },
     "execution_count": 28,
     "metadata": {},
     "output_type": "execute_result"
    }
   ],
   "source": [
    "type(var3)"
   ]
  },
  {
   "cell_type": "code",
   "execution_count": 24,
   "id": "24f3426a-1f35-4de7-90ca-a540c5bcf675",
   "metadata": {},
   "outputs": [],
   "source": [
    "# Q2 2]"
   ]
  },
  {
   "cell_type": "code",
   "execution_count": 31,
   "id": "c5ecc655-5561-4518-b2f8-073b12370238",
   "metadata": {},
   "outputs": [],
   "source": [
    "var2 = '[ DS , ML , Python]'"
   ]
  },
  {
   "cell_type": "code",
   "execution_count": 32,
   "id": "a56a7707-8788-47d9-8fea-cf7612221445",
   "metadata": {},
   "outputs": [
    {
     "data": {
      "text/plain": [
       "str"
      ]
     },
     "execution_count": 32,
     "metadata": {},
     "output_type": "execute_result"
    }
   ],
   "source": [
    "type(var2)"
   ]
  },
  {
   "cell_type": "code",
   "execution_count": 30,
   "id": "6bfc9982-9b1a-468c-96d0-8037265a0f83",
   "metadata": {},
   "outputs": [],
   "source": [
    "# Q2 4]"
   ]
  },
  {
   "cell_type": "code",
   "execution_count": 33,
   "id": "53a780ea-c41f-4922-9688-2eb43a40c98c",
   "metadata": {},
   "outputs": [],
   "source": [
    "var4=1"
   ]
  },
  {
   "cell_type": "code",
   "execution_count": 34,
   "id": "20cbd027-7a03-4d04-91c3-7581ff2c3d11",
   "metadata": {},
   "outputs": [
    {
     "data": {
      "text/plain": [
       "int"
      ]
     },
     "execution_count": 34,
     "metadata": {},
     "output_type": "execute_result"
    }
   ],
   "source": [
    "type(var4)"
   ]
  },
  {
   "cell_type": "code",
   "execution_count": 35,
   "id": "3cada68b-7559-4361-9783-804dc385ce32",
   "metadata": {},
   "outputs": [],
   "source": [
    "# Q3 1] \n",
    "/ this operator is used for division"
   ]
  },
  {
   "cell_type": "code",
   "execution_count": 36,
   "id": "881f3fc4-504f-457d-b6a9-e33054088c6d",
   "metadata": {},
   "outputs": [],
   "source": [
    "# Q3 2] \n",
    "% this operator is used for modulus"
   ]
  },
  {
   "cell_type": "code",
   "execution_count": 37,
   "id": "4c5e577d-0949-4805-9832-0b24edf559a0",
   "metadata": {},
   "outputs": [],
   "source": [
    "# Q3 3] \n",
    "// this operator is used for floor division"
   ]
  },
  {
   "cell_type": "code",
   "execution_count": 39,
   "id": "31cfe9fb-896a-4fe9-8f8a-56d26ef81209",
   "metadata": {},
   "outputs": [],
   "source": [
    "# Q3 4] \n",
    "** this operator is used for giving power also known as exponential operator "
   ]
  },
  {
   "cell_type": "code",
   "execution_count": 40,
   "id": "515ea45f-52d4-4488-9f80-637ff2b51f7b",
   "metadata": {},
   "outputs": [],
   "source": [
    "# Q4. Create a list of length 10 of your choice containing multiple types of data. Using for loop print the element and its data type. "
   ]
  },
  {
   "cell_type": "code",
   "execution_count": 3,
   "id": "712809ee-d700-48d1-96be-c3fc4860a0a9",
   "metadata": {},
   "outputs": [],
   "source": [
    "l=[2,3,4, \"shubham\" , 3.559 , True , False , \"python\" , \"jupyter\" , \"10\"]"
   ]
  },
  {
   "cell_type": "code",
   "execution_count": 5,
   "id": "a4c8ebb7-80db-41a0-9130-8093442c11d6",
   "metadata": {},
   "outputs": [
    {
     "name": "stdout",
     "output_type": "stream",
     "text": [
      "2\n",
      "<class 'int'>\n",
      "3\n",
      "<class 'int'>\n",
      "4\n",
      "<class 'int'>\n",
      "shubham\n",
      "<class 'str'>\n",
      "3.559\n",
      "<class 'float'>\n",
      "True\n",
      "<class 'bool'>\n",
      "False\n",
      "<class 'bool'>\n",
      "python\n",
      "<class 'str'>\n",
      "jupyter\n",
      "<class 'str'>\n",
      "10\n",
      "<class 'str'>\n"
     ]
    }
   ],
   "source": [
    "for i in l:\n",
    "    print(i)\n",
    "    print(type(i))"
   ]
  },
  {
   "cell_type": "code",
   "execution_count": 44,
   "id": "ff236268-48b6-495b-bc63-674caa221cea",
   "metadata": {},
   "outputs": [],
   "source": [
    "# Q5 Using a while loop, verify if the number A is purely divisible by number B and if so then how many times it can be divisible."
   ]
  },
  {
   "cell_type": "code",
   "execution_count": 7,
   "id": "ac00f114-e807-4aec-b45c-a4d847f4d0ca",
   "metadata": {},
   "outputs": [
    {
     "name": "stdin",
     "output_type": "stream",
     "text": [
      " 999\n",
      " 3\n"
     ]
    },
    {
     "name": "stdout",
     "output_type": "stream",
     "text": [
      "A is divisible by B. It can be divided 3 times.\n"
     ]
    }
   ],
   "source": [
    "A = int(input())\n",
    "B = int(input())\n",
    "\n",
    "divisions = 0  \n",
    "\n",
    "while A % B == 0:\n",
    "    A = A / B\n",
    "    divisions += 1\n",
    "\n",
    "if divisions > 0:\n",
    "    print(f\"A is divisible by B. It can be divided {divisions} times.\")\n",
    "else:\n",
    "    print(\"A is not divisible by B.\")\n"
   ]
  },
  {
   "cell_type": "code",
   "execution_count": 8,
   "id": "2b4c75d9-a0ce-42a3-98c2-73b0f21e0803",
   "metadata": {},
   "outputs": [],
   "source": [
    "#6 Create a list containing 25 int type data. Using for loop and if-else condition print if the element is divisible by 3 or not"
   ]
  },
  {
   "cell_type": "code",
   "execution_count": 9,
   "id": "48099627-0395-4f01-9fdd-a1237d13120c",
   "metadata": {},
   "outputs": [
    {
     "name": "stdout",
     "output_type": "stream",
     "text": [
      "1 is not divisible by 3\n",
      "2 is not divisible by 3\n",
      "3 is divisible by 3\n",
      "4 is not divisible by 3\n",
      "5 is not divisible by 3\n",
      "6 is divisible by 3\n",
      "7 is not divisible by 3\n",
      "8 is not divisible by 3\n",
      "9 is divisible by 3\n",
      "10 is not divisible by 3\n",
      "11 is not divisible by 3\n",
      "12 is divisible by 3\n",
      "13 is not divisible by 3\n",
      "14 is not divisible by 3\n",
      "15 is divisible by 3\n",
      "16 is not divisible by 3\n",
      "17 is not divisible by 3\n",
      "18 is divisible by 3\n",
      "19 is not divisible by 3\n",
      "20 is not divisible by 3\n",
      "21 is divisible by 3\n",
      "22 is not divisible by 3\n",
      "23 is not divisible by 3\n",
      "24 is divisible by 3\n",
      "25 is not divisible by 3\n"
     ]
    }
   ],
   "source": [
    "l = list(range(1, 26)) \n",
    "\n",
    "for a in l:\n",
    "    if a % 3 == 0:\n",
    "        print(f\"{a} is divisible by 3\")\n",
    "    else:\n",
    "        print(f\"{a} is not divisible by 3\")\n"
   ]
  },
  {
   "cell_type": "code",
   "execution_count": 10,
   "id": "756ac647-88e3-4e90-8860-7ca845ea07a3",
   "metadata": {},
   "outputs": [],
   "source": [
    "#Q7 What do you understand about mutable and immutable data types? Give examples for both showingthis property."
   ]
  },
  {
   "cell_type": "code",
   "execution_count": null,
   "id": "a631297c-c8a1-4429-bf02-cf26f7a765e7",
   "metadata": {},
   "outputs": [],
   "source": [
    "# The terms mutable and immutable data types in Python refer to whether an object's value may be altered after it is created.\n",
    "# Immutable data types have values that cannot be changed once allocated. \n",
    "\n",
    "# eg: integers,floats,strings\n",
    "\n",
    "# Mutable data types, on the other hand, allow for modifications to the object after it has been formed. The object's identification stays unchanged; only its internal state changes.\n",
    "\n",
    "# Eg: List "
   ]
  }
 ],
 "metadata": {
  "kernelspec": {
   "display_name": "Python 3 (ipykernel)",
   "language": "python",
   "name": "python3"
  },
  "language_info": {
   "codemirror_mode": {
    "name": "ipython",
    "version": 3
   },
   "file_extension": ".py",
   "mimetype": "text/x-python",
   "name": "python",
   "nbconvert_exporter": "python",
   "pygments_lexer": "ipython3",
   "version": "3.10.8"
  }
 },
 "nbformat": 4,
 "nbformat_minor": 5
}
