{
 "cells": [
  {
   "cell_type": "markdown",
   "id": "7177cb5c-7926-4218-8685-57c011e81bb0",
   "metadata": {},
   "source": [
    "Q1: Estimation Statistics involves estimating population parameters based on sample statistics. Point estimate is a single value that serves as the best guess for the population parameter, while interval estimate provides a range of values within which the population parameter is likely to lie.\n",
    "\n",
    "Q2: Hypothesis testing is a statistical method used to make inferences about population parameters based on sample data. It involves formulating null and alternative hypotheses, collecting sample data, and making a decision about the null hypothesis using statistical tests.\n",
    "\n",
    "Q3: Type 1 error occurs when the null hypothesis is rejected when it is actually true. Type 2 error occurs when the null hypothesis is not rejected when it is actually false. An example of Type 1 error is convicting an innocent person (rejecting the null hypothesis of innocence) based on insufficient evidence. An example of Type 2 error is failing to convict a guilty person (failing to reject the null hypothesis of innocence) due to lack of evidence.\n",
    "\n",
    "Q4: Bayes's theorem is a fundamental theorem in probability theory that describes the probability of an event, based on prior knowledge of conditions that might be related to the event. It is used to update the probability of an event occurring given new evidence. An example is predicting the probability of a disease given the results of a diagnostic test.\n",
    "\n",
    "Q5: A confidence interval is a range of values that is likely to contain the true population parameter with a certain level of confidence. It is calculated using sample statistics and measures the precision of an estimate. For example, a 95% confidence interval for the population mean salary of employees in a company might be $40,000 to $50,000, indicating that we are 95% confident that the true mean salary falls within this range.\n",
    "\n",
    "Q6: Bayes' Theorem is a fundamental theorem in probability theory that describes the probability of an event, based on prior knowledge of conditions that might be related to the event. It is used to update the probability of an event occurring given new evidence. The formula for Bayes' Theorem is: P(A|B) = (P(B|A) * P(A)) / P(B)\n",
    "\n",
    "Q7: The z-score is a measure of how many standard deviations a data point is from the mean of a distribution. It indicates whether a data point is above or below the mean, and by how much. The z-score is important because it allows us to compare data points from different distributions and determine their relative positions.\n",
    "\n",
    "Q8: The Central Limit Theorem states that the sampling distribution of the sample mean approaches a normal distribution as the sample size increases, regardless of the shape of the population distribution. This theorem is important because it allows us to make inferences about population parameters based on sample statistics, even when the population distribution is unknown or non-normal.\n",
    "\n",
    "Q9: A confidence interval is a range of values that is likely to contain the true population parameter with a certain level of confidence. It is calculated using sample statistics and measures the precision of an estimate. The confidence interval provides information about the reliability and precision of the sample estimate, and is used to make inferences about the population parameter."
   ]
  },
  {
   "cell_type": "code",
   "execution_count": 1,
   "id": "1289c6ab-319f-451c-bee0-2d789e73ae26",
   "metadata": {},
   "outputs": [
    {
     "name": "stdout",
     "output_type": "stream",
     "text": [
      "Reject the null hypothesis. The drug is significantly effective.\n"
     ]
    }
   ],
   "source": [
    "import numpy as np\n",
    "import scipy.stats as stats\n",
    "\n",
    "# Question 10\n",
    "# Conduct a hypothesis test to determine if the drug is significantly effective at a 95% confidence level using a t-test.\n",
    "\n",
    "# Given data\n",
    "sample_mean = 6\n",
    "sample_std_dev = 2.5\n",
    "n = 50\n",
    "pop_mean = 0  # Null hypothesis: The drug has no effect (mean difference is zero)\n",
    "\n",
    "# Calculate t-score\n",
    "t_score = (sample_mean - pop_mean) / (sample_std_dev / np.sqrt(n))\n",
    "\n",
    "# Calculate p-value\n",
    "p_value = stats.t.sf(np.abs(t_score), n - 1) * 2  # two-tailed test\n",
    "\n",
    "# Compare p-value with significance level (0.05)\n",
    "alpha = 0.05\n",
    "if p_value < alpha:\n",
    "    print(\"Reject the null hypothesis. The drug is significantly effective.\")\n",
    "else:\n",
    "    print(\"Fail to reject the null hypothesis. The drug is not significantly effective.\")\n"
   ]
  },
  {
   "cell_type": "code",
   "execution_count": 2,
   "id": "27aa7d45-5577-4ca9-860c-5776bfea8568",
   "metadata": {},
   "outputs": [
    {
     "name": "stdout",
     "output_type": "stream",
     "text": [
      "95% Confidence Interval: (0.6082, 0.6918)\n"
     ]
    }
   ],
   "source": [
    "# Question 11\n",
    "# Calculate the 95% confidence interval for the true proportion of people who are satisfied with their job.\n",
    "\n",
    "# Given data\n",
    "n = 500\n",
    "p_hat = 0.65  # Sample proportion\n",
    "\n",
    "# Calculate standard error\n",
    "standard_error = np.sqrt((p_hat * (1 - p_hat)) / n)\n",
    "\n",
    "# Calculate margin of error\n",
    "margin_of_error = 1.96 * standard_error  # Z-score for 95% confidence level\n",
    "\n",
    "# Calculate confidence interval\n",
    "lower_bound = p_hat - margin_of_error\n",
    "upper_bound = p_hat + margin_of_error\n",
    "\n",
    "print(f\"95% Confidence Interval: ({lower_bound:.4f}, {upper_bound:.4f})\")"
   ]
  },
  {
   "cell_type": "code",
   "execution_count": 3,
   "id": "952ab85a-6820-41e6-98ae-9fee590fcb19",
   "metadata": {},
   "outputs": [
    {
     "name": "stdout",
     "output_type": "stream",
     "text": [
      "Fail to reject the null hypothesis. There is no significant difference in student performance between the two teaching methods.\n"
     ]
    }
   ],
   "source": [
    "# Question 12\n",
    "# Conduct a hypothesis test to determine if the two teaching methods have a significant difference in student performance using a t-test with a significance level of 0.01.\n",
    "\n",
    "# Given data\n",
    "mean_A = 85\n",
    "std_dev_A = 6\n",
    "n_A = 30\n",
    "mean_B = 82\n",
    "std_dev_B = 5\n",
    "n_B = 30\n",
    "\n",
    "# Calculate pooled standard deviation\n",
    "pooled_std_dev = np.sqrt(((n_A - 1) * std_dev_A ** 2 + (n_B - 1) * std_dev_B ** 2) / (n_A + n_B - 2))\n",
    "\n",
    "# Calculate t-score\n",
    "t_score = (mean_A - mean_B) / (pooled_std_dev * np.sqrt(1 / n_A + 1 / n_B))\n",
    "\n",
    "# Compare t-score with critical value\n",
    "alpha = 0.01\n",
    "critical_value = stats.t.ppf(1 - alpha / 2, n_A + n_B - 2)  # two-tailed test\n",
    "if np.abs(t_score) > critical_value:\n",
    "    print(\"Reject the null hypothesis. There is a significant difference in student performance between the two teaching methods.\")\n",
    "else:\n",
    "    print(\"Fail to reject the null hypothesis. There is no significant difference in student performance between the two teaching methods.\")"
   ]
  },
  {
   "cell_type": "code",
   "execution_count": 4,
   "id": "db4708d0-efeb-462f-88ff-286c1fd84016",
   "metadata": {},
   "outputs": [
    {
     "name": "stdout",
     "output_type": "stream",
     "text": [
      "90% Confidence Interval: (58.1391, 61.8609)\n"
     ]
    }
   ],
   "source": [
    "# Question 13\n",
    "# Calculate the 90% confidence interval for the true population mean.\n",
    "\n",
    "# Given data\n",
    "pop_mean = 60\n",
    "pop_std_dev = 8\n",
    "n = 50\n",
    "alpha = 0.10  # 90% confidence level\n",
    "\n",
    "# Calculate standard error\n",
    "standard_error = pop_std_dev / np.sqrt(n)\n",
    "\n",
    "# Calculate margin of error\n",
    "margin_of_error = stats.norm.ppf(1 - alpha / 2) * standard_error\n",
    "\n",
    "# Calculate confidence interval\n",
    "lower_bound = pop_mean - margin_of_error\n",
    "upper_bound = pop_mean + margin_of_error\n",
    "\n",
    "print(f\"90% Confidence Interval: ({lower_bound:.4f}, {upper_bound:.4f})\")\n"
   ]
  },
  {
   "cell_type": "code",
   "execution_count": 5,
   "id": "9f259784-55c5-4332-bc2b-05243bd0e603",
   "metadata": {},
   "outputs": [
    {
     "name": "stdout",
     "output_type": "stream",
     "text": [
      "Reject the null hypothesis. Caffeine has a significant effect on reaction time.\n"
     ]
    }
   ],
   "source": [
    "# Question 14\n",
    "# Conduct a hypothesis test to determine if the caffeine has a significant effect on reaction time at a 90% confidence level using a t-test.\n",
    "\n",
    "# Given data\n",
    "sample_mean = 0.25\n",
    "sample_std_dev = 0.05\n",
    "n = 30\n",
    "pop_mean = 0  # Null hypothesis: Caffeine has no effect on reaction time\n",
    "\n",
    "# Calculate t-score\n",
    "t_score = (sample_mean - pop_mean) / (sample_std_dev / np.sqrt(n))\n",
    "\n",
    "# Calculate p-value\n",
    "p_value = stats.t.sf(np.abs(t_score), n - 1)  # one-tailed test\n",
    "\n",
    "# Compare p-value with significance level (0.10)\n",
    "alpha = 0.10\n",
    "if p_value < alpha:\n",
    "    print(\"Reject the null hypothesis. Caffeine has a significant effect on reaction time.\")\n",
    "else:\n",
    "    print(\"Fail to reject the null hypothesis. Caffeine does not have a significant effect on reaction time.\")"
   ]
  }
 ],
 "metadata": {
  "kernelspec": {
   "display_name": "Python 3 (ipykernel)",
   "language": "python",
   "name": "python3"
  },
  "language_info": {
   "codemirror_mode": {
    "name": "ipython",
    "version": 3
   },
   "file_extension": ".py",
   "mimetype": "text/x-python",
   "name": "python",
   "nbconvert_exporter": "python",
   "pygments_lexer": "ipython3",
   "version": "3.10.8"
  }
 },
 "nbformat": 4,
 "nbformat_minor": 5
}
