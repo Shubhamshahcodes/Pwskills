{
 "cells": [
  {
   "cell_type": "code",
   "execution_count": null,
   "id": "3d0d6e12-8b6f-45f6-88ae-9b590634553e",
   "metadata": {},
   "outputs": [
    {
     "name": "stdout",
     "output_type": "stream",
     "text": [
      "Sample dataset:\n",
      "   numerical_feature_1  numerical_feature_2  numerical_feature_3  \\\n",
      "0            -0.529332            -0.093387            -1.526572   \n",
      "1            -0.978500            -1.690672             1.229308   \n",
      "2            -2.171571             0.545787             1.253433   \n",
      "3            -0.151299            -0.365506             1.335714   \n",
      "4            -0.777371             1.146030            -2.479343   \n",
      "\n",
      "   categorical_feature_1  categorical_feature_2  \n",
      "0               0.406847              -0.619699  \n",
      "1              -0.703071               0.202055  \n",
      "2               1.527726               1.780785  \n",
      "3               0.038355              -0.005317  \n",
      "4               0.297014               1.518522  \n"
     ]
    }
   ],
   "source": [
    "import pandas as pd\n",
    "import numpy as np\n",
    "from sklearn.datasets import make_classification\n",
    "\n",
    "# Generate a sample dataset\n",
    "X, y = make_classification(n_samples=1000, n_features=5, n_informative=3, n_redundant=0, n_classes=2, random_state=42)\n",
    "\n",
    "# Convert X to a DataFrame\n",
    "columns = ['numerical_feature_1', 'numerical_feature_2', 'numerical_feature_3', 'categorical_feature_1', 'categorical_feature_2']\n",
    "X_df = pd.DataFrame(X, columns=columns)\n",
    "\n",
    "# Display the first few rows of the dataset\n",
    "print(\"Sample dataset:\")\n",
    "print(X_df.head())\n",
    "\n",
    "# Define numerical and categorical features\n",
    "numerical_features = ['numerical_feature_1', 'numerical_feature_2', 'numerical_feature_3']\n",
    "categorical_features = ['categorical_feature_1', 'categorical_feature_2']\n",
    "\n"
   ]
  },
  {
   "cell_type": "code",
   "execution_count": 8,
   "id": "ed356b0c-512b-46e9-8bb6-a444a95f567d",
   "metadata": {},
   "outputs": [
    {
     "name": "stdout",
     "output_type": "stream",
     "text": [
      "Accuracy: 0.92\n"
     ]
    }
   ],
   "source": [
    "from sklearn.pipeline import Pipeline\n",
    "from sklearn.compose import ColumnTransformer\n",
    "from sklearn.impute import SimpleImputer\n",
    "from sklearn.preprocessing import StandardScaler, OneHotEncoder\n",
    "from sklearn.ensemble import RandomForestClassifier\n",
    "from sklearn.model_selection import train_test_split\n",
    "from sklearn.metrics import accuracy_score\n",
    "\n",
    "# Step 1: Define the numerical and categorical features\n",
    "numerical_features = ['numerical_feature_1', 'numerical_feature_2', 'numerical_feature_3']\n",
    "categorical_features = ['categorical_feature_1', 'categorical_feature_2']\n",
    "\n",
    "# Step 2: Define the preprocessing pipelines for numerical and categorical features\n",
    "numerical_pipeline = Pipeline([\n",
    "    ('imputer', SimpleImputer(strategy='mean')),  # Impute missing values with the mean\n",
    "    ('scaler', StandardScaler())  # Standardize the numerical features\n",
    "])\n",
    "\n",
    "categorical_pipeline = Pipeline([\n",
    "    ('imputer', SimpleImputer(strategy='most_frequent')),  # Impute missing values with the most frequent value\n",
    "    ('encoder', OneHotEncoder(handle_unknown='ignore'))  # One-hot encode the categorical features and ignore unknown categories\n",
    "])\n",
    "\n",
    "\n",
    "# Step 3: Combine numerical and categorical pipelines\n",
    "preprocessor = ColumnTransformer([\n",
    "    ('numerical', numerical_pipeline, numerical_features),\n",
    "    ('categorical', categorical_pipeline, categorical_features)\n",
    "])\n",
    "\n",
    "# Step 4: Define the final pipeline with Random Forest Classifier\n",
    "pipeline = Pipeline([\n",
    "    ('preprocessor', preprocessor),\n",
    "    ('classifier', RandomForestClassifier())\n",
    "])\n",
    "\n",
    "# Step 5: Split the dataset into training and testing sets\n",
    "X_train, X_test, y_train, y_test = train_test_split(X_df, y, test_size=0.2, random_state=42)\n",
    "\n",
    "# Step 6: Train the pipeline on the training data\n",
    "pipeline.fit(X_train, y_train)\n",
    "\n",
    "# Step 7: Make predictions on the test data\n",
    "y_pred = pipeline.predict(X_test)\n",
    "\n",
    "# Step 8: Evaluate the accuracy of the model\n",
    "accuracy = accuracy_score(y_test, y_pred)\n",
    "print(\"Accuracy:\", accuracy)\n"
   ]
  },
  {
   "cell_type": "markdown",
   "id": "e06d8b98-df6a-4194-89a9-d8f9e537c422",
   "metadata": {},
   "source": [
    "# Q2"
   ]
  }
 ],
 "metadata": {
  "kernelspec": {
   "display_name": "Python 3 (ipykernel)",
   "language": "python",
   "name": "python3"
  },
  "language_info": {
   "codemirror_mode": {
    "name": "ipython",
    "version": 3
   },
   "file_extension": ".py",
   "mimetype": "text/x-python",
   "name": "python",
   "nbconvert_exporter": "python",
   "pygments_lexer": "ipython3",
   "version": "3.10.8"
  }
 },
 "nbformat": 4,
 "nbformat_minor": 5
}
