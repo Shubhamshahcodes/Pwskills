import pandas as pd
import numpy as np
import seaborn as sns
import matplotlib.pyplot as plt
from sklearn.model_selection import train_test_split
from sklearn.tree import DecisionTreeClassifier
from sklearn.metrics import accuracy_score, precision_score, recall_score, f1_score, confusion_matrix, roc_curve, roc_auc_score

# Step 1: Import the dataset
diabetes_df = pd.read_csv('diabetes.csv')

# Step 2: Exploratory Data Analysis (EDA)
# Display the first few rows of the dataset
print(diabetes_df.head())

# Summary statistics
print(diabetes_df.describe())

# Visualize the distribution of each variable
sns.pairplot(diabetes_df, hue='Outcome')
plt.show()

# Calculate correlation matrix
corr_matrix = diabetes_df.corr()
sns.heatmap(corr_matrix, annot=True, cmap='coolwarm')
plt.title('Correlation Matrix')
plt.show()

# Step 3: Data Preprocessing
# Check for missing values
print(diabetes_df.isnull().sum())

# Check for outliers and handle them if necessary
# Remove outliers using IQR method or other techniques

# Step 4: Split the dataset into training and test sets
X = diabetes_df.drop('Outcome', axis=1)
y = diabetes_df['Outcome']
X_train, X_test, y_train, y_test = train_test_split(X, y, test_size=0.2, random_state=42)

# Step 5: Model Training
dt_classifier = DecisionTreeClassifier(random_state=42)
dt_classifier.fit(X_train, y_train)

# Step 6: Model Evaluation
# Predictions on the test set
y_pred = dt_classifier.predict(X_test)

# Calculate evaluation metrics
accuracy = accuracy_score(y_test, y_pred)
precision = precision_score(y_test, y_pred)
recall = recall_score(y_test, y_pred)
f1 = f1_score(y_test, y_pred)

# Confusion matrix
conf_matrix = confusion_matrix(y_test, y_pred)
print("Confusion Matrix:")
print(conf_matrix)

# ROC curve and AUC
y_probs = dt_classifier.predict_proba(X_test)[:, 1]
fpr, tpr, thresholds = roc_curve(y_test, y_probs)
auc = roc_auc_score(y_test, y_probs)

# Step 7: Interpretation
# Interpret the decision tree model, identify important variables, and their thresholds

# Step 8: Model Validation
# Validate the model on new data or test its robustness

# Display evaluation metrics
print("Accuracy:", accuracy)
print("Precision:", precision)
print("Recall:", recall)
print("F1 Score:", f1)
print("AUC Score:", auc)

# Plot ROC curve
plt.plot(fpr, tpr, label='ROC Curve (AUC = %0.2f)' % auc)
plt.xlabel('False Positive Rate')
plt.ylabel('True Positive Rate')
plt.title('ROC Curve')
plt.legend()
plt.show()


