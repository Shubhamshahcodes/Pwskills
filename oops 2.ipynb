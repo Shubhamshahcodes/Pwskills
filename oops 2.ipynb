{
 "cells": [
  {
   "cell_type": "code",
   "execution_count": null,
   "id": "a8ff5313-ec2d-4b39-8ba3-c672c5f0e147",
   "metadata": {},
   "outputs": [],
   "source": [
    "Q1. What is Abstraction in OOps? Explain with an example.\n",
    "\n",
    "Abstraction is a notion in Object-Oriented Programming (OOP) that focuses on portraying an object's fundamental characteristics and behaviours while obscuring superfluous information.\n",
    "It enables you to specify the structure and common behaviour of objects without giving their entire implementation by creating abstract classes or interfaces.\n",
    "Abstraction aids in the creation of a high-level perspective of things as well as the simplification of complicated systems by breaking them down into manageable components.\n",
    "Abstraction enables you to build a blueprint for classes that includes only the properties and methods needed for a certain notion, without describing how those attributes and methods are implemented. \n",
    "The concrete subclasses that inherit from the abstract class are responsible for the actual implementation details.\n",
    "\n",
    "\n",
    "\n"
   ]
  },
  {
   "cell_type": "code",
   "execution_count": 1,
   "id": "ecd3cdb1-5674-4532-a87a-04335d7bf3f6",
   "metadata": {},
   "outputs": [],
   "source": [
    "import abc\n",
    "class pwskills:\n",
    "    \n",
    "    @abc.abstractmethod\n",
    "    def student_details(self):\n",
    "        pass\n",
    "    \n",
    "    @abc.abstractmethod\n",
    "    def student_assignment(self):\n",
    "        pass\n",
    "    \n",
    "    @abc.abstractmethod\n",
    "    def student_marks(self):\n",
    "        pass"
   ]
  },
  {
   "cell_type": "code",
   "execution_count": 2,
   "id": "c588ce09-1bf0-43cb-bc3d-200b4188252d",
   "metadata": {},
   "outputs": [],
   "source": [
    "class students_details(pwskills):\n",
    "    \n",
    "    def student_details(self):\n",
    "        return \"this is method for taking the stidents details\"\n",
    "    \n",
    "    def student_assignment(self):\n",
    "        return \"this is method to assign assignments to students\"\n",
    "    \n",
    "    def student_marks(self):\n",
    "        return \"this is method for students marks\""
   ]
  },
  {
   "cell_type": "code",
   "execution_count": 3,
   "id": "35703827-876d-4719-9efc-4b192abf195d",
   "metadata": {},
   "outputs": [],
   "source": [
    "class data_science_masters(pwskills):\n",
    "    \n",
    "    def student_assignment(self):\n",
    "        return \"this will return data science masters assignments\"\n",
    "    \n",
    "    def student_details(self):\n",
    "        return \"this will return data science masters students details\"\n",
    "    "
   ]
  },
  {
   "cell_type": "code",
   "execution_count": 4,
   "id": "aeaf5922-e027-49fc-86e5-21b07148d2a0",
   "metadata": {},
   "outputs": [
    {
     "data": {
      "text/plain": [
       "'this will return data science masters students details'"
      ]
     },
     "execution_count": 4,
     "metadata": {},
     "output_type": "execute_result"
    }
   ],
   "source": [
    "dsm=data_science_masters()\n",
    "dsm.student_details()"
   ]
  },
  {
   "cell_type": "code",
   "execution_count": 5,
   "id": "42f66949-c183-44d9-88a9-ebd7466cdaa5",
   "metadata": {},
   "outputs": [
    {
     "data": {
      "text/plain": [
       "'this is method for taking the stidents details'"
      ]
     },
     "execution_count": 5,
     "metadata": {},
     "output_type": "execute_result"
    }
   ],
   "source": [
    "sd=students_details()\n",
    "sd.student_details()"
   ]
  },
  {
   "cell_type": "code",
   "execution_count": null,
   "id": "5ec26b7a-144a-4fcc-8a58-f23a1f18ef57",
   "metadata": {},
   "outputs": [],
   "source": [
    "\"\"\"abstraction helps you in defining a skeleton for the whole coding\"\"\""
   ]
  },
  {
   "cell_type": "code",
   "execution_count": null,
   "id": "c519a848-761d-4b93-948f-ca6908c18575",
   "metadata": {},
   "outputs": [],
   "source": [
    "Q2.\n",
    "\n",
    "Abstraction and encapsulation are two important concepts in Object-Oriented Programming (OOP), and they serve different purposes in organizing and designing classes. \n",
    "Let's differentiate between them and explain each concept with an example:\n",
    "\n",
    "1. Abstraction\n",
    "\n",
    "A]\n",
    "Abstraction emphasizes portraying an object's fundamental traits and behaviors while hiding unnecessary details. \n",
    "It enables you to specify objects' structure and common behavior without giving their entire implementation by creating abstract classes or interfaces.\n",
    "\n",
    "B]\n",
    "Abstraction allows you to create a high-level view of objects and simplify complex systems by breaking them down into manageable components.\n",
    "\n",
    "C]\n",
    "It helps in defining a blueprint for classes with only the necessary attributes and methods required for a particular concept, without specifying how those attributes and methods are implemented.\n",
    "\n",
    "D]\n",
    "Abstraction is achieved using abstract classes and abstract methods in Python.\n",
    "\n",
    "An example of abstraction is already given above.\n",
    "\n"
   ]
  },
  {
   "cell_type": "code",
   "execution_count": null,
   "id": "5ecdfe64-a8bd-4add-b740-274e1a40f397",
   "metadata": {},
   "outputs": [],
   "source": [
    "2. Encapsulation \n",
    "\n",
    "A] \n",
    "Encapsulation is like putting data and functions that work with that data inside a box (class).\n",
    "This box keeps the details of how things work hidden from the outside, so only certain things can be done with the data using predefined methods.\n",
    "It's like a protective barrier that allows safe and controlled access to the data without revealing how it's managed inside the class.\n",
    "\n",
    "B] \n",
    "In simple terms, encapsulation helps in organizing data and actions that work with that data inside a class.\n",
    "It ensures that the data can only be accessed and modified through specific methods, giving control over how the data is used and preventing unwanted changes from outside.\n",
    "Encapsulation acts as a shield, protecting the inner workings of an object from being directly manipulated by external elements, which helps maintain the integrity and security of the data."
   ]
  },
  {
   "cell_type": "code",
   "execution_count": 6,
   "id": "7e910898-bb23-4dee-b783-4953a5b5b73a",
   "metadata": {},
   "outputs": [],
   "source": [
    "'''Example of encapsulation:'''\n",
    "\n",
    "\n",
    "class bank_ac:\n",
    "    def __init__(self,balance):\n",
    "        self.__balance=balance\n",
    "    \n",
    "    def deposit(self,amount):\n",
    "        self.__balance=self.__balance+amount\n",
    "        \n",
    "    def withdraw(self,amount):\n",
    "        if self.__balance>=amount:\n",
    "            self.__balance=self.__balance-amount\n",
    "            return True\n",
    "        else:\n",
    "            return False\n",
    "        \n",
    "    def get_balance(self):\n",
    "        return self.__balance\n",
    "        \n",
    "        \n",
    "        \n",
    "    "
   ]
  },
  {
   "cell_type": "code",
   "execution_count": 7,
   "id": "f5bae80b-b77c-4105-87f2-e98e1891b9a2",
   "metadata": {},
   "outputs": [],
   "source": [
    "shubham=bank_ac(100000)"
   ]
  },
  {
   "cell_type": "code",
   "execution_count": 8,
   "id": "840b00ae-078c-49fc-941e-a87c9cf50ba4",
   "metadata": {},
   "outputs": [
    {
     "data": {
      "text/plain": [
       "100000"
      ]
     },
     "execution_count": 8,
     "metadata": {},
     "output_type": "execute_result"
    }
   ],
   "source": [
    "shubham.get_balance()"
   ]
  },
  {
   "cell_type": "code",
   "execution_count": 9,
   "id": "916f9adf-1698-4746-8ab7-60574b44d6cf",
   "metadata": {},
   "outputs": [],
   "source": [
    "shubham.deposit(1000)"
   ]
  },
  {
   "cell_type": "code",
   "execution_count": 10,
   "id": "54458cdf-d567-46e5-a940-4ba8c6721682",
   "metadata": {},
   "outputs": [
    {
     "data": {
      "text/plain": [
       "101000"
      ]
     },
     "execution_count": 10,
     "metadata": {},
     "output_type": "execute_result"
    }
   ],
   "source": [
    "shubham.get_balance()"
   ]
  },
  {
   "cell_type": "code",
   "execution_count": 11,
   "id": "abf6b0c4-2203-4224-b13a-f1bff72c81bc",
   "metadata": {},
   "outputs": [
    {
     "data": {
      "text/plain": [
       "True"
      ]
     },
     "execution_count": 11,
     "metadata": {},
     "output_type": "execute_result"
    }
   ],
   "source": [
    "shubham.withdraw(5000)"
   ]
  },
  {
   "cell_type": "code",
   "execution_count": 12,
   "id": "d4689cdb-f816-473e-86ea-500635e5150a",
   "metadata": {},
   "outputs": [
    {
     "data": {
      "text/plain": [
       "96000"
      ]
     },
     "execution_count": 12,
     "metadata": {},
     "output_type": "execute_result"
    }
   ],
   "source": [
    "shubham.get_balance()"
   ]
  },
  {
   "cell_type": "code",
   "execution_count": null,
   "id": "b2fb4db9-401d-495d-bf5c-f123be27be71",
   "metadata": {},
   "outputs": [],
   "source": [
    "Q3.\n",
    "\n",
    "The `abc` module in Python is for working with abstract classes and methods. \n",
    "Abstract classes act as templates for other classes and cannot be directly used to create objects. \n",
    "Instead, they define a common structure and behavior that subclasses should have. \n",
    "Abstract methods are methods within abstract classes that have no implementation but must be implemented in the subclasses. \n",
    "The `abc` module helps enforce this structure and ensures that specific methods are implemented in the appropriate subclasses. \n",
    "It allows you to create a consistent pattern for related classes and promotes organized and maintainable code in object-oriented programming."
   ]
  },
  {
   "cell_type": "code",
   "execution_count": null,
   "id": "7ba18e06-65ca-48eb-85ab-47290f711f50",
   "metadata": {},
   "outputs": [],
   "source": [
    "Q4.\n",
    "\n",
    "To achieve data abstraction in Python, you can use classes and objects. \n",
    "Abstraction allows you to define a high-level view of objects by hiding unnecessary implementation details and exposing only the essential attributes and methods. \n",
    "\n",
    "Follow these steps:\n",
    "\n",
    "Define a Class:\n",
    "Create a class representing the abstract concept you want to abstract. \n",
    "It should contain attributes and methods representing the essential features.\n",
    "\n",
    "Hide Implementation Details:\n",
    "Use access modifiers to control the visibility of attributes.\n",
    "By making certain attributes private or protected, you hide implementation details from external access.\n",
    "\n",
    "Provide Interface:\n",
    "Define methods in the class that provide interfaces for interacting with the data. \n",
    "These methods encapsulate functionality related to attributes, allowing controlled access and modification.\n",
    "\n",
    "Create Objects:\n",
    "Instantiate objects from the class, representing concrete instances of the abstract concept. \n",
    "These objects have access to the defined attributes and methods."
   ]
  },
  {
   "cell_type": "code",
   "execution_count": null,
   "id": "0cfd53e6-9ea4-42ab-bd35-ea9020d8c837",
   "metadata": {},
   "outputs": [],
   "source": [
    "Q5.\n",
    "\n",
    "No, we cannot create an instance of an abstract class in Python.\n",
    "Abstract classes are designed to be incomplete blueprints or templates that provide a common structure and behavior for its subclasses.\n",
    "They contain one or more abstract methods that have no implementation.\n",
    "\n",
    "An abstract method is a method declared within an abstract class using the @abstractmethod decorator, but it doesn't have a body (no actual implementation). \n",
    "Instead, it is meant to be implemented in the concrete subclasses that inherit from the abstract class.\n",
    "\n",
    "Since abstract classes are incomplete and may have undefined behavior for certain methods, Python does not allow you to directly create objects from abstract classes. \n",
    "Attempting to create an instance of an abstract class will result in a TypeError."
   ]
  }
 ],
 "metadata": {
  "kernelspec": {
   "display_name": "Python 3 (ipykernel)",
   "language": "python",
   "name": "python3"
  },
  "language_info": {
   "codemirror_mode": {
    "name": "ipython",
    "version": 3
   },
   "file_extension": ".py",
   "mimetype": "text/x-python",
   "name": "python",
   "nbconvert_exporter": "python",
   "pygments_lexer": "ipython3",
   "version": "3.10.8"
  }
 },
 "nbformat": 4,
 "nbformat_minor": 5
}
