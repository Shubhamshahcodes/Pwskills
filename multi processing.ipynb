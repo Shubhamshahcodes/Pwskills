{
 "cells": [
  {
   "cell_type": "markdown",
   "id": "c387cc21-7d96-4333-aec4-c976b48b1fb1",
   "metadata": {},
   "source": [
    "# Q1. What is multiprocessing in Python? Why is it useful?\n",
    "\n",
    "Multiprocessing in Python refers to the ability to create and run multiple processes concurrently to execute tasks in parallel. Each process has its own memory space, which allows for true parallelism and efficient utilization of multiple CPU cores. \n",
    "\n",
    "Multiprocessing is useful for tasks that are CPU-bound or computationally intensive, as it can significantly reduce the execution time by distributing the workload across multiple processes.\n",
    "\n",
    "# Q2. What are the differences between multiprocessing and multithreading?\n",
    "\n",
    "Multiprocessing involves running multiple processes concurrently, each with its own memory space, while multithreading involves running multiple threads within a single process, sharing the same memory space.\n",
    "\n",
    "Multiprocessing provides true parallelism, as each process runs independently, while multithreading achieves concurrency by interleaving the execution of threads within the same process.\n",
    "\n",
    "Multiprocessing is suitable for CPU-bound tasks, as it can take advantage of multiple CPU cores, while multithreading is more suitable for I/O-bound tasks, where threads can perform other tasks while waiting for I/O operations.\n",
    "\n",
    "Multiprocessing has higher memory overhead due to separate memory spaces for each process, while multithreading has lower memory overhead as threads share the same memory space."
   ]
  },
  {
   "cell_type": "markdown",
   "id": "542e5353-24fa-444c-a4c3-8d30fa923e8a",
   "metadata": {},
   "source": [
    "# Q3. Write a Python code to create a process using the multiprocessing module."
   ]
  },
  {
   "cell_type": "code",
   "execution_count": 1,
   "id": "f393e480-a883-4ddd-b4e0-da7937d948d7",
   "metadata": {},
   "outputs": [
    {
     "name": "stdout",
     "output_type": "stream",
     "text": [
      "Number: 10\n"
     ]
    }
   ],
   "source": [
    "import multiprocessing\n",
    "\n",
    "def print_number(number):\n",
    "    print(\"Number:\", number)\n",
    "\n",
    "if __name__ == \"__main__\":\n",
    "    process = multiprocessing.Process(target=print_number, args=(10,))\n",
    "    process.start()\n",
    "    process.join()\n"
   ]
  },
  {
   "cell_type": "markdown",
   "id": "ec6abf5d-db3e-4106-9bae-bcdfb435fecf",
   "metadata": {},
   "source": [
    "# Q4. What is a multiprocessing pool in Python? Why is it used?\n",
    "\n",
    "A multiprocessing pool in Python is a convenient abstraction that allows you to distribute tasks across a fixed number of worker processes. \n",
    "\n",
    "It provides a high-level interface for parallelizing tasks and managing worker processes. \n",
    "\n",
    "Multiprocessing pool is used to perform parallel processing of tasks, such as applying a function to multiple inputs, computing multiple independent tasks concurrently, etc."
   ]
  },
  {
   "cell_type": "markdown",
   "id": "4f8ce208-3764-4808-a68c-e7121343868d",
   "metadata": {},
   "source": [
    "# Q5. How can we create a pool of worker processes in Python using the multiprocessing module?\n",
    "\n",
    "You can create a pool of worker processes using the Pool class from the multiprocessing module. Here's an example:"
   ]
  },
  {
   "cell_type": "code",
   "execution_count": 2,
   "id": "32c0a13e-fc6c-4c03-9063-a8a3dd1c05ba",
   "metadata": {},
   "outputs": [
    {
     "name": "stdout",
     "output_type": "stream",
     "text": [
      "[1, 4, 9, 16]\n"
     ]
    }
   ],
   "source": [
    "import multiprocessing\n",
    "\n",
    "def square_number(x):\n",
    "    return x * x\n",
    "\n",
    "if __name__ == \"__main__\":\n",
    "    with multiprocessing.Pool(processes=4) as pool:\n",
    "        result = pool.map(square_number, [1, 2, 3, 4])\n",
    "        print(result)\n"
   ]
  },
  {
   "cell_type": "markdown",
   "id": "7b043e6e-a39b-4f9f-9285-636ef309cabd",
   "metadata": {},
   "source": [
    "# Q6. Write a Python program to create 4 processes, each process should print a different number using the multiprocessing module in Python"
   ]
  },
  {
   "cell_type": "code",
   "execution_count": 3,
   "id": "2fbb17db-fb2b-48d2-bb0d-6bed4cdb636d",
   "metadata": {},
   "outputs": [
    {
     "name": "stdout",
     "output_type": "stream",
     "text": [
      "Number: 12Number:\n",
      " \n",
      "Number: 3\n",
      "Number: 4\n"
     ]
    }
   ],
   "source": [
    "import multiprocessing\n",
    "\n",
    "def print_number(number):\n",
    "    print(\"Number:\", number)\n",
    "\n",
    "if __name__ == \"__main__\":\n",
    "    processes = []\n",
    "    for i in range(1, 5):\n",
    "        process = multiprocessing.Process(target=print_number, args=(i,))\n",
    "        processes.append(process)\n",
    "        process.start()\n",
    "    \n",
    "    for process in processes:\n",
    "        process.join()\n"
   ]
  },
  {
   "cell_type": "code",
   "execution_count": null,
   "id": "e253e1bd-416e-40ea-a5ef-20038c53d529",
   "metadata": {},
   "outputs": [],
   "source": [
    "In this program, we create four processes, each printing a different number using the print_number function. We use a list to keep track of the created processes and join them to ensure that the main process waits for all child processes to complete before exiting"
   ]
  }
 ],
 "metadata": {
  "kernelspec": {
   "display_name": "Python 3 (ipykernel)",
   "language": "python",
   "name": "python3"
  },
  "language_info": {
   "codemirror_mode": {
    "name": "ipython",
    "version": 3
   },
   "file_extension": ".py",
   "mimetype": "text/x-python",
   "name": "python",
   "nbconvert_exporter": "python",
   "pygments_lexer": "ipython3",
   "version": "3.10.8"
  }
 },
 "nbformat": 4,
 "nbformat_minor": 5
}
