{
 "cells": [
  {
   "cell_type": "markdown",
   "id": "9f78bfaf-89d8-4c2d-8d84-2d82a0ab94d6",
   "metadata": {},
   "source": [
    "# Q1:\n",
    "\n",
    "a) Artificial Intelligence (AI): Artificial Intelligence refers to the simulation of human intelligence processes by machines, particularly computer systems. These processes include learning (the acquisition of information and rules for using the information), reasoning (using rules to reach approximate or definite conclusions), and self-correction. An example of AI is virtual personal assistants like Siri, Alexa, or Google Assistant.\n",
    "\n",
    "\n",
    "b) Machine Learning (ML): Machine Learning is a subset of artificial intelligence that focuses on the development of algorithms that can learn from and make predictions or decisions based on data. Instead of being explicitly programmed to perform a task, ML algorithms are trained using large amounts of data. An example of ML is email spam filtering, where the algorithm learns to classify emails as spam or not spam based on examples provided by the user.\n",
    "\n",
    "\n",
    "c) Deep Learning (DL): Deep Learning is a subfield of machine learning that uses artificial neural networks with multiple layers to model and extract patterns from complex datasets. Deep learning algorithms attempt to mimic the structure and function of the human brain to process data and create patterns for decision-making. An example of DL is image recognition in which a neural network learns to recognize objects in images."
   ]
  },
  {
   "cell_type": "markdown",
   "id": "cff6b52d-f2b6-49d7-8dff-aa7fde38c0ee",
   "metadata": {},
   "source": [
    "# Q2:\n",
    "Supervised learning is a type of machine learning where the algorithm learns from labeled data, which is data that has been tagged with the correct answer. The algorithm learns to predict the output variable from input variables based on the labeled training data. Examples of supervised learning include:\n",
    "\n",
    "Predicting house prices based on features like location, size, and number of bedrooms.\n",
    "\n",
    "Classifying emails as spam or not spam based on their content.\n",
    "\n",
    "Recognizing handwritten digits in images."
   ]
  },
  {
   "cell_type": "markdown",
   "id": "3f38ef79-9ec9-4162-80cf-9a363f23c936",
   "metadata": {},
   "source": [
    "# Q3:\n",
    "\n",
    "\n",
    "Unsupervised learning is a type of machine learning where the algorithm learns from unlabeled data, meaning the algorithm is given only input data without corresponding output labels. The algorithm discovers patterns, relationships, and structures in the data without guidance. Examples of unsupervised learning include:\n",
    "\n",
    "Clustering similar customers based on their purchasing behavior.\n",
    "\n",
    "Dimensionality reduction techniques like Principal Component Analysis (PCA).\n",
    "\n",
    "Anomaly detection to identify unusual patterns that do not conform to expected behavior."
   ]
  },
  {
   "cell_type": "markdown",
   "id": "71e8a48a-3edf-4e81-8591-e8f0c0d9fa24",
   "metadata": {},
   "source": [
    "# Q4:\n",
    "\n",
    "AI (Artificial Intelligence) is the broader concept of machines being able to carry out tasks in a way that we would consider \"smart\".\n",
    "\n",
    "ML (Machine Learning) is a subset of AI that involves the development of algorithms that can learn from and make predictions or decisions based on data.\n",
    "\n",
    "DL (Deep Learning) is a subset of ML that uses artificial neural networks with multiple layers to model and extract patterns from complex datasets.\n",
    "\n",
    "DS (Data Science) is a multidisciplinary field that uses scientific methods, algorithms, processes, and systems to extract knowledge and insights from structured and unstructured data."
   ]
  },
  {
   "cell_type": "markdown",
   "id": "75b932a7-5c05-498d-b3c0-b213ad22e199",
   "metadata": {},
   "source": [
    "# Q5:\n",
    "\n",
    "Supervised learning requires labeled data for training, whereas unsupervised learning does not require labeled data.\n",
    "\n",
    "In supervised learning, the algorithm learns to make predictions based on input-output pairs, while in unsupervised learning, the algorithm discovers patterns and structures in the data.\n",
    "\n",
    "Semi-supervised learning lies between supervised and unsupervised learning, where the algorithm is trained on a combination of labeled and unlabeled data."
   ]
  },
  {
   "cell_type": "markdown",
   "id": "be9623f0-2589-47c1-89ad-4dcd2d3b14b1",
   "metadata": {},
   "source": [
    "# Q6:\n",
    "\n",
    "Train, test, and validation split is a common practice in machine learning where the available dataset is divided into three subsets:\n",
    "\n",
    "Training set: Used to train the model.\n",
    "\n",
    "Validation set: Used to tune hyperparameters and avoid overfitting.\n",
    "\n",
    "Test set: Used to evaluate the final performance of the trained model on unseen data.\n",
    "\n",
    "The importance of each term lies in ensuring the model's generalization and ability to perform well on new, unseen data."
   ]
  },
  {
   "cell_type": "markdown",
   "id": "29a1c0f7-5244-4f31-99c2-634ad4456e32",
   "metadata": {},
   "source": [
    "# Q7:\n",
    "Unsupervised learning can be used in anomaly detection by identifying patterns in data that deviate from expected behavior. \n",
    "\n",
    "By clustering normal data points together, unsupervised algorithms can detect outliers or anomalies that do not conform to the established patterns."
   ]
  },
  {
   "cell_type": "code",
   "execution_count": null,
   "id": "6d88732d-0c84-482f-9c9f-7b371328890d",
   "metadata": {},
   "outputs": [],
   "source": []
  }
 ],
 "metadata": {
  "kernelspec": {
   "display_name": "Python 3 (ipykernel)",
   "language": "python",
   "name": "python3"
  },
  "language_info": {
   "codemirror_mode": {
    "name": "ipython",
    "version": 3
   },
   "file_extension": ".py",
   "mimetype": "text/x-python",
   "name": "python",
   "nbconvert_exporter": "python",
   "pygments_lexer": "ipython3",
   "version": "3.10.8"
  }
 },
 "nbformat": 4,
 "nbformat_minor": 5
}
