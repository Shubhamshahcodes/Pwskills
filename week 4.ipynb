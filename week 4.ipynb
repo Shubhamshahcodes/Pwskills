{
 "cells": [
  {
   "cell_type": "code",
   "execution_count": 1,
   "id": "e84f5ee6-9b31-417d-9a50-908515e720b0",
   "metadata": {},
   "outputs": [],
   "source": [
    "\"Q1\"\n",
    "\n",
    "class Vehicle:\n",
    "    def __init__(self,name_of_vehicle,max_speed,average_of_vehicle):\n",
    "        self.name_of_vehicle=name_of_vehicle\n",
    "        self.max_speed=max_speed\n",
    "        self.average_of_vehicle=average_of_vehicle\n",
    "        \n",
    "    def return_Vehicle(self):\n",
    "        return self.name_of_vehicle, self.max_speed, self.average_of_vehicle"
   ]
  },
  {
   "cell_type": "code",
   "execution_count": 11,
   "id": "d431db93-50a3-4a1a-bd83-55e49e510371",
   "metadata": {},
   "outputs": [],
   "source": [
    "Bike=Vehicle(\"bike\",240,50)"
   ]
  },
  {
   "cell_type": "code",
   "execution_count": 12,
   "id": "572811a6-fc80-4590-a8ee-46365809bc74",
   "metadata": {},
   "outputs": [
    {
     "data": {
      "text/plain": [
       "('bike', 240, 50)"
      ]
     },
     "execution_count": 12,
     "metadata": {},
     "output_type": "execute_result"
    }
   ],
   "source": [
    "Bike.return_Vehicle()"
   ]
  },
  {
   "cell_type": "code",
   "execution_count": 13,
   "id": "dd2bacd3-7f1e-42ea-a4ff-3a431dbce036",
   "metadata": {},
   "outputs": [
    {
     "data": {
      "text/plain": [
       "50"
      ]
     },
     "execution_count": 13,
     "metadata": {},
     "output_type": "execute_result"
    }
   ],
   "source": [
    "Bike.average_of_vehicle"
   ]
  },
  {
   "cell_type": "code",
   "execution_count": 14,
   "id": "1dd57eb3-42ba-4978-811d-bec73000e4a3",
   "metadata": {},
   "outputs": [
    {
     "data": {
      "text/plain": [
       "240"
      ]
     },
     "execution_count": 14,
     "metadata": {},
     "output_type": "execute_result"
    }
   ],
   "source": [
    "Bike.max_speed"
   ]
  },
  {
   "cell_type": "code",
   "execution_count": 15,
   "id": "7900b343-2242-4f61-a1b9-ffff7d70e81f",
   "metadata": {},
   "outputs": [
    {
     "data": {
      "text/plain": [
       "'bike'"
      ]
     },
     "execution_count": 15,
     "metadata": {},
     "output_type": "execute_result"
    }
   ],
   "source": [
    "Bike.name_of_vehicle"
   ]
  },
  {
   "cell_type": "code",
   "execution_count": 27,
   "id": "d96c333e-2467-4bb0-9fb4-0e3086e94c3f",
   "metadata": {},
   "outputs": [],
   "source": [
    "\"Q2\"\n",
    "\n",
    "class car(Vehicle):\n",
    "    def seating_capacity(self,capacity):\n",
    "        return self.name_of_vehicle,capacity"
   ]
  },
  {
   "cell_type": "code",
   "execution_count": 28,
   "id": "eb0a9f83-5ef1-4f0a-a4a0-f5c98bf2d161",
   "metadata": {},
   "outputs": [],
   "source": [
    "car=car(\"toyota\",120,200)"
   ]
  },
  {
   "cell_type": "code",
   "execution_count": 29,
   "id": "d4868817-b50e-4a26-8f11-c45188551b9e",
   "metadata": {},
   "outputs": [
    {
     "data": {
      "text/plain": [
       "('toyota', 5)"
      ]
     },
     "execution_count": 29,
     "metadata": {},
     "output_type": "execute_result"
    }
   ],
   "source": [
    "car.seating_capacity(5)"
   ]
  },
  {
   "cell_type": "code",
   "execution_count": 30,
   "id": "1c1f2504-4c3a-438f-ab1e-ae1027b918db",
   "metadata": {},
   "outputs": [],
   "source": [
    "\"Q3\"\n",
    "\n",
    "#Multiple inheritance is a feature in OOPS where a class can inherit attributes and behaviors from more than one parent class.\n",
    "\n",
    "#example code\n",
    "\n",
    "class class1:\n",
    "    def test_class1(self):\n",
    "        return \"method 1\"\n",
    "    \n",
    "class class2(class1):\n",
    "    def test_class2(self):\n",
    "        return \"method 2\"\n",
    "\n",
    "class class3(class2):\n",
    "    pass\n",
    "    "
   ]
  },
  {
   "cell_type": "code",
   "execution_count": 31,
   "id": "93faa305-8c8a-46e2-a6a1-1bd90f7db314",
   "metadata": {},
   "outputs": [],
   "source": [
    "class_test_obj=class3()"
   ]
  },
  {
   "cell_type": "code",
   "execution_count": 32,
   "id": "515ed1ff-27b6-471a-b5f7-55762d4bdffa",
   "metadata": {},
   "outputs": [
    {
     "data": {
      "text/plain": [
       "'method 1'"
      ]
     },
     "execution_count": 32,
     "metadata": {},
     "output_type": "execute_result"
    }
   ],
   "source": [
    "class_test_obj.test_class1()"
   ]
  },
  {
   "cell_type": "code",
   "execution_count": 33,
   "id": "356cfcdc-f25f-40a8-a1de-224a4790b52b",
   "metadata": {},
   "outputs": [
    {
     "data": {
      "text/plain": [
       "'method 2'"
      ]
     },
     "execution_count": 33,
     "metadata": {},
     "output_type": "execute_result"
    }
   ],
   "source": [
    "class_test_obj.test_class2()"
   ]
  },
  {
   "cell_type": "code",
   "execution_count": 34,
   "id": "85b4e74a-804e-46a8-95ff-5c222cffac37",
   "metadata": {},
   "outputs": [],
   "source": [
    "\"Q4\"\n",
    "\n",
    "#In Python, getters and setters are specialized methods utilized to retrieve and modify the attributes of an object. \n",
    "#They are an integral part of the encapsulation concept, designed to manage access to the attributes of a class.\n",
    "\n",
    "class car:\n",
    "    \n",
    "    def __init__(self,speed,brand,model):\n",
    "        self.__speed=speed\n",
    "        self.__brand=brand\n",
    "        self.__model=model\n",
    "    \n",
    "    def set_speed(self,speed):\n",
    "        self.__speed=0 if speed<0 else speed\n",
    "    \n",
    "    def get_speed(self):\n",
    "        return self.__speed\n",
    "        "
   ]
  },
  {
   "cell_type": "code",
   "execution_count": 35,
   "id": "1e225192-c388-4226-8036-615634356a2c",
   "metadata": {},
   "outputs": [],
   "source": [
    "c=car(100,\"honda\",\"city\")"
   ]
  },
  {
   "cell_type": "code",
   "execution_count": 36,
   "id": "e77ddeda-ac5a-470e-8a38-0835a819a662",
   "metadata": {},
   "outputs": [
    {
     "data": {
      "text/plain": [
       "100"
      ]
     },
     "execution_count": 36,
     "metadata": {},
     "output_type": "execute_result"
    }
   ],
   "source": [
    "c._car__speed"
   ]
  },
  {
   "cell_type": "code",
   "execution_count": 37,
   "id": "05d467b1-819e-4a13-8ca6-1532ea31a5d8",
   "metadata": {},
   "outputs": [
    {
     "data": {
      "text/plain": [
       "'city'"
      ]
     },
     "execution_count": 37,
     "metadata": {},
     "output_type": "execute_result"
    }
   ],
   "source": [
    "c._car__model"
   ]
  },
  {
   "cell_type": "code",
   "execution_count": 38,
   "id": "97c685d9-e13b-483c-8bbe-58dbab62a5e0",
   "metadata": {},
   "outputs": [
    {
     "data": {
      "text/plain": [
       "'honda'"
      ]
     },
     "execution_count": 38,
     "metadata": {},
     "output_type": "execute_result"
    }
   ],
   "source": [
    "c._car__brand"
   ]
  },
  {
   "cell_type": "code",
   "execution_count": 39,
   "id": "abd53f5b-119f-4d6e-a2a5-de25cb695ce6",
   "metadata": {},
   "outputs": [],
   "source": [
    "\"Q5\"\n",
    "\n",
    "#Method overriding in Python refers to the ability of a subclass to provide a different implementation of a method that is already defined in its parent class. \n",
    "#When a subclass defines a method with the same name as that of its parent class, it overrides the behavior of the parent class method. \n",
    "#This allows the subclass to customize the behavior of the inherited method to suit its specific needs.\n",
    "\n",
    "class Animal:\n",
    "    def sound(self):\n",
    "        return \"Generic animal sound\"\n",
    "\n",
    "class Dog(Animal):\n",
    "    def sound(self):\n",
    "        return \"Woof! Woof!\"\n",
    "\n",
    "class Cat(Animal):\n",
    "    def sound(self):\n",
    "        return \"Meow!\"\n",
    "\n",
    "\n"
   ]
  },
  {
   "cell_type": "code",
   "execution_count": 40,
   "id": "b6e0003a-534b-42ef-b80f-974007e7cf52",
   "metadata": {},
   "outputs": [],
   "source": [
    "dog = Dog()\n",
    "cat = Cat()"
   ]
  },
  {
   "cell_type": "code",
   "execution_count": 42,
   "id": "ac1cbdcf-17c2-4709-81bf-25b02cd0870a",
   "metadata": {},
   "outputs": [
    {
     "data": {
      "text/plain": [
       "'Woof! Woof!'"
      ]
     },
     "execution_count": 42,
     "metadata": {},
     "output_type": "execute_result"
    }
   ],
   "source": [
    "dog.sound()"
   ]
  },
  {
   "cell_type": "code",
   "execution_count": 43,
   "id": "d174bc65-26ff-432c-a217-dbab0dbdf842",
   "metadata": {},
   "outputs": [
    {
     "data": {
      "text/plain": [
       "'Meow!'"
      ]
     },
     "execution_count": 43,
     "metadata": {},
     "output_type": "execute_result"
    }
   ],
   "source": [
    "cat.sound()"
   ]
  },
  {
   "cell_type": "code",
   "execution_count": null,
   "id": "4b319f49-96dc-4896-971a-048c74865400",
   "metadata": {},
   "outputs": [],
   "source": []
  }
 ],
 "metadata": {
  "kernelspec": {
   "display_name": "Python 3 (ipykernel)",
   "language": "python",
   "name": "python3"
  },
  "language_info": {
   "codemirror_mode": {
    "name": "ipython",
    "version": 3
   },
   "file_extension": ".py",
   "mimetype": "text/x-python",
   "name": "python",
   "nbconvert_exporter": "python",
   "pygments_lexer": "ipython3",
   "version": "3.10.8"
  }
 },
 "nbformat": 4,
 "nbformat_minor": 5
}
