{
 "cells": [
  {
   "cell_type": "code",
   "execution_count": null,
   "id": "b962d17a-536e-497b-8782-271c31b2bd27",
   "metadata": {},
   "outputs": [],
   "source": [
    "Q1. Which keyword is used to create a function? Create a function to return a list of odd numbers in the\n",
    "range of 1 to 25."
   ]
  },
  {
   "cell_type": "code",
   "execution_count": null,
   "id": "214a3513-fdf4-40c0-b598-a68bf64b6d5a",
   "metadata": {},
   "outputs": [],
   "source": [
    "Answer: def keyword is used to create a function."
   ]
  },
  {
   "cell_type": "code",
   "execution_count": 1,
   "id": "2c49b331-3d5c-4a48-aed3-511a54c76ba8",
   "metadata": {},
   "outputs": [],
   "source": [
    "def get_odd_numbers():\n",
    "    odd_numbers = []\n",
    "    for number in range(1, 26):\n",
    "        if number % 2 != 0:\n",
    "            odd_numbers.append(number)\n",
    "    return odd_numbers\n"
   ]
  },
  {
   "cell_type": "code",
   "execution_count": 3,
   "id": "c2b86bca-6528-4d47-ae61-077a3921d1cd",
   "metadata": {},
   "outputs": [
    {
     "data": {
      "text/plain": [
       "[1, 3, 5, 7, 9, 11, 13, 15, 17, 19, 21, 23, 25]"
      ]
     },
     "execution_count": 3,
     "metadata": {},
     "output_type": "execute_result"
    }
   ],
   "source": [
    "get_odd_numbers()"
   ]
  },
  {
   "cell_type": "code",
   "execution_count": null,
   "id": "27d0385a-9eba-4206-ba5c-960a528f8b23",
   "metadata": {},
   "outputs": [],
   "source": [
    "Q2. Why *args and **kwargs is used in some functions? Create a function each for *args and **kwargs\n",
    "to demonstrate their use."
   ]
  },
  {
   "cell_type": "code",
   "execution_count": null,
   "id": "be125d3f-dfd1-44e7-a4d5-fe3d5ec07b22",
   "metadata": {},
   "outputs": [],
   "source": [
    "''' Answer:\n",
    "    When a function has a variable number of parameters, Python's *args and **kwargs are utilised to manage them. \n",
    "    They provide flexibility and adaptability when designing functions by allowing a function to receive any number of positional arguments (*args) and keyword arguments (**kwargs), respectively.\n",
    "    \n"
   ]
  },
  {
   "cell_type": "code",
   "execution_count": 7,
   "id": "b0f4fee6-07c5-48b0-a2f4-637b62e7e7be",
   "metadata": {},
   "outputs": [],
   "source": [
    "''' Example of *args'''\n",
    "\n",
    "def test1(*args):\n",
    "    return args"
   ]
  },
  {
   "cell_type": "code",
   "execution_count": 8,
   "id": "77df1d52-3235-4e45-a1df-f422bba9e31b",
   "metadata": {},
   "outputs": [
    {
     "data": {
      "text/plain": [
       "(1, 2, 3)"
      ]
     },
     "execution_count": 8,
     "metadata": {},
     "output_type": "execute_result"
    }
   ],
   "source": [
    "test1(1,2,3)"
   ]
  },
  {
   "cell_type": "code",
   "execution_count": 9,
   "id": "0957f745-2415-4722-9a11-006872475ce9",
   "metadata": {},
   "outputs": [],
   "source": [
    "''' Example of *kwargs'''\n",
    "\n",
    "def test2(**kwargs):\n",
    "    return kwargs"
   ]
  },
  {
   "cell_type": "code",
   "execution_count": 11,
   "id": "1470caee-e36a-4ea5-9e1c-9267beadb7d1",
   "metadata": {},
   "outputs": [
    {
     "data": {
      "text/plain": [
       "{}"
      ]
     },
     "execution_count": 11,
     "metadata": {},
     "output_type": "execute_result"
    }
   ],
   "source": [
    "test2()"
   ]
  },
  {
   "cell_type": "code",
   "execution_count": null,
   "id": "898c6821-ff48-4efb-9f0d-e9dcb1c09b1d",
   "metadata": {},
   "outputs": [],
   "source": [
    "Q3. What is an iterator in python? Name the method used to initialise the iterator object and the method\n",
    "used for iteration. Use these methods to print the first five elements of the given list [2, 4, 6, 8, 10, 12, 14,\n",
    "16, 18, 20]."
   ]
  },
  {
   "cell_type": "code",
   "execution_count": null,
   "id": "c1f39e77-90c1-466b-b392-b143b959fa5f",
   "metadata": {},
   "outputs": [],
   "source": [
    "''' Answer:\n",
    "    A list, tuple, or dictionary are a few examples of collections of elements that may be iterated over in Python. \n",
    "    Without needing to be familiar with the collection's underlying workings, it offers a method to access and navigate the pieces one by one.\n",
    "\n",
    "1]Initialization technique: \n",
    "An iterator object is initialised using the iter() function. It returns an iterator object after receiving an iterable as an input.\n",
    "\n",
    "2]Iteration technique: \n",
    "The next() function is used to get the iterator's next element. It advances the internal state of the iterator and retrieves the following item in the iterator. \n",
    "\n"
   ]
  },
  {
   "cell_type": "code",
   "execution_count": 12,
   "id": "6f1e9525-98ee-4271-b6eb-2200ac00f3fe",
   "metadata": {},
   "outputs": [
    {
     "name": "stdout",
     "output_type": "stream",
     "text": [
      "2\n",
      "4\n",
      "6\n",
      "8\n",
      "10\n"
     ]
    }
   ],
   "source": [
    "l = [2, 4, 6, 8, 10, 12, 14, 16, 18, 20]\n",
    "\n",
    "\n",
    "my_iterator = iter(l)\n",
    "\n",
    "\n",
    "for i in range(5):\n",
    "    i = next(my_iterator)\n",
    "    print(i)\n"
   ]
  },
  {
   "cell_type": "code",
   "execution_count": null,
   "id": "0471df82-56f0-4e56-8fb3-fe57755ecc3a",
   "metadata": {},
   "outputs": [],
   "source": [
    "Q4. What is a generator function in python? Why yield keyword is used? Give an example of a generator\n",
    "function."
   ]
  },
  {
   "cell_type": "code",
   "execution_count": null,
   "id": "b9d56722-6a3d-41ec-bac3-56ef51bd4552",
   "metadata": {},
   "outputs": [],
   "source": [
    "'''\n",
    "Answer:\n",
    "A generator function in Python is a unique kind of function that returns an iterator that may be used to generate a series of values. \n",
    "Without having to store them all at once in memory, it enables you to produce a string of values on the fly. \n",
    "The yield keyword defines generator functions.\n",
    "\n",
    "In a generator function, the yield keyword is used to specify the points at which the function should halt execution and provide a value to the caller. \n",
    "The function momentarily suspends execution in response to a yield statement, keeps track of its internal state, and delivers the yielded value to the caller. \n",
    "\n"
   ]
  },
  {
   "cell_type": "code",
   "execution_count": 13,
   "id": "f793298e-4d6a-457c-95c4-a94b45ee9320",
   "metadata": {},
   "outputs": [],
   "source": [
    "def generate_primes():\n",
    "    primes = []\n",
    "    num = 2\n",
    "\n",
    "    while True:\n",
    "        if all(num % prime != 0 for prime in primes):\n",
    "            primes.append(num)\n",
    "            yield num\n",
    "        num += 1\n"
   ]
  },
  {
   "cell_type": "code",
   "execution_count": 14,
   "id": "cbdc03fb-19e6-4f81-87f8-5326eabe154e",
   "metadata": {},
   "outputs": [
    {
     "name": "stdout",
     "output_type": "stream",
     "text": [
      "2\n",
      "3\n",
      "5\n",
      "7\n",
      "11\n",
      "13\n",
      "17\n",
      "19\n",
      "23\n",
      "29\n",
      "31\n",
      "37\n",
      "41\n",
      "43\n",
      "47\n",
      "53\n",
      "59\n",
      "61\n",
      "67\n",
      "71\n"
     ]
    }
   ],
   "source": [
    "primes_generator = generate_primes()\n",
    "\n",
    "for _ in range(20):\n",
    "    prime = next(primes_generator)\n",
    "    print(prime)\n"
   ]
  },
  {
   "cell_type": "code",
   "execution_count": null,
   "id": "50a69ae8-f41e-43f8-9cdd-efea9eb54734",
   "metadata": {},
   "outputs": [],
   "source": [
    "Q6. Write a python program to print the first 10 Fibonacci numbers using a while loop."
   ]
  },
  {
   "cell_type": "code",
   "execution_count": 16,
   "id": "1b732925-6208-4bc2-9ea6-7f41f757a7ee",
   "metadata": {},
   "outputs": [],
   "source": [
    "def test_fib1():\n",
    "    a,b=0,1\n",
    "    while True:\n",
    "        yield a\n",
    "        a,b=b,a+b"
   ]
  },
  {
   "cell_type": "code",
   "execution_count": 17,
   "id": "4f85aeeb-4508-42c0-b304-b9a3556482cb",
   "metadata": {},
   "outputs": [],
   "source": [
    "fib=test_fib1()\n"
   ]
  },
  {
   "cell_type": "code",
   "execution_count": 18,
   "id": "486e8d87-a0fd-4d46-b8d6-326b05f193f0",
   "metadata": {},
   "outputs": [
    {
     "name": "stdout",
     "output_type": "stream",
     "text": [
      "0\n",
      "1\n",
      "1\n",
      "2\n",
      "3\n",
      "5\n",
      "8\n",
      "13\n",
      "21\n",
      "34\n"
     ]
    }
   ],
   "source": [
    "for i in range(10):\n",
    "    print(next(fib))"
   ]
  },
  {
   "cell_type": "code",
   "execution_count": null,
   "id": "657d96de-d6dc-4dd4-9af5-f79fd02c9e84",
   "metadata": {},
   "outputs": [],
   "source": [
    "Q7. Write a List Comprehension to iterate through the given string: ‘pwskills’.\n",
    "Expected output: ['p', 'w', 's', 'k', 'i', 'l', 'l', 's']"
   ]
  },
  {
   "cell_type": "code",
   "execution_count": 22,
   "id": "d553209f-e44a-4632-81f0-e60543622d1b",
   "metadata": {},
   "outputs": [
    {
     "name": "stdout",
     "output_type": "stream",
     "text": [
      "['p', 'w', 's', 'k', 'i', 'l', 'l', 's']\n"
     ]
    }
   ],
   "source": [
    "s = 'pwskills'\n",
    "l = [char for char in s]\n",
    "print(l)"
   ]
  },
  {
   "cell_type": "code",
   "execution_count": null,
   "id": "458b242a-112f-439e-8dd7-aa70ab040db1",
   "metadata": {},
   "outputs": [],
   "source": [
    "Q8. Write a python program to check whether a given number is Palindrome or not using a while loop."
   ]
  },
  {
   "cell_type": "code",
   "execution_count": 24,
   "id": "04a4354b-cdf8-42d7-be50-e4ae896bdaac",
   "metadata": {},
   "outputs": [
    {
     "name": "stdin",
     "output_type": "stream",
     "text": [
      "Enter a number:  11\n"
     ]
    },
    {
     "name": "stdout",
     "output_type": "stream",
     "text": [
      "11 is a palindrome\n"
     ]
    }
   ],
   "source": [
    "def is_palindrome(number):\n",
    "    original_number = number\n",
    "    reverse_number = 0\n",
    "\n",
    "    while number > 0:\n",
    "        remainder = number % 10\n",
    "        reverse_number = (reverse_number * 10) + remainder\n",
    "        number = number // 10\n",
    "\n",
    "    if original_number == reverse_number:\n",
    "        return True\n",
    "    else:\n",
    "        return False\n",
    "\n",
    "\n",
    "num = int(input(\"Enter a number: \"))\n",
    "\n",
    "if is_palindrome(num):\n",
    "    print(num, \"is a palindrome\")\n",
    "else:\n",
    "    print(num, \"is not a palindrome\")\n"
   ]
  },
  {
   "cell_type": "code",
   "execution_count": null,
   "id": "89b1ec23-090e-495c-9439-17bbe645e203",
   "metadata": {},
   "outputs": [],
   "source": []
  }
 ],
 "metadata": {
  "kernelspec": {
   "display_name": "Python 3 (ipykernel)",
   "language": "python",
   "name": "python3"
  },
  "language_info": {
   "codemirror_mode": {
    "name": "ipython",
    "version": 3
   },
   "file_extension": ".py",
   "mimetype": "text/x-python",
   "name": "python",
   "nbconvert_exporter": "python",
   "pygments_lexer": "ipython3",
   "version": "3.10.8"
  }
 },
 "nbformat": 4,
 "nbformat_minor": 5
}
