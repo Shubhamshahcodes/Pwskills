{
 "cells": [
  {
   "cell_type": "markdown",
   "id": "77ab1615-ded6-4a2c-bddd-d9ae787b9f8a",
   "metadata": {},
   "source": [
    "# 1. \n",
    "An ensemble technique in machine learning combines multiple individual models to improve the overall predictive performance.\n",
    "# 2. \n",
    "Ensemble techniques are used to enhance predictive accuracy, reduce overfitting, and increase robustness by aggregating the predictions of multiple models.\n",
    "# 3. \n",
    "Bagging, or Bootstrap Aggregating, is an ensemble technique that involves training multiple models independently on different random subsets of the training data and then combining their predictions through averaging or voting.\n",
    "# 4. \n",
    "Boosting is an ensemble technique that combines multiple weak learners sequentially, with each subsequent model focusing on the mistakes made by the previous ones, thus improving overall predictive performance.\n",
    "# 5. \n",
    "The benefits of using ensemble techniques include improved predictive accuracy, reduced overfitting, increased robustness to noise, and better generalization to unseen data.\n",
    "# 6. \n",
    "While ensemble techniques often outperform individual models, they are not guaranteed to do so in all cases, and their effectiveness depends on factors such as the quality of the base models, the diversity of the ensemble, and the characteristics of the dataset.\n",
    "# 7. \n",
    "The confidence interval using bootstrap is calculated by repeatedly resampling the original dataset with replacement, calculating the statistic of interest for each resample, and then determining the range of values that covers a specified percentage of the distribution of the statistic.\n",
    "# 8. \n",
    "Bootstrap is a resampling technique that involves drawing random samples with replacement from the original dataset to estimate the sampling distribution of a statistic. The steps involved in bootstrap are:\n",
    "   - Draw a random sample with replacement from the original dataset.\n",
    "   - Calculate the statistic of interest (e.g., mean, median, standard deviation) for the resampled data.\n",
    "   - Repeat the above steps multiple times (often thousands of times) to create a distribution of the statistic.\n",
    "   - Use the distribution of the statistic to estimate confidence intervals or assess variability.\n",
    "# 9. \n",
    "To estimate the 95% confidence interval for the population mean height using bootstrap, the researcher would:\n",
    "   - Draw multiple bootstrap samples (with replacement) from the observed sample of 50 tree heights.\n",
    "   - Calculate the mean height for each bootstrap sample.\n",
    "   - Determine the 2.5th and 97.5th percentiles of the distribution of bootstrap sample means, which represent the lower and upper bounds of the 95% confidence interval, respectively."
   ]
  },
  {
   "cell_type": "code",
   "execution_count": 1,
   "id": "aa77a969-4a83-4f42-922b-fc6be06c1bfb",
   "metadata": {},
   "outputs": [
    {
     "name": "stdout",
     "output_type": "stream",
     "text": [
      "95% Confidence Interval for Population Mean Height:\n",
      "[15. 15.]\n"
     ]
    }
   ],
   "source": [
    "import numpy as np\n",
    "\n",
    "# Sample data (height of 50 trees)\n",
    "sample_heights = np.array([15] * 50)  # Assuming all trees have a height of 15 meters\n",
    "\n",
    "# Number of bootstrap samples\n",
    "num_samples = 1000\n",
    "\n",
    "# Function to calculate the mean height from a bootstrap sample\n",
    "def bootstrap_mean(sample):\n",
    "    return np.mean(np.random.choice(sample, size=len(sample), replace=True))\n",
    "\n",
    "# Generate bootstrap samples and calculate mean heights\n",
    "bootstrap_means = [bootstrap_mean(sample_heights) for _ in range(num_samples)]\n",
    "\n",
    "# Calculate the 95% confidence interval\n",
    "confidence_interval = np.percentile(bootstrap_means, [2.5, 97.5])\n",
    "\n",
    "print(\"95% Confidence Interval for Population Mean Height:\")\n",
    "print(confidence_interval)\n"
   ]
  }
 ],
 "metadata": {
  "kernelspec": {
   "display_name": "Python 3 (ipykernel)",
   "language": "python",
   "name": "python3"
  },
  "language_info": {
   "codemirror_mode": {
    "name": "ipython",
    "version": 3
   },
   "file_extension": ".py",
   "mimetype": "text/x-python",
   "name": "python",
   "nbconvert_exporter": "python",
   "pygments_lexer": "ipython3",
   "version": "3.10.8"
  }
 },
 "nbformat": 4,
 "nbformat_minor": 5
}
