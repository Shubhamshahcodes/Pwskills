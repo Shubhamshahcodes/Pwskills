{
 "cells": [
  {
   "cell_type": "markdown",
   "id": "5c509575-4027-4058-a525-6bcef2f1e3bd",
   "metadata": {},
   "source": [
    "# Q1. What is a database? Differentiate between SQL and NoSQL databases.\n",
    "\n",
    "A database is a structured collection of data that is organized and stored in a computer system. It allows for efficient storage, retrieval, and manipulation of data.\n",
    "SQL (Structured Query Language) databases are relational databases that store data in tables and use SQL to query and manipulate data. Examples include MySQL, PostgreSQL, and SQLite.\n",
    "NoSQL databases, on the other hand, are non-relational databases that store data in a flexible, schema-less format, such as key-value pairs, documents, or graphs. Examples include MongoDB, Cassandra, and Redis."
   ]
  },
  {
   "cell_type": "markdown",
   "id": "756586b7-8d07-4a22-a8a0-08508728dd63",
   "metadata": {},
   "source": [
    "# Q2. What is DDL? Explain why CREATE, DROP, ALTER, and TRUNCATE are used with an example.\n",
    "\n",
    "DDL (Data Definition Language) is a subset of SQL used to define and manage the structure of database objects.\n",
    "\n",
    "CREATE is used to create new database objects, such as tables, indexes, or views.\n",
    "\n",
    "DROP is used to delete existing database objects.\n",
    "\n",
    "ALTER is used to modify the structure of existing database objects, such as adding, modifying, or dropping columns in a table.\n",
    "\n",
    "TRUNCATE is used to delete all rows from a table without deleting the table itself."
   ]
  },
  {
   "cell_type": "code",
   "execution_count": 1,
   "id": "e0cf9327-c4bb-4b05-a243-e10899ef6b2a",
   "metadata": {},
   "outputs": [
    {
     "ename": "SyntaxError",
     "evalue": "invalid syntax (1949499812.py, line 3)",
     "output_type": "error",
     "traceback": [
      "\u001b[0;36m  Cell \u001b[0;32mIn[1], line 3\u001b[0;36m\u001b[0m\n\u001b[0;31m    CREATE TABLE employees (\u001b[0m\n\u001b[0m           ^\u001b[0m\n\u001b[0;31mSyntaxError\u001b[0m\u001b[0;31m:\u001b[0m invalid syntax\n"
     ]
    }
   ],
   "source": [
    "# Example\n",
    "\n",
    "CREATE TABLE employees (\n",
    "    id INT PRIMARY KEY,\n",
    "    name VARCHAR(50),\n",
    "    department VARCHAR(50)\n",
    ");\n",
    "\n",
    "ALTER TABLE employees ADD COLUMN salary INT;\n",
    "\n",
    "DROP TABLE employees;\n",
    "\n",
    "TRUNCATE TABLE employees;\n"
   ]
  },
  {
   "cell_type": "markdown",
   "id": "3c740f10-17a1-4dfd-ac2f-1212cf786458",
   "metadata": {},
   "source": [
    "# Q3. What is DML? Explain INSERT, UPDATE, and DELETE with an example.\n",
    "\n",
    "DML (Data Manipulation Language) is a subset of SQL used to manipulate data stored in database objects.\n",
    "\n",
    "INSERT is used to add new rows of data into a table.\n",
    "\n",
    "UPDATE is used to modify existing data in a table.\n",
    "\n",
    "DELETE is used to remove rows of data from a table."
   ]
  },
  {
   "cell_type": "code",
   "execution_count": null,
   "id": "44482e59-2725-46f1-a48f-80a313b1993b",
   "metadata": {},
   "outputs": [],
   "source": [
    "# Example \n",
    "\n",
    "INSERT INTO employees (id, name, department) VALUES (1, 'John', 'HR');\n",
    "\n",
    "UPDATE employees SET department = 'Finance' WHERE id = 1;\n",
    "\n",
    "DELETE FROM employees WHERE id = 1;\n"
   ]
  },
  {
   "cell_type": "markdown",
   "id": "785198ca-f814-4f25-81bb-37ead45bd6ea",
   "metadata": {},
   "source": [
    "# Q4. What is DQL? Explain SELECT with an example.\n",
    "\n",
    "DQL (Data Query Language) is a subset of SQL used to retrieve data from a database.\n",
    "\n",
    "SELECT is used to query data from one or more tables based on specified criteria.\n",
    "\n",
    "Example:\n",
    "\n",
    "SELECT * FROM employees;\n",
    "\n",
    "SELECT name, department FROM employees WHERE salary > 50000;\n"
   ]
  },
  {
   "cell_type": "markdown",
   "id": "efa740d9-34fb-4490-bc3e-edf62ac674cc",
   "metadata": {},
   "source": [
    "# Q5. Explain Primary Key and Foreign Key.\n",
    "\n",
    "Primary Key: A primary key is a column or a set of columns that uniquely identifies each row in a table. It enforces entity integrity and ensures that each row is uniquely identifiable. Only one primary key is allowed per table.\n",
    "\n",
    "Foreign Key: A foreign key is a column or a set of columns in a table that establishes a link between data in two tables. It enforces referential integrity by defining a relationship between the tables based on the values of the foreign key and the primary key in another table."
   ]
  },
  {
   "cell_type": "markdown",
   "id": "2488fd44-e4b3-408b-8c74-4436880a6739",
   "metadata": {},
   "source": [
    "# Q6. Write a Python code to connect MySQL to Python. Explain the cursor() and execute() method."
   ]
  },
  {
   "cell_type": "code",
   "execution_count": 2,
   "id": "76826ec8-aeec-4697-b969-76422a1bd9a1",
   "metadata": {},
   "outputs": [
    {
     "ename": "ModuleNotFoundError",
     "evalue": "No module named 'mysql'",
     "output_type": "error",
     "traceback": [
      "\u001b[0;31m---------------------------------------------------------------------------\u001b[0m",
      "\u001b[0;31mModuleNotFoundError\u001b[0m                       Traceback (most recent call last)",
      "Cell \u001b[0;32mIn[2], line 1\u001b[0m\n\u001b[0;32m----> 1\u001b[0m \u001b[38;5;28;01mimport\u001b[39;00m \u001b[38;5;21;01mmysql\u001b[39;00m\u001b[38;5;21;01m.\u001b[39;00m\u001b[38;5;21;01mconnector\u001b[39;00m\n\u001b[1;32m      3\u001b[0m \u001b[38;5;66;03m# Connect to MySQL database\u001b[39;00m\n\u001b[1;32m      4\u001b[0m conn \u001b[38;5;241m=\u001b[39m mysql\u001b[38;5;241m.\u001b[39mconnector\u001b[38;5;241m.\u001b[39mconnect(\n\u001b[1;32m      5\u001b[0m     host\u001b[38;5;241m=\u001b[39m\u001b[38;5;124m\"\u001b[39m\u001b[38;5;124mlocalhost\u001b[39m\u001b[38;5;124m\"\u001b[39m,\n\u001b[1;32m      6\u001b[0m     user\u001b[38;5;241m=\u001b[39m\u001b[38;5;124m\"\u001b[39m\u001b[38;5;124musername\u001b[39m\u001b[38;5;124m\"\u001b[39m,\n\u001b[1;32m      7\u001b[0m     password\u001b[38;5;241m=\u001b[39m\u001b[38;5;124m\"\u001b[39m\u001b[38;5;124mpassword\u001b[39m\u001b[38;5;124m\"\u001b[39m,\n\u001b[1;32m      8\u001b[0m     database\u001b[38;5;241m=\u001b[39m\u001b[38;5;124m\"\u001b[39m\u001b[38;5;124mdatabase_name\u001b[39m\u001b[38;5;124m\"\u001b[39m\n\u001b[1;32m      9\u001b[0m )\n",
      "\u001b[0;31mModuleNotFoundError\u001b[0m: No module named 'mysql'"
     ]
    }
   ],
   "source": [
    "import mysql.connector\n",
    "\n",
    "# Connect to MySQL database\n",
    "conn = mysql.connector.connect(\n",
    "    host=\"localhost\",\n",
    "    user=\"username\",\n",
    "    password=\"password\",\n",
    "    database=\"database_name\"\n",
    ")\n",
    "\n",
    "# Create cursor object\n",
    "cursor = conn.cursor()\n",
    "\n",
    "# Execute SQL query\n",
    "cursor.execute(\"SELECT * FROM employees\")\n",
    "\n",
    "# Fetch results\n",
    "results = cursor.fetchall()\n",
    "for row in results:\n",
    "    print(row)\n",
    "\n",
    "# Close cursor and connection\n",
    "cursor.close()\n",
    "conn.close()\n"
   ]
  },
  {
   "cell_type": "code",
   "execution_count": 3,
   "id": "15a6f9f0-7400-4328-ac5f-c4cd1d0ed8d6",
   "metadata": {},
   "outputs": [],
   "source": [
    "#cursor(): The cursor() method creates a cursor object, which is used to execute SQL queries and fetch results from the database.\n",
    "#execute(): The execute() method is used to execute an SQL query passed as a parameter to the method. It can execute DDL, DML, and DQL queries. After executing the query, the cursor object is positioned at the first row of the result set."
   ]
  },
  {
   "cell_type": "markdown",
   "id": "d848f649-f51a-4ac4-923c-2af8e5a6abb7",
   "metadata": {},
   "source": [
    "# Q7. Give the order of execution of SQL clauses in an SQL query.\n",
    "\n",
    "The order of execution of SQL clauses in an SQL query is as follows:\n",
    "\n",
    "SELECT\n",
    "\n",
    "FROM\n",
    "\n",
    "WHERE\n",
    "\n",
    "GROUP BY\n",
    "\n",
    "HAVING\n",
    "\n",
    "ORDER BY\n",
    "\n",
    "LIMIT"
   ]
  },
  {
   "cell_type": "code",
   "execution_count": null,
   "id": "f96b2223-a745-40f7-82f3-55705fcd8f99",
   "metadata": {},
   "outputs": [],
   "source": []
  }
 ],
 "metadata": {
  "kernelspec": {
   "display_name": "Python 3 (ipykernel)",
   "language": "python",
   "name": "python3"
  },
  "language_info": {
   "codemirror_mode": {
    "name": "ipython",
    "version": 3
   },
   "file_extension": ".py",
   "mimetype": "text/x-python",
   "name": "python",
   "nbconvert_exporter": "python",
   "pygments_lexer": "ipython3",
   "version": "3.10.8"
  }
 },
 "nbformat": 4,
 "nbformat_minor": 5
}
