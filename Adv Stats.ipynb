{
 "cells": [
  {
   "cell_type": "markdown",
   "id": "60e2c12f-8be4-4343-84a9-ad568f01db49",
   "metadata": {},
   "source": [
    "Q1. The probability density function (PDF) is a function that describes the likelihood of a continuous random variable taking on a particular value. It represents the relative likelihood of observing different outcomes in a probability distribution."
   ]
  },
  {
   "cell_type": "markdown",
   "id": "106e5a62-a720-4e3b-82f4-87a046e178c3",
   "metadata": {},
   "source": [
    "Q2. There are several types of probability distributions, including:\n",
    "\n",
    "Normal Distribution\n",
    "Binomial Distribution\n",
    "Poisson Distribution\n",
    "Exponential Distribution\n",
    "Uniform Distribution\n",
    "Bernoulli Distribution\n",
    "Geometric Distribution"
   ]
  },
  {
   "cell_type": "markdown",
   "id": "1666fbce-c343-4283-9b85-3dd21fe41558",
   "metadata": {},
   "source": [
    "Q3. Here's a Python function to calculate the probability density function (PDF) of a normal distribution at a given point:"
   ]
  },
  {
   "cell_type": "code",
   "execution_count": 1,
   "id": "40b40783-9755-41b1-89f7-45e799c29f54",
   "metadata": {},
   "outputs": [
    {
     "name": "stdout",
     "output_type": "stream",
     "text": [
      "Requirement already satisfied: numpy in /opt/conda/lib/python3.10/site-packages (1.23.5)\n",
      "Requirement already satisfied: scipy in /opt/conda/lib/python3.10/site-packages (1.9.3)\n",
      "Note: you may need to restart the kernel to use updated packages.\n"
     ]
    }
   ],
   "source": [
    "pip install numpy scipy\n"
   ]
  },
  {
   "cell_type": "code",
   "execution_count": 19,
   "id": "3490b313-0ad5-4ab7-ad6b-0b32db612729",
   "metadata": {},
   "outputs": [
    {
     "name": "stdout",
     "output_type": "stream",
     "text": [
      "Requirement already satisfied: numpy in /opt/conda/lib/python3.10/site-packages (1.23.5)\n",
      "Requirement already satisfied: scipy in /opt/conda/lib/python3.10/site-packages (1.9.3)\n",
      "Requirement already satisfied: numpy<1.26.0,>=1.18.5 in /opt/conda/lib/python3.10/site-packages (from scipy) (1.23.5)\n"
     ]
    }
   ],
   "source": [
    "!pip install numpy\n",
    "!pip install scipy\n",
    "import numpy as np\n",
    "import scipy.stats\n",
    "\n",
    "def normal_pdf(x, mean, std_dev):\n",
    "    return scipy.stats.norm.pdf(x, mean, std_dev)\n"
   ]
  },
  {
   "cell_type": "markdown",
   "id": "c9678c09-395b-4cbd-997e-79657c2f7da6",
   "metadata": {},
   "source": [
    "Q4. Properties of the binomial distribution include:\n",
    "\n",
    "It models the number of successes in a fixed number of independent Bernoulli trials.\n",
    "It has two parameters: the number of trials (n) and the probability of success (p).\n",
    "Each trial is independent and has only two possible outcomes: success or failure.\n",
    "The probability of success (p) remains constant for each trial.\n",
    "Examples of events where binomial distribution can be applied:\n",
    "\n",
    "Flipping a coin multiple times and counting the number of heads.\n",
    "Conducting a series of medical tests and counting the number of positive results."
   ]
  },
  {
   "cell_type": "markdown",
   "id": "dad4fa25-3dd9-4afa-a647-b1aa7bafd57b",
   "metadata": {},
   "source": [
    "Q5. Here's how you can generate a random sample of size 1000 from a binomial distribution with a probability of success 0.4 and plot a histogram using matplotlib:"
   ]
  },
  {
   "cell_type": "code",
   "execution_count": 16,
   "id": "ccfbc88f-2995-452a-bc38-2190f9f043a2",
   "metadata": {},
   "outputs": [
    {
     "data": {
      "image/png": "[encoded data removed]",
      "text/plain": [
       "<Figure size 640x480 with 1 Axes>"
      ]
     },
     "metadata": {},
     "output_type": "display_data"
    }
   ],
   "source": [
    "import numpy as np\n",
    "import matplotlib.pyplot as plt\n",
    "\n",
    "# Generate random sample from binomial distribution\n",
    "sample = np.random.binomial(n=1, p=0.4, size=1000)\n",
    "\n",
    "# Plot histogram\n",
    "plt.hist(sample, bins=2, edgecolor='black')\n",
    "plt.xlabel('Outcome')\n",
    "plt.ylabel('Frequency')\n",
    "plt.title('Binomial Distribution (n=1, p=0.4)')\n",
    "plt.show()\n"
   ]
  },
  {
   "cell_type": "markdown",
   "id": "b4bbe58c-2e5c-4553-85cf-2913454ec2d9",
   "metadata": {},
   "source": [
    "Q6. Here's a Python function to calculate the cumulative distribution function (CDF) of a Poisson distribution with a given mean at a given point:"
   ]
  },
  {
   "cell_type": "code",
   "execution_count": 20,
   "id": "a58d6feb-d1ba-410a-9c18-9ce793fb0395",
   "metadata": {},
   "outputs": [
    {
     "name": "stdout",
     "output_type": "stream",
     "text": [
      "Requirement already satisfied: numpy in /opt/conda/lib/python3.10/site-packages (1.23.5)\n"
     ]
    }
   ],
   "source": [
    "!pip install numpy\n",
    "import numpy as np\n",
    "import scipy.stats\n",
    "\n",
    "\n",
    "def poisson_cdf(x, mean):\n",
    "    return scipy.stats.poisson.cdf(x, mean)\n"
   ]
  },
  {
   "cell_type": "markdown",
   "id": "9c3c5086-bede-48ca-b350-6769d2ee68fe",
   "metadata": {},
   "source": [
    "7. The main differences between the binomial distribution and the Poisson distribution are:\n",
    "\n",
    "Binomial distribution models the number of successes in a fixed number of trials, while Poisson distribution models the number of events occurring in a fixed interval of time or space.\n",
    "Binomial distribution deals with discrete outcomes (success or failure), while Poisson distribution deals with counts of events that can theoretically range from 0 to infinity.\n",
    "In the binomial distribution, the number of trials is fixed and finite, while in the Poisson distribution, the number of events can be infinite."
   ]
  },
  {
   "cell_type": "markdown",
   "id": "51b92d9a-a716-43d9-9c56-0fa43fe07c77",
   "metadata": {},
   "source": [
    "Q8. Here's how you can generate a random sample of size 1000 from a Poisson distribution with a mean of 5 and calculate the sample mean and variance:"
   ]
  },
  {
   "cell_type": "code",
   "execution_count": 21,
   "id": "37c99bbc-66fb-4bbf-9cba-1c48ebff6cb3",
   "metadata": {},
   "outputs": [
    {
     "name": "stdout",
     "output_type": "stream",
     "text": [
      "Sample Mean: 5.016\n",
      "Sample Variance: 4.933744\n"
     ]
    }
   ],
   "source": [
    "import numpy as np\n",
    "\n",
    "# Generate random sample from Poisson distribution\n",
    "sample = np.random.poisson(lam=5, size=1000)\n",
    "\n",
    "# Calculate sample mean and variance\n",
    "sample_mean = np.mean(sample)\n",
    "sample_variance = np.var(sample)\n",
    "\n",
    "print(\"Sample Mean:\", sample_mean)\n",
    "print(\"Sample Variance:\", sample_variance)\n"
   ]
  },
  {
   "cell_type": "code",
   "execution_count": null,
   "id": "5d5f2225-24c7-45c1-9dc6-eb1dbb45be04",
   "metadata": {},
   "outputs": [],
   "source": []
  }
 ],
 "metadata": {
  "kernelspec": {
   "display_name": "Python 3 (ipykernel)",
   "language": "python",
   "name": "python3"
  },
  "language_info": {
   "codemirror_mode": {
    "name": "ipython",
    "version": 3
   },
   "file_extension": ".py",
   "mimetype": "text/x-python",
   "name": "python",
   "nbconvert_exporter": "python",
   "pygments_lexer": "ipython3",
   "version": "3.10.8"
  }
 },
 "nbformat": 4,
 "nbformat_minor": 5
}
